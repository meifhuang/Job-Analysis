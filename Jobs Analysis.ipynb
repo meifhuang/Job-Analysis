{
 "cells": [
  {
   "cell_type": "markdown",
   "id": "bb3e1f76",
   "metadata": {},
   "source": [
    "<h1> Introduction </h1>"
   ]
  },
  {
   "cell_type": "markdown",
   "id": "b8f857dc",
   "metadata": {},
   "source": [
    "The objective of this data analysis is to gain valuable insights into the current job market for Software Engineers and Web Developers. The data was collected by web scraping from the Indeed website on July 25th, 2023. The analysis includes information such as job titles, company details, locations, job types, salary ranges, and the specific skills required for each job posting. The search terms used for web scraping include \"Software Engineer,\" \"Software Developer,\" and \"Web Developer.\" Additionally, the results were filtered to include only postings that were posted within the last 14 days to ensure the data reflects current job opportunities."
   ]
  },
  {
   "cell_type": "markdown",
   "id": "f0d4fc9d",
   "metadata": {},
   "source": [
    "<h3> Installation </h3>"
   ]
  },
  {
   "cell_type": "code",
   "execution_count": 1,
   "id": "37d266ba",
   "metadata": {},
   "outputs": [],
   "source": [
    "# !pip install spacy\n",
    "# !pip install --upgrade pip"
   ]
  },
  {
   "cell_type": "markdown",
   "id": "f1d46d37",
   "metadata": {},
   "source": [
    "<h3> Import Statements </h3>"
   ]
  },
  {
   "cell_type": "code",
   "execution_count": 2,
   "id": "1f6de820",
   "metadata": {},
   "outputs": [
    {
     "name": "stderr",
     "output_type": "stream",
     "text": [
      "/Users/meihuang/anaconda3/lib/python3.10/site-packages/tqdm/auto.py:22: TqdmWarning: IProgress not found. Please update jupyter and ipywidgets. See https://ipywidgets.readthedocs.io/en/stable/user_install.html\n",
      "  from .autonotebook import tqdm as notebook_tqdm\n"
     ]
    }
   ],
   "source": [
    "import pandas as pd\n",
    "import spacy\n",
    "nlp = spacy.load('en_core_web_sm')\n",
    "import numpy as np\n",
    "import plotly.express as px\n",
    "import seaborn as sns\n",
    "import matplotlib.pyplot as plt\n",
    "import re"
   ]
  },
  {
   "cell_type": "markdown",
   "id": "c92c5d87",
   "metadata": {},
   "source": [
    "<h3> Notebook Presentation </h3>"
   ]
  },
  {
   "cell_type": "code",
   "execution_count": 143,
   "id": "4c9f60d1",
   "metadata": {},
   "outputs": [],
   "source": [
    "pd.options.display.float_format = '{:,.2f}'.format"
   ]
  },
  {
   "cell_type": "markdown",
   "id": "327d881e",
   "metadata": {},
   "source": [
    "<h3> Reading data </h3>"
   ]
  },
  {
   "cell_type": "code",
   "execution_count": 4,
   "id": "d0629c91",
   "metadata": {},
   "outputs": [],
   "source": [
    "df_data = pd.read_csv('software_engineer_jobs_USA.csv',sep=';')"
   ]
  },
  {
   "cell_type": "markdown",
   "id": "30ada8c6",
   "metadata": {},
   "source": [
    "<h3> Data Exploration </h3>"
   ]
  },
  {
   "cell_type": "code",
   "execution_count": 5,
   "id": "c468257a",
   "metadata": {},
   "outputs": [
    {
     "name": "stdout",
     "output_type": "stream",
     "text": [
      "(Rows,Columns): (3556, 5)\n"
     ]
    }
   ],
   "source": [
    "print(f'(Rows,Columns): {df_data.shape}')"
   ]
  },
  {
   "cell_type": "code",
   "execution_count": 6,
   "id": "6685a627",
   "metadata": {
    "scrolled": false
   },
   "outputs": [
    {
     "data": {
      "text/html": [
       "<div>\n",
       "<style scoped>\n",
       "    .dataframe tbody tr th:only-of-type {\n",
       "        vertical-align: middle;\n",
       "    }\n",
       "\n",
       "    .dataframe tbody tr th {\n",
       "        vertical-align: top;\n",
       "    }\n",
       "\n",
       "    .dataframe thead th {\n",
       "        text-align: right;\n",
       "    }\n",
       "</style>\n",
       "<table border=\"1\" class=\"dataframe\">\n",
       "  <thead>\n",
       "    <tr style=\"text-align: right;\">\n",
       "      <th></th>\n",
       "      <th>job_title</th>\n",
       "      <th>company_name</th>\n",
       "      <th>company_location</th>\n",
       "      <th>salary</th>\n",
       "      <th>skills</th>\n",
       "    </tr>\n",
       "  </thead>\n",
       "  <tbody>\n",
       "    <tr>\n",
       "      <th>3551</th>\n",
       "      <td>Software Developer</td>\n",
       "      <td>CSSI, Inc.</td>\n",
       "      <td>Washington, DC 20024 \\n(Southwest Waterfront a...</td>\n",
       "      <td>NaN</td>\n",
       "      <td>['JavaScript', 'Java', 'C#', 'Go', 'SQL', 'CSS...</td>\n",
       "    </tr>\n",
       "    <tr>\n",
       "      <th>3552</th>\n",
       "      <td>Software Engineer</td>\n",
       "      <td>Calfus</td>\n",
       "      <td>Pleasanton, CA</td>\n",
       "      <td>NaN</td>\n",
       "      <td>['Java', 'Go', 'SQL', 'NoSQL', 'React', 'Node....</td>\n",
       "    </tr>\n",
       "    <tr>\n",
       "      <th>3553</th>\n",
       "      <td>Python Developer</td>\n",
       "      <td>Gatix E Solution</td>\n",
       "      <td>Texas City, TX</td>\n",
       "      <td>$30 - $60 an hour</td>\n",
       "      <td>['Python', 'JavaScript', 'Java', 'Go', 'SQL', ...</td>\n",
       "    </tr>\n",
       "    <tr>\n",
       "      <th>3554</th>\n",
       "      <td>Associate Software Engineer</td>\n",
       "      <td>McKesson</td>\n",
       "      <td>Atlanta, GA 30329</td>\n",
       "      <td>$38.08 - $63.46 an hour</td>\n",
       "      <td>['JavaScript', 'Java', 'C#', 'Go', 'TypeScript...</td>\n",
       "    </tr>\n",
       "    <tr>\n",
       "      <th>3555</th>\n",
       "      <td>Software Engineer</td>\n",
       "      <td>X-Force, LLC.</td>\n",
       "      <td>Fort Leavenworth, KS 66027</td>\n",
       "      <td>$50 an hour</td>\n",
       "      <td>['JavaScript', 'Java', 'C#', 'SQL', 'HTML', 'A...</td>\n",
       "    </tr>\n",
       "  </tbody>\n",
       "</table>\n",
       "</div>"
      ],
      "text/plain": [
       "                        job_title      company_name  \\\n",
       "3551           Software Developer        CSSI, Inc.   \n",
       "3552            Software Engineer            Calfus   \n",
       "3553             Python Developer  Gatix E Solution   \n",
       "3554  Associate Software Engineer          McKesson   \n",
       "3555            Software Engineer     X-Force, LLC.   \n",
       "\n",
       "                                       company_location  \\\n",
       "3551  Washington, DC 20024 \\n(Southwest Waterfront a...   \n",
       "3552                                     Pleasanton, CA   \n",
       "3553                                     Texas City, TX   \n",
       "3554                                  Atlanta, GA 30329   \n",
       "3555                         Fort Leavenworth, KS 66027   \n",
       "\n",
       "                       salary  \\\n",
       "3551                      NaN   \n",
       "3552                      NaN   \n",
       "3553        $30 - $60 an hour   \n",
       "3554  $38.08 - $63.46 an hour   \n",
       "3555              $50 an hour   \n",
       "\n",
       "                                                 skills  \n",
       "3551  ['JavaScript', 'Java', 'C#', 'Go', 'SQL', 'CSS...  \n",
       "3552  ['Java', 'Go', 'SQL', 'NoSQL', 'React', 'Node....  \n",
       "3553  ['Python', 'JavaScript', 'Java', 'Go', 'SQL', ...  \n",
       "3554  ['JavaScript', 'Java', 'C#', 'Go', 'TypeScript...  \n",
       "3555  ['JavaScript', 'Java', 'C#', 'SQL', 'HTML', 'A...  "
      ]
     },
     "execution_count": 6,
     "metadata": {},
     "output_type": "execute_result"
    }
   ],
   "source": [
    "df_data.tail(5)"
   ]
  },
  {
   "cell_type": "code",
   "execution_count": 7,
   "id": "8b79675d",
   "metadata": {},
   "outputs": [
    {
     "name": "stdout",
     "output_type": "stream",
     "text": [
      "<class 'pandas.core.frame.DataFrame'>\n",
      "RangeIndex: 3556 entries, 0 to 3555\n",
      "Data columns (total 5 columns):\n",
      " #   Column            Non-Null Count  Dtype \n",
      "---  ------            --------------  ----- \n",
      " 0   job_title         3556 non-null   object\n",
      " 1   company_name      3556 non-null   object\n",
      " 2   company_location  3556 non-null   object\n",
      " 3   salary            1964 non-null   object\n",
      " 4   skills            3556 non-null   object\n",
      "dtypes: object(5)\n",
      "memory usage: 139.0+ KB\n"
     ]
    }
   ],
   "source": [
    "df_data.info()"
   ]
  },
  {
   "cell_type": "markdown",
   "id": "fe930074",
   "metadata": {},
   "source": [
    "<h3> Check for Nan Values and Duplicates </h3>"
   ]
  },
  {
   "cell_type": "code",
   "execution_count": 8,
   "id": "8b5561de",
   "metadata": {},
   "outputs": [
    {
     "name": "stdout",
     "output_type": "stream",
     "text": [
      "Missing values?: True\n"
     ]
    },
    {
     "data": {
      "text/plain": [
       "job_title              0\n",
       "company_name           0\n",
       "company_location       0\n",
       "salary              1592\n",
       "skills                 0\n",
       "dtype: int64"
      ]
     },
     "execution_count": 8,
     "metadata": {},
     "output_type": "execute_result"
    }
   ],
   "source": [
    "print(f'Missing values?: {df_data.isna().values.any()}')\n",
    "df_data.isna().sum()"
   ]
  },
  {
   "cell_type": "code",
   "execution_count": 9,
   "id": "aa3685c2",
   "metadata": {},
   "outputs": [
    {
     "name": "stdout",
     "output_type": "stream",
     "text": [
      "Duplicate values?: True\n"
     ]
    },
    {
     "data": {
      "text/plain": [
       "1979"
      ]
     },
     "execution_count": 9,
     "metadata": {},
     "output_type": "execute_result"
    }
   ],
   "source": [
    "print(f'Duplicate values?: {df_data.duplicated().values.any()}')\n",
    "df_data.duplicated().sum()"
   ]
  },
  {
   "cell_type": "markdown",
   "id": "797a9119",
   "metadata": {},
   "source": [
    "<h2> Data Cleaning </h2> "
   ]
  },
  {
   "cell_type": "markdown",
   "id": "d924ac66",
   "metadata": {},
   "source": [
    "<h4> Drop data with empty values </h4>"
   ]
  },
  {
   "cell_type": "code",
   "execution_count": 10,
   "id": "b9cdc233",
   "metadata": {},
   "outputs": [
    {
     "name": "stdout",
     "output_type": "stream",
     "text": [
      "<class 'pandas.core.frame.DataFrame'>\n",
      "Int64Index: 1964 entries, 0 to 3555\n",
      "Data columns (total 5 columns):\n",
      " #   Column            Non-Null Count  Dtype \n",
      "---  ------            --------------  ----- \n",
      " 0   job_title         1964 non-null   object\n",
      " 1   company_name      1964 non-null   object\n",
      " 2   company_location  1964 non-null   object\n",
      " 3   salary            1964 non-null   object\n",
      " 4   skills            1964 non-null   object\n",
      "dtypes: object(5)\n",
      "memory usage: 92.1+ KB\n"
     ]
    }
   ],
   "source": [
    "df_data_clean = df_data.dropna()\n",
    "df_data_clean.info()"
   ]
  },
  {
   "cell_type": "markdown",
   "id": "e7858361",
   "metadata": {},
   "source": [
    "<h4> Drop duplicate data with the same company name and job title </h4>"
   ]
  },
  {
   "cell_type": "code",
   "execution_count": 11,
   "id": "04c53088",
   "metadata": {},
   "outputs": [
    {
     "name": "stderr",
     "output_type": "stream",
     "text": [
      "/var/folders/wx/n3nghw29261195fbm316p8xm0000gn/T/ipykernel_21556/1019937765.py:1: SettingWithCopyWarning: \n",
      "A value is trying to be set on a copy of a slice from a DataFrame\n",
      "\n",
      "See the caveats in the documentation: https://pandas.pydata.org/pandas-docs/stable/user_guide/indexing.html#returning-a-view-versus-a-copy\n",
      "  df_data_clean.drop_duplicates(subset=['company_name', 'job_title', 'company_location'],inplace=True)\n"
     ]
    },
    {
     "data": {
      "text/plain": [
       "(842, 5)"
      ]
     },
     "execution_count": 11,
     "metadata": {},
     "output_type": "execute_result"
    }
   ],
   "source": [
    "df_data_clean.drop_duplicates(subset=['company_name', 'job_title', 'company_location'],inplace=True)\n",
    "df_data_clean.shape"
   ]
  },
  {
   "cell_type": "code",
   "execution_count": 12,
   "id": "4c9867e8",
   "metadata": {},
   "outputs": [
    {
     "data": {
      "text/html": [
       "<div>\n",
       "<style scoped>\n",
       "    .dataframe tbody tr th:only-of-type {\n",
       "        vertical-align: middle;\n",
       "    }\n",
       "\n",
       "    .dataframe tbody tr th {\n",
       "        vertical-align: top;\n",
       "    }\n",
       "\n",
       "    .dataframe thead th {\n",
       "        text-align: right;\n",
       "    }\n",
       "</style>\n",
       "<table border=\"1\" class=\"dataframe\">\n",
       "  <thead>\n",
       "    <tr style=\"text-align: right;\">\n",
       "      <th></th>\n",
       "      <th>job_title</th>\n",
       "      <th>company_name</th>\n",
       "      <th>company_location</th>\n",
       "      <th>salary</th>\n",
       "      <th>skills</th>\n",
       "    </tr>\n",
       "  </thead>\n",
       "  <tbody>\n",
       "    <tr>\n",
       "      <th>1184</th>\n",
       "      <td>Automation Validation Engineer</td>\n",
       "      <td>eTeam Inc</td>\n",
       "      <td>Tucson, AZ</td>\n",
       "      <td>$50 - $55 an hour</td>\n",
       "      <td>['Linux', 'Windows']</td>\n",
       "    </tr>\n",
       "    <tr>\n",
       "      <th>2931</th>\n",
       "      <td>Software Developer (.NET Full-Stack: Mobile/We...</td>\n",
       "      <td>Vesigo Studios</td>\n",
       "      <td>Medford, OR 97504 \\n(Rogue Valley Internationa...</td>\n",
       "      <td>$72,000 - $90,000 a year</td>\n",
       "      <td>['JavaScript', 'Java', 'C#', 'Go', 'SQL', 'HTM...</td>\n",
       "    </tr>\n",
       "    <tr>\n",
       "      <th>1767</th>\n",
       "      <td>Embedded Flight Software Engineer</td>\n",
       "      <td>CI Software</td>\n",
       "      <td>Pasadena, CA</td>\n",
       "      <td>$75 - $95 an hour</td>\n",
       "      <td>['Python', 'C++']</td>\n",
       "    </tr>\n",
       "    <tr>\n",
       "      <th>1294</th>\n",
       "      <td>Software Development Engineer</td>\n",
       "      <td>Sensydia</td>\n",
       "      <td>Remote</td>\n",
       "      <td>From $135,000 a year</td>\n",
       "      <td>['Python', 'Swift', 'Go', 'Linux']</td>\n",
       "    </tr>\n",
       "    <tr>\n",
       "      <th>2063</th>\n",
       "      <td>Sr. Full Stack Java Developer</td>\n",
       "      <td>Synergis</td>\n",
       "      <td>Hybrid remote in Atlanta, GA 30361</td>\n",
       "      <td>$110,357 - $132,903 a year</td>\n",
       "      <td>['JavaScript', 'Java', 'Go', 'TypeScript', 'SQ...</td>\n",
       "    </tr>\n",
       "  </tbody>\n",
       "</table>\n",
       "</div>"
      ],
      "text/plain": [
       "                                              job_title    company_name  \\\n",
       "1184                     Automation Validation Engineer       eTeam Inc   \n",
       "2931  Software Developer (.NET Full-Stack: Mobile/We...  Vesigo Studios   \n",
       "1767                  Embedded Flight Software Engineer     CI Software   \n",
       "1294                      Software Development Engineer        Sensydia   \n",
       "2063                      Sr. Full Stack Java Developer        Synergis   \n",
       "\n",
       "                                       company_location  \\\n",
       "1184                                         Tucson, AZ   \n",
       "2931  Medford, OR 97504 \\n(Rogue Valley Internationa...   \n",
       "1767                                       Pasadena, CA   \n",
       "1294                                             Remote   \n",
       "2063                 Hybrid remote in Atlanta, GA 30361   \n",
       "\n",
       "                          salary  \\\n",
       "1184           $50 - $55 an hour   \n",
       "2931    $72,000 - $90,000 a year   \n",
       "1767           $75 - $95 an hour   \n",
       "1294        From $135,000 a year   \n",
       "2063  $110,357 - $132,903 a year   \n",
       "\n",
       "                                                 skills  \n",
       "1184                               ['Linux', 'Windows']  \n",
       "2931  ['JavaScript', 'Java', 'C#', 'Go', 'SQL', 'HTM...  \n",
       "1767                                  ['Python', 'C++']  \n",
       "1294                 ['Python', 'Swift', 'Go', 'Linux']  \n",
       "2063  ['JavaScript', 'Java', 'Go', 'TypeScript', 'SQ...  "
      ]
     },
     "execution_count": 12,
     "metadata": {},
     "output_type": "execute_result"
    }
   ],
   "source": [
    "df_data_clean.sample(5)"
   ]
  },
  {
   "cell_type": "markdown",
   "id": "c67e17bd",
   "metadata": {},
   "source": [
    "<h3> Extract minimum salary for each job </h3>"
   ]
  },
  {
   "cell_type": "code",
   "execution_count": 126,
   "id": "5b5a856d",
   "metadata": {
    "scrolled": false
   },
   "outputs": [
    {
     "name": "stdout",
     "output_type": "stream",
     "text": [
      "<class 'pandas.core.frame.DataFrame'>\n",
      "Index: 843 entries, 0 to salary_min\n",
      "Data columns (total 8 columns):\n",
      " #   Column            Non-Null Count  Dtype  \n",
      "---  ------            --------------  -----  \n",
      " 0   job_title         842 non-null    object \n",
      " 1   company_name      842 non-null    object \n",
      " 2   company_location  842 non-null    object \n",
      " 3   salary            842 non-null    object \n",
      " 4   skills            842 non-null    object \n",
      " 5   salary_min        842 non-null    float64\n",
      " 6   state             711 non-null    object \n",
      " 7   work_mode         842 non-null    object \n",
      "dtypes: float64(1), object(7)\n",
      "memory usage: 59.3+ KB\n"
     ]
    },
    {
     "name": "stderr",
     "output_type": "stream",
     "text": [
      "/var/folders/wx/n3nghw29261195fbm316p8xm0000gn/T/ipykernel_21556/1401394022.py:2: SettingWithCopyWarning:\n",
      "\n",
      "\n",
      "A value is trying to be set on a copy of a slice from a DataFrame\n",
      "\n",
      "See the caveats in the documentation: https://pandas.pydata.org/pandas-docs/stable/user_guide/indexing.html#returning-a-view-versus-a-copy\n",
      "\n"
     ]
    }
   ],
   "source": [
    "# Create a new column called salary min \n",
    "df_data_clean.loc['salary_min'] = df_data_clean['salary'].str.split('-').str[0]\n",
    "df_data_clean.info()"
   ]
  },
  {
   "cell_type": "code",
   "execution_count": 14,
   "id": "591ca0c9",
   "metadata": {},
   "outputs": [
    {
     "data": {
      "text/html": [
       "<div>\n",
       "<style scoped>\n",
       "    .dataframe tbody tr th:only-of-type {\n",
       "        vertical-align: middle;\n",
       "    }\n",
       "\n",
       "    .dataframe tbody tr th {\n",
       "        vertical-align: top;\n",
       "    }\n",
       "\n",
       "    .dataframe thead th {\n",
       "        text-align: right;\n",
       "    }\n",
       "</style>\n",
       "<table border=\"1\" class=\"dataframe\">\n",
       "  <thead>\n",
       "    <tr style=\"text-align: right;\">\n",
       "      <th></th>\n",
       "      <th>job_title</th>\n",
       "      <th>company_name</th>\n",
       "      <th>company_location</th>\n",
       "      <th>salary</th>\n",
       "      <th>skills</th>\n",
       "      <th>salary_min</th>\n",
       "    </tr>\n",
       "  </thead>\n",
       "  <tbody>\n",
       "    <tr>\n",
       "      <th>459</th>\n",
       "      <td>Software Engineer</td>\n",
       "      <td>Oxford Global Resources</td>\n",
       "      <td>Boxborough, MA</td>\n",
       "      <td>$60 - $65 an hour</td>\n",
       "      <td>['Java', 'C++', 'SQL']</td>\n",
       "      <td>$60</td>\n",
       "    </tr>\n",
       "    <tr>\n",
       "      <th>52</th>\n",
       "      <td>Principal Software Engineer - Data Security (S...</td>\n",
       "      <td>GloComms</td>\n",
       "      <td>Remote in San Francisco, CA</td>\n",
       "      <td>$350,000 - $600,000 a year</td>\n",
       "      <td>['Python', 'SQL', 'NoSQL']</td>\n",
       "      <td>$350,000</td>\n",
       "    </tr>\n",
       "    <tr>\n",
       "      <th>1000</th>\n",
       "      <td>Senior Software Engineer</td>\n",
       "      <td>LifeScience Logistics</td>\n",
       "      <td>Coppell, TX 75019</td>\n",
       "      <td>$120,000 - $140,000 a year</td>\n",
       "      <td>['Python', 'JavaScript', 'Java', 'C++', 'C#', ...</td>\n",
       "      <td>$120,000</td>\n",
       "    </tr>\n",
       "    <tr>\n",
       "      <th>363</th>\n",
       "      <td>Embedded Software Engineer</td>\n",
       "      <td>Enin Systems</td>\n",
       "      <td>Bear, DE 19701</td>\n",
       "      <td>$70,396 - $162,522 a year</td>\n",
       "      <td>['Go']</td>\n",
       "      <td>$70,396</td>\n",
       "    </tr>\n",
       "    <tr>\n",
       "      <th>1929</th>\n",
       "      <td>Staff Software Engineer II (Developer Platform)</td>\n",
       "      <td>Coupang</td>\n",
       "      <td>Seattle, WA 98101 \\n(Denny Triangle area)</td>\n",
       "      <td>From $142,000 a year</td>\n",
       "      <td>['Python', 'Java', 'C++', 'Go', 'JSON', 'AWS',...</td>\n",
       "      <td>From $142,000 a year</td>\n",
       "    </tr>\n",
       "  </tbody>\n",
       "</table>\n",
       "</div>"
      ],
      "text/plain": [
       "                                              job_title  \\\n",
       "459                                   Software Engineer   \n",
       "52    Principal Software Engineer - Data Security (S...   \n",
       "1000                           Senior Software Engineer   \n",
       "363                          Embedded Software Engineer   \n",
       "1929    Staff Software Engineer II (Developer Platform)   \n",
       "\n",
       "                 company_name                           company_location  \\\n",
       "459   Oxford Global Resources                             Boxborough, MA   \n",
       "52                   GloComms                Remote in San Francisco, CA   \n",
       "1000    LifeScience Logistics                          Coppell, TX 75019   \n",
       "363              Enin Systems                             Bear, DE 19701   \n",
       "1929                  Coupang  Seattle, WA 98101 \\n(Denny Triangle area)   \n",
       "\n",
       "                          salary  \\\n",
       "459            $60 - $65 an hour   \n",
       "52    $350,000 - $600,000 a year   \n",
       "1000  $120,000 - $140,000 a year   \n",
       "363    $70,396 - $162,522 a year   \n",
       "1929        From $142,000 a year   \n",
       "\n",
       "                                                 skills            salary_min  \n",
       "459                              ['Java', 'C++', 'SQL']                  $60   \n",
       "52                           ['Python', 'SQL', 'NoSQL']             $350,000   \n",
       "1000  ['Python', 'JavaScript', 'Java', 'C++', 'C#', ...             $120,000   \n",
       "363                                              ['Go']              $70,396   \n",
       "1929  ['Python', 'Java', 'C++', 'Go', 'JSON', 'AWS',...  From $142,000 a year  "
      ]
     },
     "execution_count": 14,
     "metadata": {},
     "output_type": "execute_result"
    }
   ],
   "source": [
    "df_data_clean.sample(5)"
   ]
  },
  {
   "cell_type": "code",
   "execution_count": 15,
   "id": "9592d632",
   "metadata": {},
   "outputs": [],
   "source": [
    "def extractNum(text):\n",
    "    firstchar = str(text).split(\" \")[0]\n",
    "    if firstchar == \"From\":\n",
    "        return text.split(\" \")[1]\n",
    "    elif firstchar == \"Up\":\n",
    "        return text.split(\" \")[2]\n",
    "    else:\n",
    "        return firstchar "
   ]
  },
  {
   "cell_type": "code",
   "execution_count": 16,
   "id": "646632c4",
   "metadata": {},
   "outputs": [
    {
     "data": {
      "text/html": [
       "<div>\n",
       "<style scoped>\n",
       "    .dataframe tbody tr th:only-of-type {\n",
       "        vertical-align: middle;\n",
       "    }\n",
       "\n",
       "    .dataframe tbody tr th {\n",
       "        vertical-align: top;\n",
       "    }\n",
       "\n",
       "    .dataframe thead th {\n",
       "        text-align: right;\n",
       "    }\n",
       "</style>\n",
       "<table border=\"1\" class=\"dataframe\">\n",
       "  <thead>\n",
       "    <tr style=\"text-align: right;\">\n",
       "      <th></th>\n",
       "      <th>job_title</th>\n",
       "      <th>company_name</th>\n",
       "      <th>company_location</th>\n",
       "      <th>salary</th>\n",
       "      <th>skills</th>\n",
       "      <th>salary_min</th>\n",
       "    </tr>\n",
       "  </thead>\n",
       "  <tbody>\n",
       "    <tr>\n",
       "      <th>2071</th>\n",
       "      <td>Web Developer</td>\n",
       "      <td>MyServiceGuru LLC</td>\n",
       "      <td>Orem, UT 84058 \\n(Orem Park area)</td>\n",
       "      <td>$58,526 - $63,853 a year</td>\n",
       "      <td>['JavaScript', 'Java', 'Go', 'HTML', 'CSS', 'A...</td>\n",
       "      <td>$58,526</td>\n",
       "    </tr>\n",
       "    <tr>\n",
       "      <th>584</th>\n",
       "      <td>Software Engineer</td>\n",
       "      <td>Moore &amp; Associates</td>\n",
       "      <td>Poway, CA 92064</td>\n",
       "      <td>$100,000 - $140,000 a year</td>\n",
       "      <td>['Python', 'C#', 'Linux', 'Windows']</td>\n",
       "      <td>$100,000</td>\n",
       "    </tr>\n",
       "    <tr>\n",
       "      <th>1287</th>\n",
       "      <td>Sr Engineers, Software</td>\n",
       "      <td>T-Mobile</td>\n",
       "      <td>Overland Park, KS 66251</td>\n",
       "      <td>$126,328 a year</td>\n",
       "      <td>['Python', 'JavaScript', 'Java', 'C#', 'PHP', ...</td>\n",
       "      <td>$126,328 a year</td>\n",
       "    </tr>\n",
       "    <tr>\n",
       "      <th>2199</th>\n",
       "      <td>Web &amp; UX Designer</td>\n",
       "      <td>Texas State University</td>\n",
       "      <td>San Marcos, TX 78666</td>\n",
       "      <td>$5,135 a month</td>\n",
       "      <td>['Go', 'Git']</td>\n",
       "      <td>$5,135 a month</td>\n",
       "    </tr>\n",
       "    <tr>\n",
       "      <th>361</th>\n",
       "      <td>Software Engineer</td>\n",
       "      <td>CyberCoders</td>\n",
       "      <td>Buffalo, NY 14202 \\n(Central Business District...</td>\n",
       "      <td>$100,000 - $140,000 a year</td>\n",
       "      <td>['C#', 'SQL', 'React', 'Angular', 'ASP.NET', '...</td>\n",
       "      <td>$100,000</td>\n",
       "    </tr>\n",
       "  </tbody>\n",
       "</table>\n",
       "</div>"
      ],
      "text/plain": [
       "                   job_title            company_name  \\\n",
       "2071           Web Developer       MyServiceGuru LLC   \n",
       "584        Software Engineer      Moore & Associates   \n",
       "1287  Sr Engineers, Software                T-Mobile   \n",
       "2199       Web & UX Designer  Texas State University   \n",
       "361        Software Engineer             CyberCoders   \n",
       "\n",
       "                                       company_location  \\\n",
       "2071                  Orem, UT 84058 \\n(Orem Park area)   \n",
       "584                                     Poway, CA 92064   \n",
       "1287                            Overland Park, KS 66251   \n",
       "2199                               San Marcos, TX 78666   \n",
       "361   Buffalo, NY 14202 \\n(Central Business District...   \n",
       "\n",
       "                          salary  \\\n",
       "2071    $58,526 - $63,853 a year   \n",
       "584   $100,000 - $140,000 a year   \n",
       "1287             $126,328 a year   \n",
       "2199              $5,135 a month   \n",
       "361   $100,000 - $140,000 a year   \n",
       "\n",
       "                                                 skills       salary_min  \n",
       "2071  ['JavaScript', 'Java', 'Go', 'HTML', 'CSS', 'A...         $58,526   \n",
       "584                ['Python', 'C#', 'Linux', 'Windows']        $100,000   \n",
       "1287  ['Python', 'JavaScript', 'Java', 'C#', 'PHP', ...  $126,328 a year  \n",
       "2199                                      ['Go', 'Git']   $5,135 a month  \n",
       "361   ['C#', 'SQL', 'React', 'Angular', 'ASP.NET', '...        $100,000   "
      ]
     },
     "execution_count": 16,
     "metadata": {},
     "output_type": "execute_result"
    }
   ],
   "source": [
    "df_data_clean.sample(5)"
   ]
  },
  {
   "cell_type": "code",
   "execution_count": 17,
   "id": "764949b0",
   "metadata": {},
   "outputs": [
    {
     "name": "stderr",
     "output_type": "stream",
     "text": [
      "/var/folders/wx/n3nghw29261195fbm316p8xm0000gn/T/ipykernel_21556/2153175502.py:1: SettingWithCopyWarning: \n",
      "A value is trying to be set on a copy of a slice from a DataFrame.\n",
      "Try using .loc[row_indexer,col_indexer] = value instead\n",
      "\n",
      "See the caveats in the documentation: https://pandas.pydata.org/pandas-docs/stable/user_guide/indexing.html#returning-a-view-versus-a-copy\n",
      "  df_data_clean.loc[:,'salary_min'] = df_data_clean['salary_min'].apply(extractNum)\n"
     ]
    }
   ],
   "source": [
    "df_data_clean.loc[:,'salary_min'] = df_data_clean['salary_min'].apply(extractNum)"
   ]
  },
  {
   "cell_type": "code",
   "execution_count": 18,
   "id": "dd86f8e0",
   "metadata": {},
   "outputs": [],
   "source": [
    "## Extract just the numeric portion of the string\n",
    "def extractMoney(text):\n",
    "    doc = nlp(text)\n",
    "    for ent in doc.ents:\n",
    "        if ent.label_ == 'MONEY':\n",
    "            return ent.text\n",
    "    return None"
   ]
  },
  {
   "cell_type": "code",
   "execution_count": 19,
   "id": "189d8a8c",
   "metadata": {},
   "outputs": [
    {
     "name": "stderr",
     "output_type": "stream",
     "text": [
      "/var/folders/wx/n3nghw29261195fbm316p8xm0000gn/T/ipykernel_21556/2185182010.py:1: SettingWithCopyWarning: \n",
      "A value is trying to be set on a copy of a slice from a DataFrame.\n",
      "Try using .loc[row_indexer,col_indexer] = value instead\n",
      "\n",
      "See the caveats in the documentation: https://pandas.pydata.org/pandas-docs/stable/user_guide/indexing.html#returning-a-view-versus-a-copy\n",
      "  df_data_clean.loc[:,'salary_min'] = df_data_clean['salary_min'].apply(extractMoney)\n"
     ]
    }
   ],
   "source": [
    "df_data_clean.loc[:,'salary_min'] = df_data_clean['salary_min'].apply(extractMoney)"
   ]
  },
  {
   "cell_type": "code",
   "execution_count": 20,
   "id": "367e1738",
   "metadata": {},
   "outputs": [
    {
     "data": {
      "text/html": [
       "<div>\n",
       "<style scoped>\n",
       "    .dataframe tbody tr th:only-of-type {\n",
       "        vertical-align: middle;\n",
       "    }\n",
       "\n",
       "    .dataframe tbody tr th {\n",
       "        vertical-align: top;\n",
       "    }\n",
       "\n",
       "    .dataframe thead th {\n",
       "        text-align: right;\n",
       "    }\n",
       "</style>\n",
       "<table border=\"1\" class=\"dataframe\">\n",
       "  <thead>\n",
       "    <tr style=\"text-align: right;\">\n",
       "      <th></th>\n",
       "      <th>job_title</th>\n",
       "      <th>company_name</th>\n",
       "      <th>company_location</th>\n",
       "      <th>salary</th>\n",
       "      <th>skills</th>\n",
       "      <th>salary_min</th>\n",
       "    </tr>\n",
       "  </thead>\n",
       "  <tbody>\n",
       "    <tr>\n",
       "      <th>2665</th>\n",
       "      <td>Backend Developer</td>\n",
       "      <td>J. J. Keller &amp; Associates, Inc.</td>\n",
       "      <td>Remote in Austin, TX 78709</td>\n",
       "      <td>$95,000 - $110,000 a year</td>\n",
       "      <td>['C#', 'Go', 'SQL', 'Azure']</td>\n",
       "      <td>95,000</td>\n",
       "    </tr>\n",
       "    <tr>\n",
       "      <th>2752</th>\n",
       "      <td>C# / .Net Developer</td>\n",
       "      <td>JVT Advisors</td>\n",
       "      <td>Concord, NH 03301</td>\n",
       "      <td>$50 - $55 an hour</td>\n",
       "      <td>['C#', 'SQL', 'ASP.NET', 'AWS']</td>\n",
       "      <td>50</td>\n",
       "    </tr>\n",
       "    <tr>\n",
       "      <th>165</th>\n",
       "      <td>Full Stack Javascript Developer with Liferay</td>\n",
       "      <td>Vaco</td>\n",
       "      <td>Remote</td>\n",
       "      <td>$50 - $60 an hour</td>\n",
       "      <td>['JavaScript', 'Java', 'SQL', 'React', 'REST A...</td>\n",
       "      <td>50</td>\n",
       "    </tr>\n",
       "    <tr>\n",
       "      <th>2924</th>\n",
       "      <td>Java Full Stack Engineer</td>\n",
       "      <td>zettalogix.Inc</td>\n",
       "      <td>Phoenix, AZ 85003 \\n(Central City area)</td>\n",
       "      <td>$50 - $60 an hour</td>\n",
       "      <td>['JavaScript', 'Java', 'Angular', 'ASP.NET', '...</td>\n",
       "      <td>50</td>\n",
       "    </tr>\n",
       "    <tr>\n",
       "      <th>548</th>\n",
       "      <td>Software Engineer</td>\n",
       "      <td>Arbin Instruments</td>\n",
       "      <td>College Station, TX 77845</td>\n",
       "      <td>$60,000 - $90,000 a year</td>\n",
       "      <td>['C++', 'C#', 'SQL', 'NoSQL', 'Windows', 'MySQL']</td>\n",
       "      <td>60,000</td>\n",
       "    </tr>\n",
       "    <tr>\n",
       "      <th>88</th>\n",
       "      <td>Embedded Software Engineer</td>\n",
       "      <td>Confidential</td>\n",
       "      <td>Rochester, NY</td>\n",
       "      <td>$90,000 - $100,000 a year</td>\n",
       "      <td>['Python', 'C++', 'C#', 'Go', 'Git', 'Linux', ...</td>\n",
       "      <td>90,000</td>\n",
       "    </tr>\n",
       "    <tr>\n",
       "      <th>565</th>\n",
       "      <td>Device Software Engineer</td>\n",
       "      <td>Liberty Personnel Services</td>\n",
       "      <td>Philadelphia, PA 19104 \\n(Belmont area)</td>\n",
       "      <td>$120,000 - $145,000 a year</td>\n",
       "      <td>['C#']</td>\n",
       "      <td>120,000</td>\n",
       "    </tr>\n",
       "    <tr>\n",
       "      <th>247</th>\n",
       "      <td>Software Engineer</td>\n",
       "      <td>Carallel, Inc.</td>\n",
       "      <td>Chicago, IL</td>\n",
       "      <td>$100,000 - $110,000 a year</td>\n",
       "      <td>['Java', 'Swift', 'React', 'Node.js', 'Git', '...</td>\n",
       "      <td>100,000</td>\n",
       "    </tr>\n",
       "    <tr>\n",
       "      <th>2065</th>\n",
       "      <td>WordPress Frontend Web Designer/Developer</td>\n",
       "      <td>Stage Marketing</td>\n",
       "      <td>Hybrid remote in Pleasant Grove, UT 84062</td>\n",
       "      <td>$18 - $30 an hour</td>\n",
       "      <td>['Go', 'HTML', 'CSS', 'Git']</td>\n",
       "      <td>18</td>\n",
       "    </tr>\n",
       "    <tr>\n",
       "      <th>662</th>\n",
       "      <td>DevOps Engineer (Atlanta, GA or Remote)</td>\n",
       "      <td>Togetherwork</td>\n",
       "      <td>Remote in Atlanta, GA</td>\n",
       "      <td>$120,000 - $130,000 a year</td>\n",
       "      <td>['AWS', 'Azure']</td>\n",
       "      <td>120,000</td>\n",
       "    </tr>\n",
       "    <tr>\n",
       "      <th>174</th>\n",
       "      <td>Senior Back-End Software Engineer (East Coast ...</td>\n",
       "      <td>Novity</td>\n",
       "      <td>Remote</td>\n",
       "      <td>$135,000 - $195,000 a year</td>\n",
       "      <td>['Python', 'Java', 'Go', 'SQL', 'Docker', 'AWS...</td>\n",
       "      <td>135,000</td>\n",
       "    </tr>\n",
       "    <tr>\n",
       "      <th>3233</th>\n",
       "      <td>C#, Orchestrade Developer</td>\n",
       "      <td>Selby Jennings</td>\n",
       "      <td>New York, NY 10167 \\n(Midtown area)</td>\n",
       "      <td>$300,000 - $400,000 a year</td>\n",
       "      <td>['Python', 'C#', 'Go', 'SQL']</td>\n",
       "      <td>300,000</td>\n",
       "    </tr>\n",
       "    <tr>\n",
       "      <th>850</th>\n",
       "      <td>Software Engineer Sr - Backend (Multi-year con...</td>\n",
       "      <td>Volkswagen Group of America</td>\n",
       "      <td>Belmont, CA 94002 \\n(Downtown area)</td>\n",
       "      <td>$128,400 - $190,000 a year</td>\n",
       "      <td>['Python', 'Java', 'Go', 'SQL', 'NoSQL', 'Git'...</td>\n",
       "      <td>128,400</td>\n",
       "    </tr>\n",
       "    <tr>\n",
       "      <th>3108</th>\n",
       "      <td>Senior Software Engineer - Treatment Scaling</td>\n",
       "      <td>Virta Health</td>\n",
       "      <td>Remote in California</td>\n",
       "      <td>$157,100 - $176,600 a year</td>\n",
       "      <td>['Python', 'JavaScript', 'Java', 'Go', 'React'...</td>\n",
       "      <td>157,100</td>\n",
       "    </tr>\n",
       "    <tr>\n",
       "      <th>2760</th>\n",
       "      <td>Staff Software Development Engineer</td>\n",
       "      <td>SunPower</td>\n",
       "      <td>Hybrid remote in Austin, TX</td>\n",
       "      <td>$130,800 - $196,200 a year</td>\n",
       "      <td>['JavaScript', 'Java', 'Ruby', 'Go', 'HTML', '...</td>\n",
       "      <td>130,800</td>\n",
       "    </tr>\n",
       "    <tr>\n",
       "      <th>1024</th>\n",
       "      <td>Windows Application Developer</td>\n",
       "      <td>Earthley.com</td>\n",
       "      <td>Columbus, OH 43213 \\n(East Broad area)</td>\n",
       "      <td>$30 - $50 an hour</td>\n",
       "      <td>['C++', 'C#', 'Go', 'SQL', 'Git', 'AWS', 'Wind...</td>\n",
       "      <td>30</td>\n",
       "    </tr>\n",
       "    <tr>\n",
       "      <th>479</th>\n",
       "      <td>Software Engineer</td>\n",
       "      <td>Venteon</td>\n",
       "      <td>Wixom, MI</td>\n",
       "      <td>$130,000 a year</td>\n",
       "      <td>['C++', 'SQL', 'Windows']</td>\n",
       "      <td>130,000</td>\n",
       "    </tr>\n",
       "    <tr>\n",
       "      <th>979</th>\n",
       "      <td>Staff Software Engineer – Innovation - 157031</td>\n",
       "      <td>Raise</td>\n",
       "      <td>Greenwich, CT 06830</td>\n",
       "      <td>$200,000 - $250,000 a year</td>\n",
       "      <td>['Python', 'Java', 'C++', 'Git', 'AWS', 'Azure...</td>\n",
       "      <td>200,000</td>\n",
       "    </tr>\n",
       "    <tr>\n",
       "      <th>3189</th>\n",
       "      <td>Full Stack Developer</td>\n",
       "      <td>SHR Talent</td>\n",
       "      <td>Murfreesboro, TN 37129</td>\n",
       "      <td>$90,000 a year</td>\n",
       "      <td>['JavaScript', 'Java', 'SQL', 'Node.js']</td>\n",
       "      <td>90,000</td>\n",
       "    </tr>\n",
       "    <tr>\n",
       "      <th>2756</th>\n",
       "      <td>Looking 5+ years for full-time permanent for A...</td>\n",
       "      <td>Lethyagroupinc</td>\n",
       "      <td>Remote</td>\n",
       "      <td>$80,000 - $110,000 a year</td>\n",
       "      <td>['ASP.NET', 'Git']</td>\n",
       "      <td>80,000</td>\n",
       "    </tr>\n",
       "  </tbody>\n",
       "</table>\n",
       "</div>"
      ],
      "text/plain": [
       "                                              job_title  \\\n",
       "2665                                  Backend Developer   \n",
       "2752                                C# / .Net Developer   \n",
       "165        Full Stack Javascript Developer with Liferay   \n",
       "2924                           Java Full Stack Engineer   \n",
       "548                                   Software Engineer   \n",
       "88                           Embedded Software Engineer   \n",
       "565                            Device Software Engineer   \n",
       "247                                   Software Engineer   \n",
       "2065          WordPress Frontend Web Designer/Developer   \n",
       "662             DevOps Engineer (Atlanta, GA or Remote)   \n",
       "174   Senior Back-End Software Engineer (East Coast ...   \n",
       "3233                          C#, Orchestrade Developer   \n",
       "850   Software Engineer Sr - Backend (Multi-year con...   \n",
       "3108       Senior Software Engineer - Treatment Scaling   \n",
       "2760                Staff Software Development Engineer   \n",
       "1024                      Windows Application Developer   \n",
       "479                                   Software Engineer   \n",
       "979       Staff Software Engineer – Innovation - 157031   \n",
       "3189                               Full Stack Developer   \n",
       "2756  Looking 5+ years for full-time permanent for A...   \n",
       "\n",
       "                         company_name  \\\n",
       "2665  J. J. Keller & Associates, Inc.   \n",
       "2752                     JVT Advisors   \n",
       "165                              Vaco   \n",
       "2924                   zettalogix.Inc   \n",
       "548                 Arbin Instruments   \n",
       "88                       Confidential   \n",
       "565        Liberty Personnel Services   \n",
       "247                    Carallel, Inc.   \n",
       "2065                  Stage Marketing   \n",
       "662                      Togetherwork   \n",
       "174                            Novity   \n",
       "3233                   Selby Jennings   \n",
       "850       Volkswagen Group of America   \n",
       "3108                     Virta Health   \n",
       "2760                         SunPower   \n",
       "1024                     Earthley.com   \n",
       "479                           Venteon   \n",
       "979                             Raise   \n",
       "3189                       SHR Talent   \n",
       "2756                   Lethyagroupinc   \n",
       "\n",
       "                               company_location                      salary  \\\n",
       "2665                 Remote in Austin, TX 78709   $95,000 - $110,000 a year   \n",
       "2752                          Concord, NH 03301           $50 - $55 an hour   \n",
       "165                                      Remote           $50 - $60 an hour   \n",
       "2924    Phoenix, AZ 85003 \\n(Central City area)           $50 - $60 an hour   \n",
       "548                   College Station, TX 77845    $60,000 - $90,000 a year   \n",
       "88                                Rochester, NY   $90,000 - $100,000 a year   \n",
       "565     Philadelphia, PA 19104 \\n(Belmont area)  $120,000 - $145,000 a year   \n",
       "247                                 Chicago, IL  $100,000 - $110,000 a year   \n",
       "2065  Hybrid remote in Pleasant Grove, UT 84062           $18 - $30 an hour   \n",
       "662                       Remote in Atlanta, GA  $120,000 - $130,000 a year   \n",
       "174                                      Remote  $135,000 - $195,000 a year   \n",
       "3233        New York, NY 10167 \\n(Midtown area)  $300,000 - $400,000 a year   \n",
       "850         Belmont, CA 94002 \\n(Downtown area)  $128,400 - $190,000 a year   \n",
       "3108                       Remote in California  $157,100 - $176,600 a year   \n",
       "2760                Hybrid remote in Austin, TX  $130,800 - $196,200 a year   \n",
       "1024     Columbus, OH 43213 \\n(East Broad area)           $30 - $50 an hour   \n",
       "479                                   Wixom, MI             $130,000 a year   \n",
       "979                         Greenwich, CT 06830  $200,000 - $250,000 a year   \n",
       "3189                     Murfreesboro, TN 37129              $90,000 a year   \n",
       "2756                                     Remote   $80,000 - $110,000 a year   \n",
       "\n",
       "                                                 skills salary_min  \n",
       "2665                       ['C#', 'Go', 'SQL', 'Azure']     95,000  \n",
       "2752                    ['C#', 'SQL', 'ASP.NET', 'AWS']         50  \n",
       "165   ['JavaScript', 'Java', 'SQL', 'React', 'REST A...         50  \n",
       "2924  ['JavaScript', 'Java', 'Angular', 'ASP.NET', '...         50  \n",
       "548   ['C++', 'C#', 'SQL', 'NoSQL', 'Windows', 'MySQL']     60,000  \n",
       "88    ['Python', 'C++', 'C#', 'Go', 'Git', 'Linux', ...     90,000  \n",
       "565                                              ['C#']    120,000  \n",
       "247   ['Java', 'Swift', 'React', 'Node.js', 'Git', '...    100,000  \n",
       "2065                       ['Go', 'HTML', 'CSS', 'Git']         18  \n",
       "662                                    ['AWS', 'Azure']    120,000  \n",
       "174   ['Python', 'Java', 'Go', 'SQL', 'Docker', 'AWS...    135,000  \n",
       "3233                      ['Python', 'C#', 'Go', 'SQL']    300,000  \n",
       "850   ['Python', 'Java', 'Go', 'SQL', 'NoSQL', 'Git'...    128,400  \n",
       "3108  ['Python', 'JavaScript', 'Java', 'Go', 'React'...    157,100  \n",
       "2760  ['JavaScript', 'Java', 'Ruby', 'Go', 'HTML', '...    130,800  \n",
       "1024  ['C++', 'C#', 'Go', 'SQL', 'Git', 'AWS', 'Wind...         30  \n",
       "479                           ['C++', 'SQL', 'Windows']    130,000  \n",
       "979   ['Python', 'Java', 'C++', 'Git', 'AWS', 'Azure...    200,000  \n",
       "3189           ['JavaScript', 'Java', 'SQL', 'Node.js']     90,000  \n",
       "2756                                 ['ASP.NET', 'Git']     80,000  "
      ]
     },
     "execution_count": 20,
     "metadata": {},
     "output_type": "execute_result"
    }
   ],
   "source": [
    "df_data_clean.sample(10)"
   ]
  },
  {
   "cell_type": "code",
   "execution_count": 21,
   "id": "58305b30",
   "metadata": {},
   "outputs": [
    {
     "name": "stdout",
     "output_type": "stream",
     "text": [
      "<class 'pandas.core.frame.DataFrame'>\n",
      "Int64Index: 842 entries, 0 to 3553\n",
      "Data columns (total 6 columns):\n",
      " #   Column            Non-Null Count  Dtype \n",
      "---  ------            --------------  ----- \n",
      " 0   job_title         842 non-null    object\n",
      " 1   company_name      842 non-null    object\n",
      " 2   company_location  842 non-null    object\n",
      " 3   salary            842 non-null    object\n",
      " 4   skills            842 non-null    object\n",
      " 5   salary_min        842 non-null    object\n",
      "dtypes: object(6)\n",
      "memory usage: 46.0+ KB\n"
     ]
    }
   ],
   "source": [
    "df_data_clean.info()"
   ]
  },
  {
   "cell_type": "code",
   "execution_count": 22,
   "id": "4cc22367",
   "metadata": {},
   "outputs": [],
   "source": [
    "## for the hourly salary: multiply those by 2080 which is the average number of working hours \n",
    "def findYearly(rate):\n",
    "    if rate <= 200:\n",
    "        return rate * 2080\n",
    "    elif rate >= 1000 and rate <= 10000:\n",
    "        return rate * 12\n",
    "    return rate"
   ]
  },
  {
   "cell_type": "code",
   "execution_count": 23,
   "id": "d4120f40",
   "metadata": {},
   "outputs": [
    {
     "name": "stderr",
     "output_type": "stream",
     "text": [
      "/var/folders/wx/n3nghw29261195fbm316p8xm0000gn/T/ipykernel_21556/2977598662.py:3: SettingWithCopyWarning: \n",
      "A value is trying to be set on a copy of a slice from a DataFrame.\n",
      "Try using .loc[row_indexer,col_indexer] = value instead\n",
      "\n",
      "See the caveats in the documentation: https://pandas.pydata.org/pandas-docs/stable/user_guide/indexing.html#returning-a-view-versus-a-copy\n",
      "  df_data_clean['salary_min'] = replaced\n"
     ]
    }
   ],
   "source": [
    "#remove commas \n",
    "replaced = df_data_clean['salary_min'].str.replace(',', '')\n",
    "df_data_clean['salary_min'] = replaced"
   ]
  },
  {
   "cell_type": "code",
   "execution_count": 24,
   "id": "5928bfdf",
   "metadata": {},
   "outputs": [
    {
     "name": "stderr",
     "output_type": "stream",
     "text": [
      "/var/folders/wx/n3nghw29261195fbm316p8xm0000gn/T/ipykernel_21556/4111914784.py:2: SettingWithCopyWarning: \n",
      "A value is trying to be set on a copy of a slice from a DataFrame.\n",
      "Try using .loc[row_indexer,col_indexer] = value instead\n",
      "\n",
      "See the caveats in the documentation: https://pandas.pydata.org/pandas-docs/stable/user_guide/indexing.html#returning-a-view-versus-a-copy\n",
      "  df_data_clean.loc[:,'salary_min'] = pd.to_numeric(df_data_clean['salary_min'])\n",
      "/var/folders/wx/n3nghw29261195fbm316p8xm0000gn/T/ipykernel_21556/4111914784.py:2: DeprecationWarning: In a future version, `df.iloc[:, i] = newvals` will attempt to set the values inplace instead of always setting a new array. To retain the old behavior, use either `df[df.columns[i]] = newvals` or, if columns are non-unique, `df.isetitem(i, newvals)`\n",
      "  df_data_clean.loc[:,'salary_min'] = pd.to_numeric(df_data_clean['salary_min'])\n"
     ]
    }
   ],
   "source": [
    "#convert to float\n",
    "df_data_clean.loc[:,'salary_min'] = pd.to_numeric(df_data_clean['salary_min'])"
   ]
  },
  {
   "cell_type": "code",
   "execution_count": 25,
   "id": "10a352f9",
   "metadata": {},
   "outputs": [
    {
     "name": "stdout",
     "output_type": "stream",
     "text": [
      "<class 'pandas.core.frame.DataFrame'>\n",
      "Int64Index: 842 entries, 0 to 3553\n",
      "Data columns (total 6 columns):\n",
      " #   Column            Non-Null Count  Dtype  \n",
      "---  ------            --------------  -----  \n",
      " 0   job_title         842 non-null    object \n",
      " 1   company_name      842 non-null    object \n",
      " 2   company_location  842 non-null    object \n",
      " 3   salary            842 non-null    object \n",
      " 4   skills            842 non-null    object \n",
      " 5   salary_min        842 non-null    float64\n",
      "dtypes: float64(1), object(5)\n",
      "memory usage: 46.0+ KB\n"
     ]
    },
    {
     "name": "stderr",
     "output_type": "stream",
     "text": [
      "/var/folders/wx/n3nghw29261195fbm316p8xm0000gn/T/ipykernel_21556/759248211.py:2: SettingWithCopyWarning: \n",
      "A value is trying to be set on a copy of a slice from a DataFrame.\n",
      "Try using .loc[row_indexer,col_indexer] = value instead\n",
      "\n",
      "See the caveats in the documentation: https://pandas.pydata.org/pandas-docs/stable/user_guide/indexing.html#returning-a-view-versus-a-copy\n",
      "  df_data_clean.loc[:,'salary_min'] = df_data_clean['salary_min'].apply(findYearly)\n"
     ]
    }
   ],
   "source": [
    "#multiply by 2080 if salary is stated as hourly \n",
    "df_data_clean.loc[:,'salary_min'] = df_data_clean['salary_min'].apply(findYearly)\n",
    "df_data_clean.info()"
   ]
  },
  {
   "cell_type": "code",
   "execution_count": 26,
   "id": "2441d8e9",
   "metadata": {},
   "outputs": [
    {
     "data": {
      "text/html": [
       "<div>\n",
       "<style scoped>\n",
       "    .dataframe tbody tr th:only-of-type {\n",
       "        vertical-align: middle;\n",
       "    }\n",
       "\n",
       "    .dataframe tbody tr th {\n",
       "        vertical-align: top;\n",
       "    }\n",
       "\n",
       "    .dataframe thead th {\n",
       "        text-align: right;\n",
       "    }\n",
       "</style>\n",
       "<table border=\"1\" class=\"dataframe\">\n",
       "  <thead>\n",
       "    <tr style=\"text-align: right;\">\n",
       "      <th></th>\n",
       "      <th>job_title</th>\n",
       "      <th>company_name</th>\n",
       "      <th>company_location</th>\n",
       "      <th>salary</th>\n",
       "      <th>skills</th>\n",
       "      <th>salary_min</th>\n",
       "    </tr>\n",
       "  </thead>\n",
       "  <tbody>\n",
       "    <tr>\n",
       "      <th>3115</th>\n",
       "      <td>HTML &amp; CSS Production Specialist</td>\n",
       "      <td>SalesLabX</td>\n",
       "      <td>Remote</td>\n",
       "      <td>$50,000 - $55,000 a year</td>\n",
       "      <td>['JavaScript', 'Java', 'HTML', 'CSS']</td>\n",
       "      <td>50,000.00</td>\n",
       "    </tr>\n",
       "    <tr>\n",
       "      <th>2570</th>\n",
       "      <td>Front End Engineer</td>\n",
       "      <td>Amazon.com Services LLC</td>\n",
       "      <td>Seattle, WA</td>\n",
       "      <td>From $115,000 a year</td>\n",
       "      <td>['JavaScript', 'Java', 'Go', 'TypeScript', 'HT...</td>\n",
       "      <td>115,000.00</td>\n",
       "    </tr>\n",
       "    <tr>\n",
       "      <th>1456</th>\n",
       "      <td>Process Engineer (Assembly Automation) - 22779</td>\n",
       "      <td>iMPact Business Group</td>\n",
       "      <td>Spartanburg, SC</td>\n",
       "      <td>$80,000 - $95,000 a year</td>\n",
       "      <td>[]</td>\n",
       "      <td>80,000.00</td>\n",
       "    </tr>\n",
       "    <tr>\n",
       "      <th>1641</th>\n",
       "      <td>Software Developer 3</td>\n",
       "      <td>Motus Recruiting and Staffing</td>\n",
       "      <td>Hybrid remote in Vancouver, WA 98663</td>\n",
       "      <td>$65 an hour</td>\n",
       "      <td>['C#', 'Go', 'Windows']</td>\n",
       "      <td>135,200.00</td>\n",
       "    </tr>\n",
       "    <tr>\n",
       "      <th>3125</th>\n",
       "      <td>Software Engineer</td>\n",
       "      <td>OSI VISION LLC</td>\n",
       "      <td>Hill AFB, UT 84056</td>\n",
       "      <td>$70,266 - $85,708 a year</td>\n",
       "      <td>[]</td>\n",
       "      <td>70,266.00</td>\n",
       "    </tr>\n",
       "  </tbody>\n",
       "</table>\n",
       "</div>"
      ],
      "text/plain": [
       "                                           job_title  \\\n",
       "3115                HTML & CSS Production Specialist   \n",
       "2570                              Front End Engineer   \n",
       "1456  Process Engineer (Assembly Automation) - 22779   \n",
       "1641                            Software Developer 3   \n",
       "3125                               Software Engineer   \n",
       "\n",
       "                       company_name                      company_location  \\\n",
       "3115                      SalesLabX                                Remote   \n",
       "2570        Amazon.com Services LLC                           Seattle, WA   \n",
       "1456          iMPact Business Group                       Spartanburg, SC   \n",
       "1641  Motus Recruiting and Staffing  Hybrid remote in Vancouver, WA 98663   \n",
       "3125                 OSI VISION LLC                    Hill AFB, UT 84056   \n",
       "\n",
       "                        salary  \\\n",
       "3115  $50,000 - $55,000 a year   \n",
       "2570      From $115,000 a year   \n",
       "1456  $80,000 - $95,000 a year   \n",
       "1641               $65 an hour   \n",
       "3125  $70,266 - $85,708 a year   \n",
       "\n",
       "                                                 skills  salary_min  \n",
       "3115              ['JavaScript', 'Java', 'HTML', 'CSS']   50,000.00  \n",
       "2570  ['JavaScript', 'Java', 'Go', 'TypeScript', 'HT...  115,000.00  \n",
       "1456                                                 []   80,000.00  \n",
       "1641                            ['C#', 'Go', 'Windows']  135,200.00  \n",
       "3125                                                 []   70,266.00  "
      ]
     },
     "execution_count": 26,
     "metadata": {},
     "output_type": "execute_result"
    }
   ],
   "source": [
    "df_data_clean.sample(5)"
   ]
  },
  {
   "cell_type": "markdown",
   "id": "f645dd99",
   "metadata": {},
   "source": [
    "<h3> Salary Information </h3>"
   ]
  },
  {
   "cell_type": "code",
   "execution_count": 27,
   "id": "10ee1901",
   "metadata": {},
   "outputs": [
    {
     "data": {
      "text/html": [
       "<div>\n",
       "<style scoped>\n",
       "    .dataframe tbody tr th:only-of-type {\n",
       "        vertical-align: middle;\n",
       "    }\n",
       "\n",
       "    .dataframe tbody tr th {\n",
       "        vertical-align: top;\n",
       "    }\n",
       "\n",
       "    .dataframe thead th {\n",
       "        text-align: right;\n",
       "    }\n",
       "</style>\n",
       "<table border=\"1\" class=\"dataframe\">\n",
       "  <thead>\n",
       "    <tr style=\"text-align: right;\">\n",
       "      <th></th>\n",
       "      <th>salary_min</th>\n",
       "    </tr>\n",
       "  </thead>\n",
       "  <tbody>\n",
       "    <tr>\n",
       "      <th>count</th>\n",
       "      <td>842.00</td>\n",
       "    </tr>\n",
       "    <tr>\n",
       "      <th>mean</th>\n",
       "      <td>104,065.58</td>\n",
       "    </tr>\n",
       "    <tr>\n",
       "      <th>std</th>\n",
       "      <td>37,532.97</td>\n",
       "    </tr>\n",
       "    <tr>\n",
       "      <th>min</th>\n",
       "      <td>14,519.00</td>\n",
       "    </tr>\n",
       "    <tr>\n",
       "      <th>25%</th>\n",
       "      <td>79,010.00</td>\n",
       "    </tr>\n",
       "    <tr>\n",
       "      <th>50%</th>\n",
       "      <td>100,000.00</td>\n",
       "    </tr>\n",
       "    <tr>\n",
       "      <th>75%</th>\n",
       "      <td>125,000.00</td>\n",
       "    </tr>\n",
       "    <tr>\n",
       "      <th>max</th>\n",
       "      <td>350,000.00</td>\n",
       "    </tr>\n",
       "  </tbody>\n",
       "</table>\n",
       "</div>"
      ],
      "text/plain": [
       "       salary_min\n",
       "count      842.00\n",
       "mean   104,065.58\n",
       "std     37,532.97\n",
       "min     14,519.00\n",
       "25%     79,010.00\n",
       "50%    100,000.00\n",
       "75%    125,000.00\n",
       "max    350,000.00"
      ]
     },
     "execution_count": 27,
     "metadata": {},
     "output_type": "execute_result"
    }
   ],
   "source": [
    "df_data_clean.describe()"
   ]
  },
  {
   "cell_type": "code",
   "execution_count": null,
   "id": "9f134538",
   "metadata": {},
   "outputs": [],
   "source": [
    "box n whiskers "
   ]
  },
  {
   "cell_type": "code",
   "execution_count": 67,
   "id": "d85e0506",
   "metadata": {},
   "outputs": [],
   "source": [
    "def findState(text):\n",
    "    pattern = r'(?<=[,\\s])([A-Z]{2})(?=\\s|$)'\n",
    "    match = re.findall(pattern,text)\n",
    "    if match:\n",
    "        return match[-1]\n",
    "    return None"
   ]
  },
  {
   "cell_type": "code",
   "execution_count": 75,
   "id": "f496ac1a",
   "metadata": {},
   "outputs": [],
   "source": [
    "def work_type(text):\n",
    "    if 'hybrid' in text.lower():\n",
    "        return 'Hybrid'\n",
    "    if 'remote' in text.lower():\n",
    "        return 'Remote'\n",
    "    else:\n",
    "        return 'In-Person'"
   ]
  },
  {
   "cell_type": "code",
   "execution_count": 76,
   "id": "e66b622b",
   "metadata": {},
   "outputs": [
    {
     "name": "stderr",
     "output_type": "stream",
     "text": [
      "/var/folders/wx/n3nghw29261195fbm316p8xm0000gn/T/ipykernel_21556/3413731205.py:1: SettingWithCopyWarning:\n",
      "\n",
      "\n",
      "A value is trying to be set on a copy of a slice from a DataFrame.\n",
      "Try using .loc[row_indexer,col_indexer] = value instead\n",
      "\n",
      "See the caveats in the documentation: https://pandas.pydata.org/pandas-docs/stable/user_guide/indexing.html#returning-a-view-versus-a-copy\n",
      "\n",
      "/var/folders/wx/n3nghw29261195fbm316p8xm0000gn/T/ipykernel_21556/3413731205.py:2: SettingWithCopyWarning:\n",
      "\n",
      "\n",
      "A value is trying to be set on a copy of a slice from a DataFrame.\n",
      "Try using .loc[row_indexer,col_indexer] = value instead\n",
      "\n",
      "See the caveats in the documentation: https://pandas.pydata.org/pandas-docs/stable/user_guide/indexing.html#returning-a-view-versus-a-copy\n",
      "\n"
     ]
    }
   ],
   "source": [
    "df_data_clean['state'] = df_data_clean['company_location'].apply(findState)\n",
    "df_data_clean['work_mode'] = df_data_clean['company_location'].apply(work_type)"
   ]
  },
  {
   "cell_type": "code",
   "execution_count": 77,
   "id": "f6e8890d",
   "metadata": {},
   "outputs": [
    {
     "data": {
      "text/html": [
       "<div>\n",
       "<style scoped>\n",
       "    .dataframe tbody tr th:only-of-type {\n",
       "        vertical-align: middle;\n",
       "    }\n",
       "\n",
       "    .dataframe tbody tr th {\n",
       "        vertical-align: top;\n",
       "    }\n",
       "\n",
       "    .dataframe thead th {\n",
       "        text-align: right;\n",
       "    }\n",
       "</style>\n",
       "<table border=\"1\" class=\"dataframe\">\n",
       "  <thead>\n",
       "    <tr style=\"text-align: right;\">\n",
       "      <th></th>\n",
       "      <th>job_title</th>\n",
       "      <th>company_name</th>\n",
       "      <th>company_location</th>\n",
       "      <th>salary</th>\n",
       "      <th>skills</th>\n",
       "      <th>salary_min</th>\n",
       "      <th>state</th>\n",
       "      <th>work_mode</th>\n",
       "    </tr>\n",
       "  </thead>\n",
       "  <tbody>\n",
       "    <tr>\n",
       "      <th>3297</th>\n",
       "      <td>Front End Developer</td>\n",
       "      <td>Summit-Tek, Inc.</td>\n",
       "      <td>Hybrid remote in Columbia, MD 21044</td>\n",
       "      <td>$120,000 - $160,000 a year</td>\n",
       "      <td>['JavaScript', 'Java', 'Go', 'HTML', 'CSS', 'R...</td>\n",
       "      <td>120,000.00</td>\n",
       "      <td>MD</td>\n",
       "      <td>Hybrid</td>\n",
       "    </tr>\n",
       "    <tr>\n",
       "      <th>1121</th>\n",
       "      <td>FULL STACK SOFTWARE DEVELOPER - REMOTE</td>\n",
       "      <td>FCP Euro</td>\n",
       "      <td>Remote</td>\n",
       "      <td>$90,000 - $120,000 a year</td>\n",
       "      <td>['JavaScript', 'Java', 'Ruby', 'Go', 'Ruby on ...</td>\n",
       "      <td>90,000.00</td>\n",
       "      <td>None</td>\n",
       "      <td>Remote</td>\n",
       "    </tr>\n",
       "    <tr>\n",
       "      <th>2639</th>\n",
       "      <td>Front end Engineer</td>\n",
       "      <td>Intelliswift Software, Inc.</td>\n",
       "      <td>San Jose, CA</td>\n",
       "      <td>$50.32 an hour</td>\n",
       "      <td>['JavaScript', 'Java', 'Go', 'TypeScript', 'Re...</td>\n",
       "      <td>104,665.60</td>\n",
       "      <td>CA</td>\n",
       "      <td>In-Person</td>\n",
       "    </tr>\n",
       "    <tr>\n",
       "      <th>1044</th>\n",
       "      <td>Software Engineer II (Automation Engineer)</td>\n",
       "      <td>Hexagon Digital Wave</td>\n",
       "      <td>Centennial, CO 80112</td>\n",
       "      <td>$90,000 - $105,000 a year</td>\n",
       "      <td>['C++', 'C#', 'Git']</td>\n",
       "      <td>90,000.00</td>\n",
       "      <td>CO</td>\n",
       "      <td>In-Person</td>\n",
       "    </tr>\n",
       "    <tr>\n",
       "      <th>583</th>\n",
       "      <td>Software Engineer II</td>\n",
       "      <td>The Trade Desk</td>\n",
       "      <td>San Jose, CA 95113 \\n(Downtown area)</td>\n",
       "      <td>$135,283 - $184,000 a year</td>\n",
       "      <td>['Python', 'C#']</td>\n",
       "      <td>135,283.00</td>\n",
       "      <td>CA</td>\n",
       "      <td>In-Person</td>\n",
       "    </tr>\n",
       "  </tbody>\n",
       "</table>\n",
       "</div>"
      ],
      "text/plain": [
       "                                       job_title                 company_name  \\\n",
       "3297                         Front End Developer             Summit-Tek, Inc.   \n",
       "1121      FULL STACK SOFTWARE DEVELOPER - REMOTE                     FCP Euro   \n",
       "2639                          Front end Engineer  Intelliswift Software, Inc.   \n",
       "1044  Software Engineer II (Automation Engineer)         Hexagon Digital Wave   \n",
       "583                         Software Engineer II               The Trade Desk   \n",
       "\n",
       "                          company_location                      salary  \\\n",
       "3297   Hybrid remote in Columbia, MD 21044  $120,000 - $160,000 a year   \n",
       "1121                                Remote   $90,000 - $120,000 a year   \n",
       "2639                          San Jose, CA              $50.32 an hour   \n",
       "1044                  Centennial, CO 80112   $90,000 - $105,000 a year   \n",
       "583   San Jose, CA 95113 \\n(Downtown area)  $135,283 - $184,000 a year   \n",
       "\n",
       "                                                 skills  salary_min state  \\\n",
       "3297  ['JavaScript', 'Java', 'Go', 'HTML', 'CSS', 'R...  120,000.00    MD   \n",
       "1121  ['JavaScript', 'Java', 'Ruby', 'Go', 'Ruby on ...   90,000.00  None   \n",
       "2639  ['JavaScript', 'Java', 'Go', 'TypeScript', 'Re...  104,665.60    CA   \n",
       "1044                               ['C++', 'C#', 'Git']   90,000.00    CO   \n",
       "583                                    ['Python', 'C#']  135,283.00    CA   \n",
       "\n",
       "      work_mode  \n",
       "3297     Hybrid  \n",
       "1121     Remote  \n",
       "2639  In-Person  \n",
       "1044  In-Person  \n",
       "583   In-Person  "
      ]
     },
     "execution_count": 77,
     "metadata": {},
     "output_type": "execute_result"
    }
   ],
   "source": [
    "df_data_clean.sample(5)"
   ]
  },
  {
   "cell_type": "code",
   "execution_count": null,
   "id": "c55f0ba9",
   "metadata": {},
   "outputs": [],
   "source": []
  },
  {
   "cell_type": "markdown",
   "id": "de387cce",
   "metadata": {},
   "source": [
    "<h3> Data Analysis </h3>"
   ]
  },
  {
   "cell_type": "code",
   "execution_count": 116,
   "id": "4d048d3e",
   "metadata": {},
   "outputs": [],
   "source": [
    "state_counts = df_data_clean['state'].value_counts().reset_index()\n",
    "state_counts.columns = ['state','count']"
   ]
  },
  {
   "cell_type": "code",
   "execution_count": 90,
   "id": "81d8d81e",
   "metadata": {},
   "outputs": [
    {
     "data": {
      "application/vnd.plotly.v1+json": {
       "config": {
        "plotlyServerURL": "https://plot.ly"
       },
       "data": [
        {
         "coloraxis": "coloraxis",
         "geo": "geo",
         "hovertemplate": "<b>%{hovertext}</b><br><br>state=%{location}<br>count=%{z}<extra></extra>",
         "hovertext": [
          "CA",
          "TX",
          "NY",
          "FL",
          "VA",
          "WA",
          "CO",
          "IL",
          "PA",
          "GA",
          "AZ",
          "NJ",
          "UT",
          "MD",
          "OH",
          "MA",
          "NC",
          "IN",
          "SC",
          "MI",
          "WI",
          "MO",
          "DC",
          "TN",
          "MN",
          "KS",
          "OR",
          "CT",
          "NE",
          "NH",
          "HI",
          "OK",
          "AL",
          "KY",
          "RI",
          "NV",
          "MS",
          "PR",
          "ID",
          "IA",
          "NM",
          "DE",
          "MT",
          "ME",
          "AR",
          "LA",
          "SD",
          "WV",
          "VT"
         ],
         "locationmode": "USA-states",
         "locations": [
          "CA",
          "TX",
          "NY",
          "FL",
          "VA",
          "WA",
          "CO",
          "IL",
          "PA",
          "GA",
          "AZ",
          "NJ",
          "UT",
          "MD",
          "OH",
          "MA",
          "NC",
          "IN",
          "SC",
          "MI",
          "WI",
          "MO",
          "DC",
          "TN",
          "MN",
          "KS",
          "OR",
          "CT",
          "NE",
          "NH",
          "HI",
          "OK",
          "AL",
          "KY",
          "RI",
          "NV",
          "MS",
          "PR",
          "ID",
          "IA",
          "NM",
          "DE",
          "MT",
          "ME",
          "AR",
          "LA",
          "SD",
          "WV",
          "VT"
         ],
         "name": "",
         "type": "choropleth",
         "z": [
          101,
          64,
          41,
          39,
          33,
          32,
          27,
          27,
          25,
          23,
          23,
          23,
          22,
          21,
          20,
          19,
          19,
          15,
          14,
          13,
          11,
          10,
          10,
          9,
          8,
          6,
          6,
          6,
          4,
          4,
          3,
          3,
          3,
          3,
          3,
          3,
          2,
          2,
          2,
          2,
          2,
          1,
          1,
          1,
          1,
          1,
          1,
          1,
          1
         ]
        }
       ],
       "layout": {
        "coloraxis": {
         "cmax": 100,
         "cmin": 0,
         "colorbar": {
          "title": {
           "text": "count"
          }
         },
         "colorscale": [
          [
           0,
           "#0d0887"
          ],
          [
           0.1111111111111111,
           "#46039f"
          ],
          [
           0.2222222222222222,
           "#7201a8"
          ],
          [
           0.3333333333333333,
           "#9c179e"
          ],
          [
           0.4444444444444444,
           "#bd3786"
          ],
          [
           0.5555555555555556,
           "#d8576b"
          ],
          [
           0.6666666666666666,
           "#ed7953"
          ],
          [
           0.7777777777777778,
           "#fb9f3a"
          ],
          [
           0.8888888888888888,
           "#fdca26"
          ],
          [
           1,
           "#f0f921"
          ]
         ]
        },
        "geo": {
         "center": {},
         "domain": {
          "x": [
           0,
           1
          ],
          "y": [
           0,
           1
          ]
         },
         "scope": "usa"
        },
        "legend": {
         "tracegroupgap": 0
        },
        "template": {
         "data": {
          "bar": [
           {
            "error_x": {
             "color": "#2a3f5f"
            },
            "error_y": {
             "color": "#2a3f5f"
            },
            "marker": {
             "line": {
              "color": "#E5ECF6",
              "width": 0.5
             },
             "pattern": {
              "fillmode": "overlay",
              "size": 10,
              "solidity": 0.2
             }
            },
            "type": "bar"
           }
          ],
          "barpolar": [
           {
            "marker": {
             "line": {
              "color": "#E5ECF6",
              "width": 0.5
             },
             "pattern": {
              "fillmode": "overlay",
              "size": 10,
              "solidity": 0.2
             }
            },
            "type": "barpolar"
           }
          ],
          "carpet": [
           {
            "aaxis": {
             "endlinecolor": "#2a3f5f",
             "gridcolor": "white",
             "linecolor": "white",
             "minorgridcolor": "white",
             "startlinecolor": "#2a3f5f"
            },
            "baxis": {
             "endlinecolor": "#2a3f5f",
             "gridcolor": "white",
             "linecolor": "white",
             "minorgridcolor": "white",
             "startlinecolor": "#2a3f5f"
            },
            "type": "carpet"
           }
          ],
          "choropleth": [
           {
            "colorbar": {
             "outlinewidth": 0,
             "ticks": ""
            },
            "type": "choropleth"
           }
          ],
          "contour": [
           {
            "colorbar": {
             "outlinewidth": 0,
             "ticks": ""
            },
            "colorscale": [
             [
              0,
              "#0d0887"
             ],
             [
              0.1111111111111111,
              "#46039f"
             ],
             [
              0.2222222222222222,
              "#7201a8"
             ],
             [
              0.3333333333333333,
              "#9c179e"
             ],
             [
              0.4444444444444444,
              "#bd3786"
             ],
             [
              0.5555555555555556,
              "#d8576b"
             ],
             [
              0.6666666666666666,
              "#ed7953"
             ],
             [
              0.7777777777777778,
              "#fb9f3a"
             ],
             [
              0.8888888888888888,
              "#fdca26"
             ],
             [
              1,
              "#f0f921"
             ]
            ],
            "type": "contour"
           }
          ],
          "contourcarpet": [
           {
            "colorbar": {
             "outlinewidth": 0,
             "ticks": ""
            },
            "type": "contourcarpet"
           }
          ],
          "heatmap": [
           {
            "colorbar": {
             "outlinewidth": 0,
             "ticks": ""
            },
            "colorscale": [
             [
              0,
              "#0d0887"
             ],
             [
              0.1111111111111111,
              "#46039f"
             ],
             [
              0.2222222222222222,
              "#7201a8"
             ],
             [
              0.3333333333333333,
              "#9c179e"
             ],
             [
              0.4444444444444444,
              "#bd3786"
             ],
             [
              0.5555555555555556,
              "#d8576b"
             ],
             [
              0.6666666666666666,
              "#ed7953"
             ],
             [
              0.7777777777777778,
              "#fb9f3a"
             ],
             [
              0.8888888888888888,
              "#fdca26"
             ],
             [
              1,
              "#f0f921"
             ]
            ],
            "type": "heatmap"
           }
          ],
          "heatmapgl": [
           {
            "colorbar": {
             "outlinewidth": 0,
             "ticks": ""
            },
            "colorscale": [
             [
              0,
              "#0d0887"
             ],
             [
              0.1111111111111111,
              "#46039f"
             ],
             [
              0.2222222222222222,
              "#7201a8"
             ],
             [
              0.3333333333333333,
              "#9c179e"
             ],
             [
              0.4444444444444444,
              "#bd3786"
             ],
             [
              0.5555555555555556,
              "#d8576b"
             ],
             [
              0.6666666666666666,
              "#ed7953"
             ],
             [
              0.7777777777777778,
              "#fb9f3a"
             ],
             [
              0.8888888888888888,
              "#fdca26"
             ],
             [
              1,
              "#f0f921"
             ]
            ],
            "type": "heatmapgl"
           }
          ],
          "histogram": [
           {
            "marker": {
             "pattern": {
              "fillmode": "overlay",
              "size": 10,
              "solidity": 0.2
             }
            },
            "type": "histogram"
           }
          ],
          "histogram2d": [
           {
            "colorbar": {
             "outlinewidth": 0,
             "ticks": ""
            },
            "colorscale": [
             [
              0,
              "#0d0887"
             ],
             [
              0.1111111111111111,
              "#46039f"
             ],
             [
              0.2222222222222222,
              "#7201a8"
             ],
             [
              0.3333333333333333,
              "#9c179e"
             ],
             [
              0.4444444444444444,
              "#bd3786"
             ],
             [
              0.5555555555555556,
              "#d8576b"
             ],
             [
              0.6666666666666666,
              "#ed7953"
             ],
             [
              0.7777777777777778,
              "#fb9f3a"
             ],
             [
              0.8888888888888888,
              "#fdca26"
             ],
             [
              1,
              "#f0f921"
             ]
            ],
            "type": "histogram2d"
           }
          ],
          "histogram2dcontour": [
           {
            "colorbar": {
             "outlinewidth": 0,
             "ticks": ""
            },
            "colorscale": [
             [
              0,
              "#0d0887"
             ],
             [
              0.1111111111111111,
              "#46039f"
             ],
             [
              0.2222222222222222,
              "#7201a8"
             ],
             [
              0.3333333333333333,
              "#9c179e"
             ],
             [
              0.4444444444444444,
              "#bd3786"
             ],
             [
              0.5555555555555556,
              "#d8576b"
             ],
             [
              0.6666666666666666,
              "#ed7953"
             ],
             [
              0.7777777777777778,
              "#fb9f3a"
             ],
             [
              0.8888888888888888,
              "#fdca26"
             ],
             [
              1,
              "#f0f921"
             ]
            ],
            "type": "histogram2dcontour"
           }
          ],
          "mesh3d": [
           {
            "colorbar": {
             "outlinewidth": 0,
             "ticks": ""
            },
            "type": "mesh3d"
           }
          ],
          "parcoords": [
           {
            "line": {
             "colorbar": {
              "outlinewidth": 0,
              "ticks": ""
             }
            },
            "type": "parcoords"
           }
          ],
          "pie": [
           {
            "automargin": true,
            "type": "pie"
           }
          ],
          "scatter": [
           {
            "fillpattern": {
             "fillmode": "overlay",
             "size": 10,
             "solidity": 0.2
            },
            "type": "scatter"
           }
          ],
          "scatter3d": [
           {
            "line": {
             "colorbar": {
              "outlinewidth": 0,
              "ticks": ""
             }
            },
            "marker": {
             "colorbar": {
              "outlinewidth": 0,
              "ticks": ""
             }
            },
            "type": "scatter3d"
           }
          ],
          "scattercarpet": [
           {
            "marker": {
             "colorbar": {
              "outlinewidth": 0,
              "ticks": ""
             }
            },
            "type": "scattercarpet"
           }
          ],
          "scattergeo": [
           {
            "marker": {
             "colorbar": {
              "outlinewidth": 0,
              "ticks": ""
             }
            },
            "type": "scattergeo"
           }
          ],
          "scattergl": [
           {
            "marker": {
             "colorbar": {
              "outlinewidth": 0,
              "ticks": ""
             }
            },
            "type": "scattergl"
           }
          ],
          "scattermapbox": [
           {
            "marker": {
             "colorbar": {
              "outlinewidth": 0,
              "ticks": ""
             }
            },
            "type": "scattermapbox"
           }
          ],
          "scatterpolar": [
           {
            "marker": {
             "colorbar": {
              "outlinewidth": 0,
              "ticks": ""
             }
            },
            "type": "scatterpolar"
           }
          ],
          "scatterpolargl": [
           {
            "marker": {
             "colorbar": {
              "outlinewidth": 0,
              "ticks": ""
             }
            },
            "type": "scatterpolargl"
           }
          ],
          "scatterternary": [
           {
            "marker": {
             "colorbar": {
              "outlinewidth": 0,
              "ticks": ""
             }
            },
            "type": "scatterternary"
           }
          ],
          "surface": [
           {
            "colorbar": {
             "outlinewidth": 0,
             "ticks": ""
            },
            "colorscale": [
             [
              0,
              "#0d0887"
             ],
             [
              0.1111111111111111,
              "#46039f"
             ],
             [
              0.2222222222222222,
              "#7201a8"
             ],
             [
              0.3333333333333333,
              "#9c179e"
             ],
             [
              0.4444444444444444,
              "#bd3786"
             ],
             [
              0.5555555555555556,
              "#d8576b"
             ],
             [
              0.6666666666666666,
              "#ed7953"
             ],
             [
              0.7777777777777778,
              "#fb9f3a"
             ],
             [
              0.8888888888888888,
              "#fdca26"
             ],
             [
              1,
              "#f0f921"
             ]
            ],
            "type": "surface"
           }
          ],
          "table": [
           {
            "cells": {
             "fill": {
              "color": "#EBF0F8"
             },
             "line": {
              "color": "white"
             }
            },
            "header": {
             "fill": {
              "color": "#C8D4E3"
             },
             "line": {
              "color": "white"
             }
            },
            "type": "table"
           }
          ]
         },
         "layout": {
          "annotationdefaults": {
           "arrowcolor": "#2a3f5f",
           "arrowhead": 0,
           "arrowwidth": 1
          },
          "autotypenumbers": "strict",
          "coloraxis": {
           "colorbar": {
            "outlinewidth": 0,
            "ticks": ""
           }
          },
          "colorscale": {
           "diverging": [
            [
             0,
             "#8e0152"
            ],
            [
             0.1,
             "#c51b7d"
            ],
            [
             0.2,
             "#de77ae"
            ],
            [
             0.3,
             "#f1b6da"
            ],
            [
             0.4,
             "#fde0ef"
            ],
            [
             0.5,
             "#f7f7f7"
            ],
            [
             0.6,
             "#e6f5d0"
            ],
            [
             0.7,
             "#b8e186"
            ],
            [
             0.8,
             "#7fbc41"
            ],
            [
             0.9,
             "#4d9221"
            ],
            [
             1,
             "#276419"
            ]
           ],
           "sequential": [
            [
             0,
             "#0d0887"
            ],
            [
             0.1111111111111111,
             "#46039f"
            ],
            [
             0.2222222222222222,
             "#7201a8"
            ],
            [
             0.3333333333333333,
             "#9c179e"
            ],
            [
             0.4444444444444444,
             "#bd3786"
            ],
            [
             0.5555555555555556,
             "#d8576b"
            ],
            [
             0.6666666666666666,
             "#ed7953"
            ],
            [
             0.7777777777777778,
             "#fb9f3a"
            ],
            [
             0.8888888888888888,
             "#fdca26"
            ],
            [
             1,
             "#f0f921"
            ]
           ],
           "sequentialminus": [
            [
             0,
             "#0d0887"
            ],
            [
             0.1111111111111111,
             "#46039f"
            ],
            [
             0.2222222222222222,
             "#7201a8"
            ],
            [
             0.3333333333333333,
             "#9c179e"
            ],
            [
             0.4444444444444444,
             "#bd3786"
            ],
            [
             0.5555555555555556,
             "#d8576b"
            ],
            [
             0.6666666666666666,
             "#ed7953"
            ],
            [
             0.7777777777777778,
             "#fb9f3a"
            ],
            [
             0.8888888888888888,
             "#fdca26"
            ],
            [
             1,
             "#f0f921"
            ]
           ]
          },
          "colorway": [
           "#636efa",
           "#EF553B",
           "#00cc96",
           "#ab63fa",
           "#FFA15A",
           "#19d3f3",
           "#FF6692",
           "#B6E880",
           "#FF97FF",
           "#FECB52"
          ],
          "font": {
           "color": "#2a3f5f"
          },
          "geo": {
           "bgcolor": "white",
           "lakecolor": "white",
           "landcolor": "#E5ECF6",
           "showlakes": true,
           "showland": true,
           "subunitcolor": "white"
          },
          "hoverlabel": {
           "align": "left"
          },
          "hovermode": "closest",
          "mapbox": {
           "style": "light"
          },
          "paper_bgcolor": "white",
          "plot_bgcolor": "#E5ECF6",
          "polar": {
           "angularaxis": {
            "gridcolor": "white",
            "linecolor": "white",
            "ticks": ""
           },
           "bgcolor": "#E5ECF6",
           "radialaxis": {
            "gridcolor": "white",
            "linecolor": "white",
            "ticks": ""
           }
          },
          "scene": {
           "xaxis": {
            "backgroundcolor": "#E5ECF6",
            "gridcolor": "white",
            "gridwidth": 2,
            "linecolor": "white",
            "showbackground": true,
            "ticks": "",
            "zerolinecolor": "white"
           },
           "yaxis": {
            "backgroundcolor": "#E5ECF6",
            "gridcolor": "white",
            "gridwidth": 2,
            "linecolor": "white",
            "showbackground": true,
            "ticks": "",
            "zerolinecolor": "white"
           },
           "zaxis": {
            "backgroundcolor": "#E5ECF6",
            "gridcolor": "white",
            "gridwidth": 2,
            "linecolor": "white",
            "showbackground": true,
            "ticks": "",
            "zerolinecolor": "white"
           }
          },
          "shapedefaults": {
           "line": {
            "color": "#2a3f5f"
           }
          },
          "ternary": {
           "aaxis": {
            "gridcolor": "white",
            "linecolor": "white",
            "ticks": ""
           },
           "baxis": {
            "gridcolor": "white",
            "linecolor": "white",
            "ticks": ""
           },
           "bgcolor": "#E5ECF6",
           "caxis": {
            "gridcolor": "white",
            "linecolor": "white",
            "ticks": ""
           }
          },
          "title": {
           "x": 0.05
          },
          "xaxis": {
           "automargin": true,
           "gridcolor": "white",
           "linecolor": "white",
           "ticks": "",
           "title": {
            "standoff": 15
           },
           "zerolinecolor": "white",
           "zerolinewidth": 2
          },
          "yaxis": {
           "automargin": true,
           "gridcolor": "white",
           "linecolor": "white",
           "ticks": "",
           "title": {
            "standoff": 15
           },
           "zerolinecolor": "white",
           "zerolinewidth": 2
          }
         }
        },
        "title": {
         "text": "Software Engineer Jobs in the United States"
        }
       }
      },
      "text/html": [
       "<div>                            <div id=\"b9ed07f4-9a45-411c-96df-0af7d453fe4d\" class=\"plotly-graph-div\" style=\"height:525px; width:100%;\"></div>            <script type=\"text/javascript\">                require([\"plotly\"], function(Plotly) {                    window.PLOTLYENV=window.PLOTLYENV || {};                                    if (document.getElementById(\"b9ed07f4-9a45-411c-96df-0af7d453fe4d\")) {                    Plotly.newPlot(                        \"b9ed07f4-9a45-411c-96df-0af7d453fe4d\",                        [{\"coloraxis\":\"coloraxis\",\"geo\":\"geo\",\"hovertemplate\":\"\\u003cb\\u003e%{hovertext}\\u003c\\u002fb\\u003e\\u003cbr\\u003e\\u003cbr\\u003estate=%{location}\\u003cbr\\u003ecount=%{z}\\u003cextra\\u003e\\u003c\\u002fextra\\u003e\",\"hovertext\":[\"CA\",\"TX\",\"NY\",\"FL\",\"VA\",\"WA\",\"CO\",\"IL\",\"PA\",\"GA\",\"AZ\",\"NJ\",\"UT\",\"MD\",\"OH\",\"MA\",\"NC\",\"IN\",\"SC\",\"MI\",\"WI\",\"MO\",\"DC\",\"TN\",\"MN\",\"KS\",\"OR\",\"CT\",\"NE\",\"NH\",\"HI\",\"OK\",\"AL\",\"KY\",\"RI\",\"NV\",\"MS\",\"PR\",\"ID\",\"IA\",\"NM\",\"DE\",\"MT\",\"ME\",\"AR\",\"LA\",\"SD\",\"WV\",\"VT\"],\"locationmode\":\"USA-states\",\"locations\":[\"CA\",\"TX\",\"NY\",\"FL\",\"VA\",\"WA\",\"CO\",\"IL\",\"PA\",\"GA\",\"AZ\",\"NJ\",\"UT\",\"MD\",\"OH\",\"MA\",\"NC\",\"IN\",\"SC\",\"MI\",\"WI\",\"MO\",\"DC\",\"TN\",\"MN\",\"KS\",\"OR\",\"CT\",\"NE\",\"NH\",\"HI\",\"OK\",\"AL\",\"KY\",\"RI\",\"NV\",\"MS\",\"PR\",\"ID\",\"IA\",\"NM\",\"DE\",\"MT\",\"ME\",\"AR\",\"LA\",\"SD\",\"WV\",\"VT\"],\"name\":\"\",\"z\":[101,64,41,39,33,32,27,27,25,23,23,23,22,21,20,19,19,15,14,13,11,10,10,9,8,6,6,6,4,4,3,3,3,3,3,3,2,2,2,2,2,1,1,1,1,1,1,1,1],\"type\":\"choropleth\"}],                        {\"template\":{\"data\":{\"histogram2dcontour\":[{\"type\":\"histogram2dcontour\",\"colorbar\":{\"outlinewidth\":0,\"ticks\":\"\"},\"colorscale\":[[0.0,\"#0d0887\"],[0.1111111111111111,\"#46039f\"],[0.2222222222222222,\"#7201a8\"],[0.3333333333333333,\"#9c179e\"],[0.4444444444444444,\"#bd3786\"],[0.5555555555555556,\"#d8576b\"],[0.6666666666666666,\"#ed7953\"],[0.7777777777777778,\"#fb9f3a\"],[0.8888888888888888,\"#fdca26\"],[1.0,\"#f0f921\"]]}],\"choropleth\":[{\"type\":\"choropleth\",\"colorbar\":{\"outlinewidth\":0,\"ticks\":\"\"}}],\"histogram2d\":[{\"type\":\"histogram2d\",\"colorbar\":{\"outlinewidth\":0,\"ticks\":\"\"},\"colorscale\":[[0.0,\"#0d0887\"],[0.1111111111111111,\"#46039f\"],[0.2222222222222222,\"#7201a8\"],[0.3333333333333333,\"#9c179e\"],[0.4444444444444444,\"#bd3786\"],[0.5555555555555556,\"#d8576b\"],[0.6666666666666666,\"#ed7953\"],[0.7777777777777778,\"#fb9f3a\"],[0.8888888888888888,\"#fdca26\"],[1.0,\"#f0f921\"]]}],\"heatmap\":[{\"type\":\"heatmap\",\"colorbar\":{\"outlinewidth\":0,\"ticks\":\"\"},\"colorscale\":[[0.0,\"#0d0887\"],[0.1111111111111111,\"#46039f\"],[0.2222222222222222,\"#7201a8\"],[0.3333333333333333,\"#9c179e\"],[0.4444444444444444,\"#bd3786\"],[0.5555555555555556,\"#d8576b\"],[0.6666666666666666,\"#ed7953\"],[0.7777777777777778,\"#fb9f3a\"],[0.8888888888888888,\"#fdca26\"],[1.0,\"#f0f921\"]]}],\"heatmapgl\":[{\"type\":\"heatmapgl\",\"colorbar\":{\"outlinewidth\":0,\"ticks\":\"\"},\"colorscale\":[[0.0,\"#0d0887\"],[0.1111111111111111,\"#46039f\"],[0.2222222222222222,\"#7201a8\"],[0.3333333333333333,\"#9c179e\"],[0.4444444444444444,\"#bd3786\"],[0.5555555555555556,\"#d8576b\"],[0.6666666666666666,\"#ed7953\"],[0.7777777777777778,\"#fb9f3a\"],[0.8888888888888888,\"#fdca26\"],[1.0,\"#f0f921\"]]}],\"contourcarpet\":[{\"type\":\"contourcarpet\",\"colorbar\":{\"outlinewidth\":0,\"ticks\":\"\"}}],\"contour\":[{\"type\":\"contour\",\"colorbar\":{\"outlinewidth\":0,\"ticks\":\"\"},\"colorscale\":[[0.0,\"#0d0887\"],[0.1111111111111111,\"#46039f\"],[0.2222222222222222,\"#7201a8\"],[0.3333333333333333,\"#9c179e\"],[0.4444444444444444,\"#bd3786\"],[0.5555555555555556,\"#d8576b\"],[0.6666666666666666,\"#ed7953\"],[0.7777777777777778,\"#fb9f3a\"],[0.8888888888888888,\"#fdca26\"],[1.0,\"#f0f921\"]]}],\"surface\":[{\"type\":\"surface\",\"colorbar\":{\"outlinewidth\":0,\"ticks\":\"\"},\"colorscale\":[[0.0,\"#0d0887\"],[0.1111111111111111,\"#46039f\"],[0.2222222222222222,\"#7201a8\"],[0.3333333333333333,\"#9c179e\"],[0.4444444444444444,\"#bd3786\"],[0.5555555555555556,\"#d8576b\"],[0.6666666666666666,\"#ed7953\"],[0.7777777777777778,\"#fb9f3a\"],[0.8888888888888888,\"#fdca26\"],[1.0,\"#f0f921\"]]}],\"mesh3d\":[{\"type\":\"mesh3d\",\"colorbar\":{\"outlinewidth\":0,\"ticks\":\"\"}}],\"scatter\":[{\"fillpattern\":{\"fillmode\":\"overlay\",\"size\":10,\"solidity\":0.2},\"type\":\"scatter\"}],\"parcoords\":[{\"type\":\"parcoords\",\"line\":{\"colorbar\":{\"outlinewidth\":0,\"ticks\":\"\"}}}],\"scatterpolargl\":[{\"type\":\"scatterpolargl\",\"marker\":{\"colorbar\":{\"outlinewidth\":0,\"ticks\":\"\"}}}],\"bar\":[{\"error_x\":{\"color\":\"#2a3f5f\"},\"error_y\":{\"color\":\"#2a3f5f\"},\"marker\":{\"line\":{\"color\":\"#E5ECF6\",\"width\":0.5},\"pattern\":{\"fillmode\":\"overlay\",\"size\":10,\"solidity\":0.2}},\"type\":\"bar\"}],\"scattergeo\":[{\"type\":\"scattergeo\",\"marker\":{\"colorbar\":{\"outlinewidth\":0,\"ticks\":\"\"}}}],\"scatterpolar\":[{\"type\":\"scatterpolar\",\"marker\":{\"colorbar\":{\"outlinewidth\":0,\"ticks\":\"\"}}}],\"histogram\":[{\"marker\":{\"pattern\":{\"fillmode\":\"overlay\",\"size\":10,\"solidity\":0.2}},\"type\":\"histogram\"}],\"scattergl\":[{\"type\":\"scattergl\",\"marker\":{\"colorbar\":{\"outlinewidth\":0,\"ticks\":\"\"}}}],\"scatter3d\":[{\"type\":\"scatter3d\",\"line\":{\"colorbar\":{\"outlinewidth\":0,\"ticks\":\"\"}},\"marker\":{\"colorbar\":{\"outlinewidth\":0,\"ticks\":\"\"}}}],\"scattermapbox\":[{\"type\":\"scattermapbox\",\"marker\":{\"colorbar\":{\"outlinewidth\":0,\"ticks\":\"\"}}}],\"scatterternary\":[{\"type\":\"scatterternary\",\"marker\":{\"colorbar\":{\"outlinewidth\":0,\"ticks\":\"\"}}}],\"scattercarpet\":[{\"type\":\"scattercarpet\",\"marker\":{\"colorbar\":{\"outlinewidth\":0,\"ticks\":\"\"}}}],\"carpet\":[{\"aaxis\":{\"endlinecolor\":\"#2a3f5f\",\"gridcolor\":\"white\",\"linecolor\":\"white\",\"minorgridcolor\":\"white\",\"startlinecolor\":\"#2a3f5f\"},\"baxis\":{\"endlinecolor\":\"#2a3f5f\",\"gridcolor\":\"white\",\"linecolor\":\"white\",\"minorgridcolor\":\"white\",\"startlinecolor\":\"#2a3f5f\"},\"type\":\"carpet\"}],\"table\":[{\"cells\":{\"fill\":{\"color\":\"#EBF0F8\"},\"line\":{\"color\":\"white\"}},\"header\":{\"fill\":{\"color\":\"#C8D4E3\"},\"line\":{\"color\":\"white\"}},\"type\":\"table\"}],\"barpolar\":[{\"marker\":{\"line\":{\"color\":\"#E5ECF6\",\"width\":0.5},\"pattern\":{\"fillmode\":\"overlay\",\"size\":10,\"solidity\":0.2}},\"type\":\"barpolar\"}],\"pie\":[{\"automargin\":true,\"type\":\"pie\"}]},\"layout\":{\"autotypenumbers\":\"strict\",\"colorway\":[\"#636efa\",\"#EF553B\",\"#00cc96\",\"#ab63fa\",\"#FFA15A\",\"#19d3f3\",\"#FF6692\",\"#B6E880\",\"#FF97FF\",\"#FECB52\"],\"font\":{\"color\":\"#2a3f5f\"},\"hovermode\":\"closest\",\"hoverlabel\":{\"align\":\"left\"},\"paper_bgcolor\":\"white\",\"plot_bgcolor\":\"#E5ECF6\",\"polar\":{\"bgcolor\":\"#E5ECF6\",\"angularaxis\":{\"gridcolor\":\"white\",\"linecolor\":\"white\",\"ticks\":\"\"},\"radialaxis\":{\"gridcolor\":\"white\",\"linecolor\":\"white\",\"ticks\":\"\"}},\"ternary\":{\"bgcolor\":\"#E5ECF6\",\"aaxis\":{\"gridcolor\":\"white\",\"linecolor\":\"white\",\"ticks\":\"\"},\"baxis\":{\"gridcolor\":\"white\",\"linecolor\":\"white\",\"ticks\":\"\"},\"caxis\":{\"gridcolor\":\"white\",\"linecolor\":\"white\",\"ticks\":\"\"}},\"coloraxis\":{\"colorbar\":{\"outlinewidth\":0,\"ticks\":\"\"}},\"colorscale\":{\"sequential\":[[0.0,\"#0d0887\"],[0.1111111111111111,\"#46039f\"],[0.2222222222222222,\"#7201a8\"],[0.3333333333333333,\"#9c179e\"],[0.4444444444444444,\"#bd3786\"],[0.5555555555555556,\"#d8576b\"],[0.6666666666666666,\"#ed7953\"],[0.7777777777777778,\"#fb9f3a\"],[0.8888888888888888,\"#fdca26\"],[1.0,\"#f0f921\"]],\"sequentialminus\":[[0.0,\"#0d0887\"],[0.1111111111111111,\"#46039f\"],[0.2222222222222222,\"#7201a8\"],[0.3333333333333333,\"#9c179e\"],[0.4444444444444444,\"#bd3786\"],[0.5555555555555556,\"#d8576b\"],[0.6666666666666666,\"#ed7953\"],[0.7777777777777778,\"#fb9f3a\"],[0.8888888888888888,\"#fdca26\"],[1.0,\"#f0f921\"]],\"diverging\":[[0,\"#8e0152\"],[0.1,\"#c51b7d\"],[0.2,\"#de77ae\"],[0.3,\"#f1b6da\"],[0.4,\"#fde0ef\"],[0.5,\"#f7f7f7\"],[0.6,\"#e6f5d0\"],[0.7,\"#b8e186\"],[0.8,\"#7fbc41\"],[0.9,\"#4d9221\"],[1,\"#276419\"]]},\"xaxis\":{\"gridcolor\":\"white\",\"linecolor\":\"white\",\"ticks\":\"\",\"title\":{\"standoff\":15},\"zerolinecolor\":\"white\",\"automargin\":true,\"zerolinewidth\":2},\"yaxis\":{\"gridcolor\":\"white\",\"linecolor\":\"white\",\"ticks\":\"\",\"title\":{\"standoff\":15},\"zerolinecolor\":\"white\",\"automargin\":true,\"zerolinewidth\":2},\"scene\":{\"xaxis\":{\"backgroundcolor\":\"#E5ECF6\",\"gridcolor\":\"white\",\"linecolor\":\"white\",\"showbackground\":true,\"ticks\":\"\",\"zerolinecolor\":\"white\",\"gridwidth\":2},\"yaxis\":{\"backgroundcolor\":\"#E5ECF6\",\"gridcolor\":\"white\",\"linecolor\":\"white\",\"showbackground\":true,\"ticks\":\"\",\"zerolinecolor\":\"white\",\"gridwidth\":2},\"zaxis\":{\"backgroundcolor\":\"#E5ECF6\",\"gridcolor\":\"white\",\"linecolor\":\"white\",\"showbackground\":true,\"ticks\":\"\",\"zerolinecolor\":\"white\",\"gridwidth\":2}},\"shapedefaults\":{\"line\":{\"color\":\"#2a3f5f\"}},\"annotationdefaults\":{\"arrowcolor\":\"#2a3f5f\",\"arrowhead\":0,\"arrowwidth\":1},\"geo\":{\"bgcolor\":\"white\",\"landcolor\":\"#E5ECF6\",\"subunitcolor\":\"white\",\"showland\":true,\"showlakes\":true,\"lakecolor\":\"white\"},\"title\":{\"x\":0.05},\"mapbox\":{\"style\":\"light\"}}},\"geo\":{\"domain\":{\"x\":[0.0,1.0],\"y\":[0.0,1.0]},\"center\":{},\"scope\":\"usa\"},\"coloraxis\":{\"colorbar\":{\"title\":{\"text\":\"count\"}},\"colorscale\":[[0.0,\"#0d0887\"],[0.1111111111111111,\"#46039f\"],[0.2222222222222222,\"#7201a8\"],[0.3333333333333333,\"#9c179e\"],[0.4444444444444444,\"#bd3786\"],[0.5555555555555556,\"#d8576b\"],[0.6666666666666666,\"#ed7953\"],[0.7777777777777778,\"#fb9f3a\"],[0.8888888888888888,\"#fdca26\"],[1.0,\"#f0f921\"]],\"cmin\":0,\"cmax\":100},\"legend\":{\"tracegroupgap\":0},\"title\":{\"text\":\"Software Engineer Jobs in the United States\"}},                        {\"responsive\": true}                    ).then(function(){\n",
       "                            \n",
       "var gd = document.getElementById('b9ed07f4-9a45-411c-96df-0af7d453fe4d');\n",
       "var x = new MutationObserver(function (mutations, observer) {{\n",
       "        var display = window.getComputedStyle(gd).display;\n",
       "        if (!display || display === 'none') {{\n",
       "            console.log([gd, 'removed!']);\n",
       "            Plotly.purge(gd);\n",
       "            observer.disconnect();\n",
       "        }}\n",
       "}});\n",
       "\n",
       "// Listen for the removal of the full notebook cells\n",
       "var notebookContainer = gd.closest('#notebook-container');\n",
       "if (notebookContainer) {{\n",
       "    x.observe(notebookContainer, {childList: true});\n",
       "}}\n",
       "\n",
       "// Listen for the clearing of the current output cell\n",
       "var outputEl = gd.closest('.output');\n",
       "if (outputEl) {{\n",
       "    x.observe(outputEl, {childList: true});\n",
       "}}\n",
       "\n",
       "                        })                };                });            </script>        </div>"
      ]
     },
     "metadata": {},
     "output_type": "display_data"
    }
   ],
   "source": [
    "fig = px.choropleth(state_counts,\n",
    "                    locations='state',\n",
    "                    color='count',\n",
    "                    hover_name='state',\n",
    "                    locationmode=\"USA-states\", \n",
    "                    scope=\"usa\",\n",
    "                    title='Software Engineer Jobs in the United States',\n",
    "                    range_color=(0,100))\n",
    "fig.show()"
   ]
  },
  {
   "cell_type": "code",
   "execution_count": 80,
   "id": "ee7faa14",
   "metadata": {},
   "outputs": [
    {
     "data": {
      "text/plain": [
       "In-Person    511\n",
       "Remote       231\n",
       "Hybrid       100\n",
       "Name: work_mode, dtype: int64"
      ]
     },
     "execution_count": 80,
     "metadata": {},
     "output_type": "execute_result"
    }
   ],
   "source": [
    "work_mode = df_data_clean.work_mode.value_counts()\n",
    "work_mode"
   ]
  },
  {
   "cell_type": "code",
   "execution_count": 83,
   "id": "3f09f0a4",
   "metadata": {},
   "outputs": [
    {
     "data": {
      "application/vnd.plotly.v1+json": {
       "config": {
        "plotlyServerURL": "https://plot.ly"
       },
       "data": [
        {
         "alignmentgroup": "True",
         "hovertemplate": "x=%{x}<br>y=%{y}<extra></extra>",
         "legendgroup": "",
         "marker": {
          "color": "#636efa",
          "pattern": {
           "shape": ""
          }
         },
         "name": "",
         "offsetgroup": "",
         "orientation": "v",
         "showlegend": false,
         "textposition": "auto",
         "type": "bar",
         "x": [
          "In-Person",
          "Remote",
          "Hybrid"
         ],
         "xaxis": "x",
         "y": [
          511,
          231,
          100
         ],
         "yaxis": "y"
        }
       ],
       "layout": {
        "barmode": "relative",
        "legend": {
         "tracegroupgap": 0
        },
        "template": {
         "data": {
          "bar": [
           {
            "error_x": {
             "color": "#2a3f5f"
            },
            "error_y": {
             "color": "#2a3f5f"
            },
            "marker": {
             "line": {
              "color": "#E5ECF6",
              "width": 0.5
             },
             "pattern": {
              "fillmode": "overlay",
              "size": 10,
              "solidity": 0.2
             }
            },
            "type": "bar"
           }
          ],
          "barpolar": [
           {
            "marker": {
             "line": {
              "color": "#E5ECF6",
              "width": 0.5
             },
             "pattern": {
              "fillmode": "overlay",
              "size": 10,
              "solidity": 0.2
             }
            },
            "type": "barpolar"
           }
          ],
          "carpet": [
           {
            "aaxis": {
             "endlinecolor": "#2a3f5f",
             "gridcolor": "white",
             "linecolor": "white",
             "minorgridcolor": "white",
             "startlinecolor": "#2a3f5f"
            },
            "baxis": {
             "endlinecolor": "#2a3f5f",
             "gridcolor": "white",
             "linecolor": "white",
             "minorgridcolor": "white",
             "startlinecolor": "#2a3f5f"
            },
            "type": "carpet"
           }
          ],
          "choropleth": [
           {
            "colorbar": {
             "outlinewidth": 0,
             "ticks": ""
            },
            "type": "choropleth"
           }
          ],
          "contour": [
           {
            "colorbar": {
             "outlinewidth": 0,
             "ticks": ""
            },
            "colorscale": [
             [
              0,
              "#0d0887"
             ],
             [
              0.1111111111111111,
              "#46039f"
             ],
             [
              0.2222222222222222,
              "#7201a8"
             ],
             [
              0.3333333333333333,
              "#9c179e"
             ],
             [
              0.4444444444444444,
              "#bd3786"
             ],
             [
              0.5555555555555556,
              "#d8576b"
             ],
             [
              0.6666666666666666,
              "#ed7953"
             ],
             [
              0.7777777777777778,
              "#fb9f3a"
             ],
             [
              0.8888888888888888,
              "#fdca26"
             ],
             [
              1,
              "#f0f921"
             ]
            ],
            "type": "contour"
           }
          ],
          "contourcarpet": [
           {
            "colorbar": {
             "outlinewidth": 0,
             "ticks": ""
            },
            "type": "contourcarpet"
           }
          ],
          "heatmap": [
           {
            "colorbar": {
             "outlinewidth": 0,
             "ticks": ""
            },
            "colorscale": [
             [
              0,
              "#0d0887"
             ],
             [
              0.1111111111111111,
              "#46039f"
             ],
             [
              0.2222222222222222,
              "#7201a8"
             ],
             [
              0.3333333333333333,
              "#9c179e"
             ],
             [
              0.4444444444444444,
              "#bd3786"
             ],
             [
              0.5555555555555556,
              "#d8576b"
             ],
             [
              0.6666666666666666,
              "#ed7953"
             ],
             [
              0.7777777777777778,
              "#fb9f3a"
             ],
             [
              0.8888888888888888,
              "#fdca26"
             ],
             [
              1,
              "#f0f921"
             ]
            ],
            "type": "heatmap"
           }
          ],
          "heatmapgl": [
           {
            "colorbar": {
             "outlinewidth": 0,
             "ticks": ""
            },
            "colorscale": [
             [
              0,
              "#0d0887"
             ],
             [
              0.1111111111111111,
              "#46039f"
             ],
             [
              0.2222222222222222,
              "#7201a8"
             ],
             [
              0.3333333333333333,
              "#9c179e"
             ],
             [
              0.4444444444444444,
              "#bd3786"
             ],
             [
              0.5555555555555556,
              "#d8576b"
             ],
             [
              0.6666666666666666,
              "#ed7953"
             ],
             [
              0.7777777777777778,
              "#fb9f3a"
             ],
             [
              0.8888888888888888,
              "#fdca26"
             ],
             [
              1,
              "#f0f921"
             ]
            ],
            "type": "heatmapgl"
           }
          ],
          "histogram": [
           {
            "marker": {
             "pattern": {
              "fillmode": "overlay",
              "size": 10,
              "solidity": 0.2
             }
            },
            "type": "histogram"
           }
          ],
          "histogram2d": [
           {
            "colorbar": {
             "outlinewidth": 0,
             "ticks": ""
            },
            "colorscale": [
             [
              0,
              "#0d0887"
             ],
             [
              0.1111111111111111,
              "#46039f"
             ],
             [
              0.2222222222222222,
              "#7201a8"
             ],
             [
              0.3333333333333333,
              "#9c179e"
             ],
             [
              0.4444444444444444,
              "#bd3786"
             ],
             [
              0.5555555555555556,
              "#d8576b"
             ],
             [
              0.6666666666666666,
              "#ed7953"
             ],
             [
              0.7777777777777778,
              "#fb9f3a"
             ],
             [
              0.8888888888888888,
              "#fdca26"
             ],
             [
              1,
              "#f0f921"
             ]
            ],
            "type": "histogram2d"
           }
          ],
          "histogram2dcontour": [
           {
            "colorbar": {
             "outlinewidth": 0,
             "ticks": ""
            },
            "colorscale": [
             [
              0,
              "#0d0887"
             ],
             [
              0.1111111111111111,
              "#46039f"
             ],
             [
              0.2222222222222222,
              "#7201a8"
             ],
             [
              0.3333333333333333,
              "#9c179e"
             ],
             [
              0.4444444444444444,
              "#bd3786"
             ],
             [
              0.5555555555555556,
              "#d8576b"
             ],
             [
              0.6666666666666666,
              "#ed7953"
             ],
             [
              0.7777777777777778,
              "#fb9f3a"
             ],
             [
              0.8888888888888888,
              "#fdca26"
             ],
             [
              1,
              "#f0f921"
             ]
            ],
            "type": "histogram2dcontour"
           }
          ],
          "mesh3d": [
           {
            "colorbar": {
             "outlinewidth": 0,
             "ticks": ""
            },
            "type": "mesh3d"
           }
          ],
          "parcoords": [
           {
            "line": {
             "colorbar": {
              "outlinewidth": 0,
              "ticks": ""
             }
            },
            "type": "parcoords"
           }
          ],
          "pie": [
           {
            "automargin": true,
            "type": "pie"
           }
          ],
          "scatter": [
           {
            "fillpattern": {
             "fillmode": "overlay",
             "size": 10,
             "solidity": 0.2
            },
            "type": "scatter"
           }
          ],
          "scatter3d": [
           {
            "line": {
             "colorbar": {
              "outlinewidth": 0,
              "ticks": ""
             }
            },
            "marker": {
             "colorbar": {
              "outlinewidth": 0,
              "ticks": ""
             }
            },
            "type": "scatter3d"
           }
          ],
          "scattercarpet": [
           {
            "marker": {
             "colorbar": {
              "outlinewidth": 0,
              "ticks": ""
             }
            },
            "type": "scattercarpet"
           }
          ],
          "scattergeo": [
           {
            "marker": {
             "colorbar": {
              "outlinewidth": 0,
              "ticks": ""
             }
            },
            "type": "scattergeo"
           }
          ],
          "scattergl": [
           {
            "marker": {
             "colorbar": {
              "outlinewidth": 0,
              "ticks": ""
             }
            },
            "type": "scattergl"
           }
          ],
          "scattermapbox": [
           {
            "marker": {
             "colorbar": {
              "outlinewidth": 0,
              "ticks": ""
             }
            },
            "type": "scattermapbox"
           }
          ],
          "scatterpolar": [
           {
            "marker": {
             "colorbar": {
              "outlinewidth": 0,
              "ticks": ""
             }
            },
            "type": "scatterpolar"
           }
          ],
          "scatterpolargl": [
           {
            "marker": {
             "colorbar": {
              "outlinewidth": 0,
              "ticks": ""
             }
            },
            "type": "scatterpolargl"
           }
          ],
          "scatterternary": [
           {
            "marker": {
             "colorbar": {
              "outlinewidth": 0,
              "ticks": ""
             }
            },
            "type": "scatterternary"
           }
          ],
          "surface": [
           {
            "colorbar": {
             "outlinewidth": 0,
             "ticks": ""
            },
            "colorscale": [
             [
              0,
              "#0d0887"
             ],
             [
              0.1111111111111111,
              "#46039f"
             ],
             [
              0.2222222222222222,
              "#7201a8"
             ],
             [
              0.3333333333333333,
              "#9c179e"
             ],
             [
              0.4444444444444444,
              "#bd3786"
             ],
             [
              0.5555555555555556,
              "#d8576b"
             ],
             [
              0.6666666666666666,
              "#ed7953"
             ],
             [
              0.7777777777777778,
              "#fb9f3a"
             ],
             [
              0.8888888888888888,
              "#fdca26"
             ],
             [
              1,
              "#f0f921"
             ]
            ],
            "type": "surface"
           }
          ],
          "table": [
           {
            "cells": {
             "fill": {
              "color": "#EBF0F8"
             },
             "line": {
              "color": "white"
             }
            },
            "header": {
             "fill": {
              "color": "#C8D4E3"
             },
             "line": {
              "color": "white"
             }
            },
            "type": "table"
           }
          ]
         },
         "layout": {
          "annotationdefaults": {
           "arrowcolor": "#2a3f5f",
           "arrowhead": 0,
           "arrowwidth": 1
          },
          "autotypenumbers": "strict",
          "coloraxis": {
           "colorbar": {
            "outlinewidth": 0,
            "ticks": ""
           }
          },
          "colorscale": {
           "diverging": [
            [
             0,
             "#8e0152"
            ],
            [
             0.1,
             "#c51b7d"
            ],
            [
             0.2,
             "#de77ae"
            ],
            [
             0.3,
             "#f1b6da"
            ],
            [
             0.4,
             "#fde0ef"
            ],
            [
             0.5,
             "#f7f7f7"
            ],
            [
             0.6,
             "#e6f5d0"
            ],
            [
             0.7,
             "#b8e186"
            ],
            [
             0.8,
             "#7fbc41"
            ],
            [
             0.9,
             "#4d9221"
            ],
            [
             1,
             "#276419"
            ]
           ],
           "sequential": [
            [
             0,
             "#0d0887"
            ],
            [
             0.1111111111111111,
             "#46039f"
            ],
            [
             0.2222222222222222,
             "#7201a8"
            ],
            [
             0.3333333333333333,
             "#9c179e"
            ],
            [
             0.4444444444444444,
             "#bd3786"
            ],
            [
             0.5555555555555556,
             "#d8576b"
            ],
            [
             0.6666666666666666,
             "#ed7953"
            ],
            [
             0.7777777777777778,
             "#fb9f3a"
            ],
            [
             0.8888888888888888,
             "#fdca26"
            ],
            [
             1,
             "#f0f921"
            ]
           ],
           "sequentialminus": [
            [
             0,
             "#0d0887"
            ],
            [
             0.1111111111111111,
             "#46039f"
            ],
            [
             0.2222222222222222,
             "#7201a8"
            ],
            [
             0.3333333333333333,
             "#9c179e"
            ],
            [
             0.4444444444444444,
             "#bd3786"
            ],
            [
             0.5555555555555556,
             "#d8576b"
            ],
            [
             0.6666666666666666,
             "#ed7953"
            ],
            [
             0.7777777777777778,
             "#fb9f3a"
            ],
            [
             0.8888888888888888,
             "#fdca26"
            ],
            [
             1,
             "#f0f921"
            ]
           ]
          },
          "colorway": [
           "#636efa",
           "#EF553B",
           "#00cc96",
           "#ab63fa",
           "#FFA15A",
           "#19d3f3",
           "#FF6692",
           "#B6E880",
           "#FF97FF",
           "#FECB52"
          ],
          "font": {
           "color": "#2a3f5f"
          },
          "geo": {
           "bgcolor": "white",
           "lakecolor": "white",
           "landcolor": "#E5ECF6",
           "showlakes": true,
           "showland": true,
           "subunitcolor": "white"
          },
          "hoverlabel": {
           "align": "left"
          },
          "hovermode": "closest",
          "mapbox": {
           "style": "light"
          },
          "paper_bgcolor": "white",
          "plot_bgcolor": "#E5ECF6",
          "polar": {
           "angularaxis": {
            "gridcolor": "white",
            "linecolor": "white",
            "ticks": ""
           },
           "bgcolor": "#E5ECF6",
           "radialaxis": {
            "gridcolor": "white",
            "linecolor": "white",
            "ticks": ""
           }
          },
          "scene": {
           "xaxis": {
            "backgroundcolor": "#E5ECF6",
            "gridcolor": "white",
            "gridwidth": 2,
            "linecolor": "white",
            "showbackground": true,
            "ticks": "",
            "zerolinecolor": "white"
           },
           "yaxis": {
            "backgroundcolor": "#E5ECF6",
            "gridcolor": "white",
            "gridwidth": 2,
            "linecolor": "white",
            "showbackground": true,
            "ticks": "",
            "zerolinecolor": "white"
           },
           "zaxis": {
            "backgroundcolor": "#E5ECF6",
            "gridcolor": "white",
            "gridwidth": 2,
            "linecolor": "white",
            "showbackground": true,
            "ticks": "",
            "zerolinecolor": "white"
           }
          },
          "shapedefaults": {
           "line": {
            "color": "#2a3f5f"
           }
          },
          "ternary": {
           "aaxis": {
            "gridcolor": "white",
            "linecolor": "white",
            "ticks": ""
           },
           "baxis": {
            "gridcolor": "white",
            "linecolor": "white",
            "ticks": ""
           },
           "bgcolor": "#E5ECF6",
           "caxis": {
            "gridcolor": "white",
            "linecolor": "white",
            "ticks": ""
           }
          },
          "title": {
           "x": 0.05
          },
          "xaxis": {
           "automargin": true,
           "gridcolor": "white",
           "linecolor": "white",
           "ticks": "",
           "title": {
            "standoff": 15
           },
           "zerolinecolor": "white",
           "zerolinewidth": 2
          },
          "yaxis": {
           "automargin": true,
           "gridcolor": "white",
           "linecolor": "white",
           "ticks": "",
           "title": {
            "standoff": 15
           },
           "zerolinecolor": "white",
           "zerolinewidth": 2
          }
         }
        },
        "title": {
         "text": "Work Mode"
        },
        "xaxis": {
         "anchor": "y",
         "domain": [
          0,
          1
         ],
         "title": {
          "text": "Work Mode"
         }
        },
        "yaxis": {
         "anchor": "x",
         "domain": [
          0,
          1
         ],
         "title": {
          "text": "Number of Jobs"
         }
        }
       }
      },
      "text/html": [
       "<div>                            <div id=\"83bb1562-4c8f-4b46-a039-87539400d6a2\" class=\"plotly-graph-div\" style=\"height:525px; width:100%;\"></div>            <script type=\"text/javascript\">                require([\"plotly\"], function(Plotly) {                    window.PLOTLYENV=window.PLOTLYENV || {};                                    if (document.getElementById(\"83bb1562-4c8f-4b46-a039-87539400d6a2\")) {                    Plotly.newPlot(                        \"83bb1562-4c8f-4b46-a039-87539400d6a2\",                        [{\"alignmentgroup\":\"True\",\"hovertemplate\":\"x=%{x}\\u003cbr\\u003ey=%{y}\\u003cextra\\u003e\\u003c\\u002fextra\\u003e\",\"legendgroup\":\"\",\"marker\":{\"color\":\"#636efa\",\"pattern\":{\"shape\":\"\"}},\"name\":\"\",\"offsetgroup\":\"\",\"orientation\":\"v\",\"showlegend\":false,\"textposition\":\"auto\",\"x\":[\"In-Person\",\"Remote\",\"Hybrid\"],\"xaxis\":\"x\",\"y\":[511,231,100],\"yaxis\":\"y\",\"type\":\"bar\"}],                        {\"template\":{\"data\":{\"histogram2dcontour\":[{\"type\":\"histogram2dcontour\",\"colorbar\":{\"outlinewidth\":0,\"ticks\":\"\"},\"colorscale\":[[0.0,\"#0d0887\"],[0.1111111111111111,\"#46039f\"],[0.2222222222222222,\"#7201a8\"],[0.3333333333333333,\"#9c179e\"],[0.4444444444444444,\"#bd3786\"],[0.5555555555555556,\"#d8576b\"],[0.6666666666666666,\"#ed7953\"],[0.7777777777777778,\"#fb9f3a\"],[0.8888888888888888,\"#fdca26\"],[1.0,\"#f0f921\"]]}],\"choropleth\":[{\"type\":\"choropleth\",\"colorbar\":{\"outlinewidth\":0,\"ticks\":\"\"}}],\"histogram2d\":[{\"type\":\"histogram2d\",\"colorbar\":{\"outlinewidth\":0,\"ticks\":\"\"},\"colorscale\":[[0.0,\"#0d0887\"],[0.1111111111111111,\"#46039f\"],[0.2222222222222222,\"#7201a8\"],[0.3333333333333333,\"#9c179e\"],[0.4444444444444444,\"#bd3786\"],[0.5555555555555556,\"#d8576b\"],[0.6666666666666666,\"#ed7953\"],[0.7777777777777778,\"#fb9f3a\"],[0.8888888888888888,\"#fdca26\"],[1.0,\"#f0f921\"]]}],\"heatmap\":[{\"type\":\"heatmap\",\"colorbar\":{\"outlinewidth\":0,\"ticks\":\"\"},\"colorscale\":[[0.0,\"#0d0887\"],[0.1111111111111111,\"#46039f\"],[0.2222222222222222,\"#7201a8\"],[0.3333333333333333,\"#9c179e\"],[0.4444444444444444,\"#bd3786\"],[0.5555555555555556,\"#d8576b\"],[0.6666666666666666,\"#ed7953\"],[0.7777777777777778,\"#fb9f3a\"],[0.8888888888888888,\"#fdca26\"],[1.0,\"#f0f921\"]]}],\"heatmapgl\":[{\"type\":\"heatmapgl\",\"colorbar\":{\"outlinewidth\":0,\"ticks\":\"\"},\"colorscale\":[[0.0,\"#0d0887\"],[0.1111111111111111,\"#46039f\"],[0.2222222222222222,\"#7201a8\"],[0.3333333333333333,\"#9c179e\"],[0.4444444444444444,\"#bd3786\"],[0.5555555555555556,\"#d8576b\"],[0.6666666666666666,\"#ed7953\"],[0.7777777777777778,\"#fb9f3a\"],[0.8888888888888888,\"#fdca26\"],[1.0,\"#f0f921\"]]}],\"contourcarpet\":[{\"type\":\"contourcarpet\",\"colorbar\":{\"outlinewidth\":0,\"ticks\":\"\"}}],\"contour\":[{\"type\":\"contour\",\"colorbar\":{\"outlinewidth\":0,\"ticks\":\"\"},\"colorscale\":[[0.0,\"#0d0887\"],[0.1111111111111111,\"#46039f\"],[0.2222222222222222,\"#7201a8\"],[0.3333333333333333,\"#9c179e\"],[0.4444444444444444,\"#bd3786\"],[0.5555555555555556,\"#d8576b\"],[0.6666666666666666,\"#ed7953\"],[0.7777777777777778,\"#fb9f3a\"],[0.8888888888888888,\"#fdca26\"],[1.0,\"#f0f921\"]]}],\"surface\":[{\"type\":\"surface\",\"colorbar\":{\"outlinewidth\":0,\"ticks\":\"\"},\"colorscale\":[[0.0,\"#0d0887\"],[0.1111111111111111,\"#46039f\"],[0.2222222222222222,\"#7201a8\"],[0.3333333333333333,\"#9c179e\"],[0.4444444444444444,\"#bd3786\"],[0.5555555555555556,\"#d8576b\"],[0.6666666666666666,\"#ed7953\"],[0.7777777777777778,\"#fb9f3a\"],[0.8888888888888888,\"#fdca26\"],[1.0,\"#f0f921\"]]}],\"mesh3d\":[{\"type\":\"mesh3d\",\"colorbar\":{\"outlinewidth\":0,\"ticks\":\"\"}}],\"scatter\":[{\"fillpattern\":{\"fillmode\":\"overlay\",\"size\":10,\"solidity\":0.2},\"type\":\"scatter\"}],\"parcoords\":[{\"type\":\"parcoords\",\"line\":{\"colorbar\":{\"outlinewidth\":0,\"ticks\":\"\"}}}],\"scatterpolargl\":[{\"type\":\"scatterpolargl\",\"marker\":{\"colorbar\":{\"outlinewidth\":0,\"ticks\":\"\"}}}],\"bar\":[{\"error_x\":{\"color\":\"#2a3f5f\"},\"error_y\":{\"color\":\"#2a3f5f\"},\"marker\":{\"line\":{\"color\":\"#E5ECF6\",\"width\":0.5},\"pattern\":{\"fillmode\":\"overlay\",\"size\":10,\"solidity\":0.2}},\"type\":\"bar\"}],\"scattergeo\":[{\"type\":\"scattergeo\",\"marker\":{\"colorbar\":{\"outlinewidth\":0,\"ticks\":\"\"}}}],\"scatterpolar\":[{\"type\":\"scatterpolar\",\"marker\":{\"colorbar\":{\"outlinewidth\":0,\"ticks\":\"\"}}}],\"histogram\":[{\"marker\":{\"pattern\":{\"fillmode\":\"overlay\",\"size\":10,\"solidity\":0.2}},\"type\":\"histogram\"}],\"scattergl\":[{\"type\":\"scattergl\",\"marker\":{\"colorbar\":{\"outlinewidth\":0,\"ticks\":\"\"}}}],\"scatter3d\":[{\"type\":\"scatter3d\",\"line\":{\"colorbar\":{\"outlinewidth\":0,\"ticks\":\"\"}},\"marker\":{\"colorbar\":{\"outlinewidth\":0,\"ticks\":\"\"}}}],\"scattermapbox\":[{\"type\":\"scattermapbox\",\"marker\":{\"colorbar\":{\"outlinewidth\":0,\"ticks\":\"\"}}}],\"scatterternary\":[{\"type\":\"scatterternary\",\"marker\":{\"colorbar\":{\"outlinewidth\":0,\"ticks\":\"\"}}}],\"scattercarpet\":[{\"type\":\"scattercarpet\",\"marker\":{\"colorbar\":{\"outlinewidth\":0,\"ticks\":\"\"}}}],\"carpet\":[{\"aaxis\":{\"endlinecolor\":\"#2a3f5f\",\"gridcolor\":\"white\",\"linecolor\":\"white\",\"minorgridcolor\":\"white\",\"startlinecolor\":\"#2a3f5f\"},\"baxis\":{\"endlinecolor\":\"#2a3f5f\",\"gridcolor\":\"white\",\"linecolor\":\"white\",\"minorgridcolor\":\"white\",\"startlinecolor\":\"#2a3f5f\"},\"type\":\"carpet\"}],\"table\":[{\"cells\":{\"fill\":{\"color\":\"#EBF0F8\"},\"line\":{\"color\":\"white\"}},\"header\":{\"fill\":{\"color\":\"#C8D4E3\"},\"line\":{\"color\":\"white\"}},\"type\":\"table\"}],\"barpolar\":[{\"marker\":{\"line\":{\"color\":\"#E5ECF6\",\"width\":0.5},\"pattern\":{\"fillmode\":\"overlay\",\"size\":10,\"solidity\":0.2}},\"type\":\"barpolar\"}],\"pie\":[{\"automargin\":true,\"type\":\"pie\"}]},\"layout\":{\"autotypenumbers\":\"strict\",\"colorway\":[\"#636efa\",\"#EF553B\",\"#00cc96\",\"#ab63fa\",\"#FFA15A\",\"#19d3f3\",\"#FF6692\",\"#B6E880\",\"#FF97FF\",\"#FECB52\"],\"font\":{\"color\":\"#2a3f5f\"},\"hovermode\":\"closest\",\"hoverlabel\":{\"align\":\"left\"},\"paper_bgcolor\":\"white\",\"plot_bgcolor\":\"#E5ECF6\",\"polar\":{\"bgcolor\":\"#E5ECF6\",\"angularaxis\":{\"gridcolor\":\"white\",\"linecolor\":\"white\",\"ticks\":\"\"},\"radialaxis\":{\"gridcolor\":\"white\",\"linecolor\":\"white\",\"ticks\":\"\"}},\"ternary\":{\"bgcolor\":\"#E5ECF6\",\"aaxis\":{\"gridcolor\":\"white\",\"linecolor\":\"white\",\"ticks\":\"\"},\"baxis\":{\"gridcolor\":\"white\",\"linecolor\":\"white\",\"ticks\":\"\"},\"caxis\":{\"gridcolor\":\"white\",\"linecolor\":\"white\",\"ticks\":\"\"}},\"coloraxis\":{\"colorbar\":{\"outlinewidth\":0,\"ticks\":\"\"}},\"colorscale\":{\"sequential\":[[0.0,\"#0d0887\"],[0.1111111111111111,\"#46039f\"],[0.2222222222222222,\"#7201a8\"],[0.3333333333333333,\"#9c179e\"],[0.4444444444444444,\"#bd3786\"],[0.5555555555555556,\"#d8576b\"],[0.6666666666666666,\"#ed7953\"],[0.7777777777777778,\"#fb9f3a\"],[0.8888888888888888,\"#fdca26\"],[1.0,\"#f0f921\"]],\"sequentialminus\":[[0.0,\"#0d0887\"],[0.1111111111111111,\"#46039f\"],[0.2222222222222222,\"#7201a8\"],[0.3333333333333333,\"#9c179e\"],[0.4444444444444444,\"#bd3786\"],[0.5555555555555556,\"#d8576b\"],[0.6666666666666666,\"#ed7953\"],[0.7777777777777778,\"#fb9f3a\"],[0.8888888888888888,\"#fdca26\"],[1.0,\"#f0f921\"]],\"diverging\":[[0,\"#8e0152\"],[0.1,\"#c51b7d\"],[0.2,\"#de77ae\"],[0.3,\"#f1b6da\"],[0.4,\"#fde0ef\"],[0.5,\"#f7f7f7\"],[0.6,\"#e6f5d0\"],[0.7,\"#b8e186\"],[0.8,\"#7fbc41\"],[0.9,\"#4d9221\"],[1,\"#276419\"]]},\"xaxis\":{\"gridcolor\":\"white\",\"linecolor\":\"white\",\"ticks\":\"\",\"title\":{\"standoff\":15},\"zerolinecolor\":\"white\",\"automargin\":true,\"zerolinewidth\":2},\"yaxis\":{\"gridcolor\":\"white\",\"linecolor\":\"white\",\"ticks\":\"\",\"title\":{\"standoff\":15},\"zerolinecolor\":\"white\",\"automargin\":true,\"zerolinewidth\":2},\"scene\":{\"xaxis\":{\"backgroundcolor\":\"#E5ECF6\",\"gridcolor\":\"white\",\"linecolor\":\"white\",\"showbackground\":true,\"ticks\":\"\",\"zerolinecolor\":\"white\",\"gridwidth\":2},\"yaxis\":{\"backgroundcolor\":\"#E5ECF6\",\"gridcolor\":\"white\",\"linecolor\":\"white\",\"showbackground\":true,\"ticks\":\"\",\"zerolinecolor\":\"white\",\"gridwidth\":2},\"zaxis\":{\"backgroundcolor\":\"#E5ECF6\",\"gridcolor\":\"white\",\"linecolor\":\"white\",\"showbackground\":true,\"ticks\":\"\",\"zerolinecolor\":\"white\",\"gridwidth\":2}},\"shapedefaults\":{\"line\":{\"color\":\"#2a3f5f\"}},\"annotationdefaults\":{\"arrowcolor\":\"#2a3f5f\",\"arrowhead\":0,\"arrowwidth\":1},\"geo\":{\"bgcolor\":\"white\",\"landcolor\":\"#E5ECF6\",\"subunitcolor\":\"white\",\"showland\":true,\"showlakes\":true,\"lakecolor\":\"white\"},\"title\":{\"x\":0.05},\"mapbox\":{\"style\":\"light\"}}},\"xaxis\":{\"anchor\":\"y\",\"domain\":[0.0,1.0],\"title\":{\"text\":\"Work Mode\"}},\"yaxis\":{\"anchor\":\"x\",\"domain\":[0.0,1.0],\"title\":{\"text\":\"Number of Jobs\"}},\"legend\":{\"tracegroupgap\":0},\"title\":{\"text\":\"Work Mode\"},\"barmode\":\"relative\"},                        {\"responsive\": true}                    ).then(function(){\n",
       "                            \n",
       "var gd = document.getElementById('83bb1562-4c8f-4b46-a039-87539400d6a2');\n",
       "var x = new MutationObserver(function (mutations, observer) {{\n",
       "        var display = window.getComputedStyle(gd).display;\n",
       "        if (!display || display === 'none') {{\n",
       "            console.log([gd, 'removed!']);\n",
       "            Plotly.purge(gd);\n",
       "            observer.disconnect();\n",
       "        }}\n",
       "}});\n",
       "\n",
       "// Listen for the removal of the full notebook cells\n",
       "var notebookContainer = gd.closest('#notebook-container');\n",
       "if (notebookContainer) {{\n",
       "    x.observe(notebookContainer, {childList: true});\n",
       "}}\n",
       "\n",
       "// Listen for the clearing of the current output cell\n",
       "var outputEl = gd.closest('.output');\n",
       "if (outputEl) {{\n",
       "    x.observe(outputEl, {childList: true});\n",
       "}}\n",
       "\n",
       "                        })                };                });            </script>        </div>"
      ]
     },
     "metadata": {},
     "output_type": "display_data"
    }
   ],
   "source": [
    "bar = px.bar(x=work_mode.index,y=work_mode.values, title='Work Mode')\n",
    "bar.update_layout(xaxis_title='Work Mode',yaxis_title='Number of Jobs')\n",
    "bar.show()"
   ]
  },
  {
   "cell_type": "code",
   "execution_count": 145,
   "id": "d02f65e0",
   "metadata": {},
   "outputs": [
    {
     "name": "stdout",
     "output_type": "stream",
     "text": [
      "The job type distribute are as follows:\n",
      "In-person:60.76099881093936% Remote:27.46730083234245% Hybrid: 11.890606420927467%\n"
     ]
    }
   ],
   "source": [
    "total = df_data_clean.work_mode.value_counts()\n",
    "print(f\"The job type distribute are as follows:\") \n",
    "print(f\"In-person:{511/841*100}% Remote:{231/841*100}% Hybrid: {100/841*100}%\")"
   ]
  },
  {
   "cell_type": "code",
   "execution_count": 114,
   "id": "2fc6c067",
   "metadata": {},
   "outputs": [
    {
     "data": {
      "image/png": "[encoded data removed]",
      "text/plain": [
       "<Figure size 1400x800 with 1 Axes>"
      ]
     },
     "metadata": {},
     "output_type": "display_data"
    }
   ],
   "source": [
    "plt.figure(figsize=(14,8))\n",
    "sns.boxplot(data=df_data_clean.sort_values('state'),x='state',y='salary_min',palette='coolwarm')\n",
    "plt.ylabel('State')\n",
    "plt.ylabel('Salary')\n",
    "plt.title('Salary Distribution Across States')\n",
    "plt.xticks(rotation = 45) \n",
    "plt.show()"
   ]
  },
  {
   "cell_type": "code",
   "execution_count": 174,
   "id": "cafe9a77",
   "metadata": {},
   "outputs": [
    {
     "data": {
      "text/plain": [
       "{\"['Go', 'JIRA']\": 2,\n",
       " \"['Java', 'C++', 'Go', 'Git', 'Linux', 'JIRA']\": 1,\n",
       " \"['JavaScript', 'Java', 'PHP', 'Go', 'SQL', 'HTML', 'CSS', 'Linux', 'MySQL']\": 1,\n",
       " \"['Java', 'SQL', 'HTML', 'CSS', 'XML', 'Azure']\": 1,\n",
       " \"['JavaScript', 'Java', 'Go', 'TypeScript', 'React']\": 1,\n",
       " \"['Python', 'Git']\": 1,\n",
       " \"['Java', 'Go', 'AWS', 'Azure', 'Linux']\": 1,\n",
       " \"['JavaScript', 'Java', 'C#', 'Go', 'React', 'Azure', 'Foundation']\": 1,\n",
       " \"['Python', 'JavaScript', 'Java', 'Go', 'TypeScript', 'React', 'Docker']\": 1,\n",
       " \"['JavaScript', 'Java', 'TypeScript', 'HTML', 'CSS', 'React']\": 2,\n",
       " \"['C#', 'SQL', 'MySQL']\": 1,\n",
       " \"['C#', 'SQL', 'AWS', 'Azure', 'PostgreSQL']\": 1,\n",
       " \"['Python', 'Java', 'C#', 'SQL', 'Docker', 'AWS', 'Linux', 'Unix', 'Foundation', 'JIRA']\": 1,\n",
       " \"['C#', 'Go', 'Git', 'Azure']\": 1,\n",
       " \"['Git']\": 6,\n",
       " \"['Go', 'Git']\": 7,\n",
       " \"['JavaScript', 'Java', 'C#', 'SQL', 'HTML', 'CSS', 'Spring', 'Git', 'Linux']\": 1,\n",
       " \"['Go', 'SQL', 'JSON', 'XML', 'Windows']\": 1,\n",
       " \"['C++', 'Windows']\": 2,\n",
       " \"['SQL']\": 5,\n",
       " \"['Python', 'Java', 'Go', 'TypeScript', 'SQL', 'React', 'Node.js', 'GraphQL', 'Git', 'AWS', 'MySQL', 'PostgreSQL']\": 1,\n",
       " \"['Python', 'Go', 'TypeScript', 'SQL', 'CSS', 'React', 'GraphQL', 'Git']\": 1,\n",
       " \"['Python', 'Java', 'C++', 'C#', 'Go', 'Azure']\": 1,\n",
       " \"['Python', 'JavaScript', 'Java', 'C++', 'C#', 'Go', 'TypeScript', 'Git', 'AWS']\": 1,\n",
       " \"['Python', 'JavaScript', 'Java', 'Ruby', 'Go', 'SQL', 'NoSQL', 'Spring', 'REST API', 'Git', 'Jenkins', 'AWS', 'OAuth', 'Webpack']\": 2,\n",
       " \"['Python', 'SQL', 'NoSQL']\": 1,\n",
       " \"['Python', 'JavaScript', 'Java', 'C++', 'Go', 'JSON', 'AWS']\": 1,\n",
       " \"['Python', 'Go', 'Docker', 'AWS', 'Azure']\": 1,\n",
       " \"['Java', 'Go']\": 5,\n",
       " \"['C++', 'Go', 'Git', 'Jenkins', 'Linux', 'Windows']\": 2,\n",
       " \"['Python', 'C++', 'C#', 'Go']\": 1,\n",
       " \"['JavaScript', 'Java', 'C#', 'Go', 'TypeScript', 'Node.js', 'Git', 'AWS', 'Foundation']\": 1,\n",
       " \"['Go', 'SQL', 'React', 'Angular', 'Git', 'AWS', 'Azure']\": 1,\n",
       " \"['JavaScript', 'Java', 'C#', 'Go', 'TypeScript', 'SQL', 'HTML', 'CSS', 'ASP.NET', 'PostgreSQL', 'Sass']\": 2,\n",
       " \"['C++', 'Go', 'Git', 'Linux']\": 1,\n",
       " \"['Python', 'C++', 'C#', 'PHP', 'Linux']\": 1,\n",
       " \"['Python', 'C++', 'C#', 'Go', 'Git', 'Linux', 'Windows']\": 1,\n",
       " \"['JavaScript', 'Java', 'Go', 'SQL', 'NoSQL', 'React', 'Spring', 'Git', 'AWS']\": 1,\n",
       " \"['Java', 'C#', 'Go', 'React', 'Spring', 'Git', 'Docker', 'AWS', 'Azure', 'Google Cloud']\": 1,\n",
       " \"['Python', 'JavaScript', 'Java', 'C#', 'Go', 'TypeScript', 'SQL', 'React', 'Azure']\": 2,\n",
       " \"['Swift', 'Go']\": 1,\n",
       " \"['JavaScript', 'Java', 'Go', 'TypeScript', 'React', 'Git', 'Webpack', 'Foundation']\": 1,\n",
       " \"['Python', 'JavaScript', 'Java', 'Go', 'SQL', 'React', 'Git', 'MySQL', 'Next.js', 'JIRA', 'Bitbucket']\": 1,\n",
       " \"['Python', 'Ruby', 'Go', 'TypeScript', 'Ruby on Rails', 'GraphQL', 'Git', 'Docker', 'AWS', 'Linux']\": 1,\n",
       " \"['Go', 'Git', 'Bitbucket']\": 1,\n",
       " \"['Python', 'Java', 'C++', 'Go', 'Git', 'JIRA']\": 1,\n",
       " \"['JavaScript', 'Java', 'SQL', 'HTML', 'CSS', 'ASP.NET', 'JSON', 'Git', 'Azure']\": 1,\n",
       " \"['Go', 'SQL', 'HTML']\": 1,\n",
       " \"['C#', 'Git', 'Bitbucket']\": 1,\n",
       " \"['Python', 'JavaScript', 'Java', 'Go', 'HTML', 'CSS', 'Git']\": 1,\n",
       " \"['C#', 'Go', 'SQL', 'JSON', 'Windows', 'Foundation']\": 1,\n",
       " \"['C#', 'Go', 'SQL', 'AWS', 'Azure', 'Google Cloud', 'Foundation']\": 1,\n",
       " \"['Python', 'JavaScript', 'Java', 'C++', 'C#', 'Go', 'SQL', 'HTML', 'CSS', 'ASP.NET', 'XML', 'AWS', 'Linux', 'Unix', 'Windows', 'MySQL']\": 1,\n",
       " \"['JavaScript', 'Java', 'Go', 'HTML', 'CSS', 'React', 'Angular']\": 1,\n",
       " \"['JavaScript', 'Java', 'Go', 'SQL', 'HTML', 'ASP.NET', 'XML', 'Windows']\": 1,\n",
       " \"['Python', 'C++', 'C#', 'CSS', 'Git', 'Windows']\": 1,\n",
       " \"['JavaScript', 'Java', 'Go', 'HTML', 'CSS', 'Angular', 'Spring', 'REST API', 'Git', 'Linux', 'MongoDB', 'Webpack', 'Bootstrap', 'Bitbucket']\": 1,\n",
       " \"['JavaScript', 'Java', 'Go', 'Git', 'AWS', 'Azure']\": 1,\n",
       " \"['C#', 'SQL']\": 1,\n",
       " \"['Java', 'Spring', 'Unix']\": 1,\n",
       " \"['Python', 'Git', 'Foundation']\": 1,\n",
       " \"['JavaScript', 'Java', 'SQL', 'React', 'REST API', 'JSON', 'Git', 'MySQL']\": 1,\n",
       " \"['Python', 'PHP', 'Go', 'SQL', 'CSS', 'React', 'GraphQL', 'Git', 'AWS', 'Azure', 'Google Cloud', 'Linux', 'MySQL', 'OAuth', 'Laravel']\": 1,\n",
       " \"['Java', 'SQL', 'Jenkins', 'JIRA']\": 1,\n",
       " \"['Python', 'JavaScript', 'Java', 'Go', 'Node.js', 'Spring', 'GraphQL', 'Git', 'Jenkins', 'Docker', 'AWS', 'Azure']\": 1,\n",
       " \"['Python', 'Java', 'Go', 'SQL', 'Docker', 'AWS', 'Linux', 'PostgreSQL', 'JIRA']\": 1,\n",
       " \"['JavaScript', 'Java', 'Go', 'TypeScript', 'HTML', 'CSS', 'Jenkins', 'Web Components']\": 1,\n",
       " \"['Python', 'JavaScript', 'Java', 'C++', 'Go', 'SQL', 'NoSQL', 'Angular', 'Node.js', 'Git', 'AngularJS']\": 1,\n",
       " \"['JavaScript', 'Java', 'C#', 'SQL', 'HTML', 'Angular', 'ASP.NET']\": 1,\n",
       " \"['JavaScript', 'Java', 'C++', 'C#', 'Go', 'HTML', 'CSS', 'XML', 'Git']\": 1,\n",
       " '[]': 30,\n",
       " \"['Java', 'PHP', 'Go', 'Docker', 'AWS', 'Linux']\": 1,\n",
       " \"['Python', 'JavaScript', 'Java', 'Swift', 'Go', 'TypeScript', 'SQL', 'React', 'Django', 'AWS', 'PostgreSQL']\": 1,\n",
       " \"['JavaScript', 'Java', 'C#', 'Go', 'TypeScript', 'SQL', 'HTML', 'CSS', 'Angular', 'ASP.NET', 'Git', 'AWS', 'Azure', 'Google Cloud', 'JIRA', 'Bitbucket']\": 2,\n",
       " \"['C#', 'SQL', 'React', 'GraphQL']\": 1,\n",
       " \"['C++', 'Go', 'AWS']\": 1,\n",
       " \"['JavaScript', 'Java', 'Go', 'HTML', 'CSS', 'React', 'Angular', 'AWS']\": 1,\n",
       " \"['Python', 'Java', 'Go', 'SQL', 'AWS', 'Azure', 'PostgreSQL']\": 1,\n",
       " \"['Python', 'Go', 'SQL', 'React', 'Angular', 'Django', 'Flask', 'Git', 'AWS', 'MySQL', 'Foundation']\": 1,\n",
       " \"['C#', 'Go', 'TypeScript']\": 1,\n",
       " \"['Python', 'Angular', 'REST API', 'AWS']\": 1,\n",
       " \"['Python', 'Java', 'C++', 'Go', 'SQL', 'NoSQL']\": 1,\n",
       " \"['Python', 'JavaScript', 'Java', 'Ruby', 'Go', 'TypeScript', 'SQL', 'NoSQL', 'AWS', 'MySQL', 'MongoDB']\": 1,\n",
       " \"['Go', 'Git', 'Linux']\": 1,\n",
       " \"['C++', 'Git']\": 1,\n",
       " \"['Python', 'Java', 'SQL', 'Spring', 'Git', 'Jenkins', 'Docker', 'MySQL']\": 1,\n",
       " \"['JavaScript', 'Java', 'Go', 'HTML', 'CSS', 'React', 'Angular', 'Git']\": 3,\n",
       " \"['C++', 'C#', 'Go', 'Windows']\": 2,\n",
       " \"['C++', 'C#', 'Spring', 'Git']\": 1,\n",
       " \"['C++', 'Linux']\": 3,\n",
       " \"['Python', 'C++', 'Linux', 'Windows']\": 2,\n",
       " \"['C++', 'Go']\": 10,\n",
       " \"['JavaScript', 'Java', 'Go', 'SQL', 'Azure', 'JIRA']\": 1,\n",
       " \"['Python', 'Ruby', 'Go', 'Git', 'Azure', 'Linux']\": 1,\n",
       " \"['Go', 'React', 'Angular']\": 2,\n",
       " \"['AWS']\": 2,\n",
       " \"['Java', 'Swift', 'React', 'Node.js', 'Git', 'AWS', 'Next.js']\": 1,\n",
       " \"['Python', 'C#', 'Go', 'SQL', 'REST API', 'AWS', 'Azure', 'Foundation']\": 1,\n",
       " \"['JavaScript', 'Java', 'Go', 'HTML', 'CSS', 'React', 'Git']\": 1,\n",
       " \"['JavaScript', 'Java', 'C#', 'Go', 'SQL', 'NoSQL', 'HTML', 'CSS', 'Angular', 'Git', 'MongoDB']\": 1,\n",
       " \"['Python', 'Go', 'XML', 'Git']\": 1,\n",
       " \"['Go', 'HTML', 'CSS', 'Git']\": 3,\n",
       " \"['C++', 'PHP', 'Go', 'SQL']\": 1,\n",
       " \"['Python', 'Go', 'Git', 'Jenkins', 'AWS', 'Foundation']\": 1,\n",
       " \"['Go', 'Git', 'Google Cloud']\": 1,\n",
       " \"['Python', 'SQL', 'NoSQL', 'React', 'Angular', 'Node.js', 'JSON', 'XML', 'Git', 'AWS', 'Linux', 'Windows', 'MySQL']\": 1,\n",
       " \"['JavaScript', 'Java', 'SQL', 'NoSQL', 'Spring', 'JSON', 'XML', 'Git', 'Jenkins', 'Docker', 'AWS', 'Azure']\": 1,\n",
       " \"['Go', 'SQL', 'Spring', 'Azure', 'MongoDB']\": 1,\n",
       " \"['Python', 'Java', 'Go', 'SQL', 'React', 'Angular', 'Spring', 'GraphQL', 'Git', 'AWS']\": 1,\n",
       " \"['Python', 'Java', 'TypeScript', 'Linux']\": 1,\n",
       " \"['JavaScript', 'Java', 'C#', 'Go', 'SQL', 'HTML', 'CSS', 'React', 'Angular', 'JSON', 'XML', 'MySQL', 'Sass', 'JIRA']\": 1,\n",
       " \"['JavaScript', 'Java', 'SQL', 'NoSQL', 'HTML', 'CSS', 'Angular', 'Spring', 'Git', 'Docker', 'Azure', 'Sass', 'AngularJS']\": 1,\n",
       " \"['Python', 'JavaScript', 'Java', 'C++', 'Go', 'SQL', 'Git', 'Docker', 'Linux']\": 1,\n",
       " \"['JavaScript', 'Java', 'SQL', 'HTML', 'CSS']\": 1,\n",
       " \"['Go', 'TypeScript', 'HTML', 'CSS', 'Angular', 'Sass']\": 2,\n",
       " \"['Java', 'C++', 'C#', 'SQL', 'HTML']\": 1,\n",
       " \"['Python', 'C++', 'PHP', 'Go', 'SQL']\": 1,\n",
       " \"['Azure', 'JIRA']\": 2,\n",
       " \"['Java', 'Go', 'SQL', 'Spring']\": 1,\n",
       " \"['C++', 'TypeScript', 'HTML', 'CSS', 'React', 'Next.js']\": 1,\n",
       " \"['Python', 'JavaScript', 'Java', 'C#', 'Go', 'SQL', 'HTML', 'CSS', 'React', 'Angular', 'ASP.NET', 'PostgreSQL']\": 1,\n",
       " \"['Python', 'JavaScript', 'Java', 'C++', 'Go', 'Git']\": 1,\n",
       " \"['Python', 'C++', 'Go', 'AWS']\": 2,\n",
       " \"['JavaScript', 'Java', 'Go', 'HTML', 'Angular', 'Spring', 'Docker']\": 1,\n",
       " \"['Python', 'JavaScript', 'Java', 'C#', 'Go', 'SQL', 'React', 'Angular', 'Vue.js', 'Spring', 'Git', 'Docker', 'AWS']\": 1,\n",
       " \"['Python', 'Java', 'Go', 'SQL', 'Django', 'Spring', 'AWS', 'MySQL']\": 3,\n",
       " \"['Python', 'C#', 'Node.js', 'Git', 'Docker']\": 1,\n",
       " \"['JavaScript', 'Java', 'C#', 'SQL', 'Angular', 'JSON', 'XML']\": 1,\n",
       " \"['Python', 'C++', 'Git', 'Linux']\": 2,\n",
       " \"['Java', 'Go', 'SQL', 'Spring', 'REST API', 'XML']\": 2,\n",
       " \"['JavaScript', 'Java', 'Go', 'SQL', 'HTML', 'CSS', 'React', 'Angular', 'GraphQL', 'JSON', 'Sass', 'AngularJS']\": 1,\n",
       " \"['Python', 'C++', 'Go']\": 3,\n",
       " \"['C#', 'SQL', 'React', 'Angular', 'ASP.NET', 'Docker', 'Azure', 'Foundation']\": 1,\n",
       " \"['JavaScript', 'Java', 'Go', 'SQL', 'HTML', 'CSS', 'React', 'JSON', 'Bootstrap', 'Foundation']\": 1,\n",
       " \"['Go']\": 23,\n",
       " \"['Go', 'React', 'Angular', 'Docker']\": 1,\n",
       " \"['Python', 'Java', 'C#', 'Go', 'Git', 'Jenkins']\": 1,\n",
       " \"['Java', 'C++', 'SQL', 'CSS']\": 1,\n",
       " \"['Go', 'SQL']\": 5,\n",
       " \"['Java']\": 2,\n",
       " \"['C#', 'Go']\": 4,\n",
       " \"['JavaScript', 'Java', 'TypeScript', 'SQL', 'Node.js', 'Docker']\": 1,\n",
       " \"['C++', 'C#', 'Go', 'ASP.NET', 'Git', 'Docker', 'Azure']\": 1,\n",
       " \"['JavaScript', 'Java', 'TypeScript', 'SQL', 'CSS', 'React', 'GraphQL']\": 1,\n",
       " \"['JIRA']\": 1,\n",
       " \"['JavaScript', 'Java', 'Go', 'SQL', 'NoSQL', 'HTML', 'CSS', 'Angular', 'Spring', 'JSON', 'XML', 'Jenkins', 'Docker', 'AWS', 'Azure', 'Sass']\": 1,\n",
       " \"['JavaScript', 'Java', 'PHP', 'Go', 'HTML', 'CSS', 'Angular', 'Git', 'AngularJS']\": 1,\n",
       " \"['Go', 'React', 'AWS']\": 1,\n",
       " \"['Python', 'Azure']\": 1,\n",
       " \"['Java', 'SQL', 'Spring', 'REST API', 'Git', 'Docker', 'AWS', 'Linux']\": 1,\n",
       " \"['JavaScript', 'Java', 'PHP', 'Go', 'HTML', 'CSS', 'Node.js', 'GraphQL', 'Docker', 'AWS']\": 1,\n",
       " \"['Java', 'XML', 'Git', 'AWS']\": 1,\n",
       " \"['JavaScript', 'Java', 'HTML', 'React', 'Spring']\": 1,\n",
       " \"['Java', 'React', 'Node.js', 'Spring', 'Git', 'Jenkins', 'AWS']\": 1,\n",
       " \"['Java', 'Spring']\": 2,\n",
       " \"['Java', 'C++', 'SQL']\": 1,\n",
       " \"['Ruby', 'Go', 'SQL', 'Ruby on Rails', 'MySQL']\": 1,\n",
       " \"['Go', 'Git', 'Jenkins', 'Docker', 'AWS']\": 1,\n",
       " \"['Java', 'Git']\": 2,\n",
       " \"['C++', 'SQL', 'Windows']\": 1,\n",
       " \"['Go', 'AWS']\": 4,\n",
       " \"['Python', 'C++', 'Go', 'Git', 'Linux']\": 1,\n",
       " \"['Python', 'Go', 'Docker', 'AWS', 'Azure', 'Google Cloud', 'Linux', 'Unix']\": 1,\n",
       " \"['JavaScript', 'Java', 'Go', 'HTML', 'CSS', 'React', 'GraphQL', 'Git', 'MongoDB', 'Sass']\": 1,\n",
       " \"['Python', 'JavaScript', 'Java', 'C#', 'Ruby', 'Go', 'React', 'Git', 'Jenkins', 'AWS']\": 1,\n",
       " \"['Python', 'C++', 'Swift', 'Go']\": 1,\n",
       " \"['JavaScript', 'Java', 'C#', 'Go', 'SQL', 'HTML', 'CSS', 'ASP.NET', 'XML']\": 1,\n",
       " \"['Windows']\": 3,\n",
       " \"['Python', 'Java', 'Go', 'Spring', 'Git', 'Docker', 'AWS']\": 1,\n",
       " \"['JavaScript', 'Java', 'React', 'Spring', 'AWS']\": 1,\n",
       " \"['Python', 'SQL', 'JIRA']\": 1,\n",
       " \"['JavaScript', 'Java', 'C#', 'Go', 'SQL', 'HTML', 'Angular', 'ASP.NET', 'Azure']\": 1,\n",
       " \"['C++', 'Go', 'Git', 'Docker', 'AWS', 'Linux', 'Unix', 'JIRA']\": 1,\n",
       " \"['JavaScript', 'Java', 'C#', 'Go', 'SQL', 'ASP.NET', 'Git', 'AWS']\": 1,\n",
       " \"['C++', 'C#', 'SQL', 'NoSQL', 'Windows', 'MySQL']\": 1,\n",
       " \"['Python', 'Java', 'Go', 'Docker']\": 1,\n",
       " \"['Java', 'AWS']\": 1,\n",
       " \"['JavaScript', 'Java', 'C#', 'TypeScript', 'SQL', 'React', 'JIRA']\": 1,\n",
       " \"['Python', 'C++', 'XML']\": 1,\n",
       " \"['C#']\": 5,\n",
       " \"['C#', 'Go', 'SQL', 'ASP.NET', 'XML', 'Windows']\": 1,\n",
       " \"['JavaScript', 'Java', 'PHP', 'SQL', 'HTML', 'CSS', 'Git', 'Linux', 'MySQL']\": 1,\n",
       " \"['Java', 'SQL', 'Spring', 'XML', 'AWS', 'Linux']\": 1,\n",
       " \"['AWS', 'Azure']\": 2,\n",
       " \"['JavaScript', 'Java', 'TypeScript', 'CSS', 'React', 'GraphQL', 'Git', 'Next.js']\": 1,\n",
       " \"['Python', 'Java', 'Ruby', 'Go', 'SQL', 'Node.js', 'Ruby on Rails', 'Spring']\": 1,\n",
       " \"['Python', 'C#']\": 1,\n",
       " \"['Python', 'C#', 'Linux', 'Windows']\": 1,\n",
       " \"['Python', 'C#', 'SQL', 'Azure']\": 1,\n",
       " \"['Python', 'Java', 'Go', 'SQL', 'Git']\": 1,\n",
       " \"['Git', 'Windows']\": 1,\n",
       " \"['Python', 'C++', 'Go', 'AWS', 'Foundation']\": 1,\n",
       " \"['Java', 'Angular']\": 1,\n",
       " \"['Python', 'Java', 'Go', 'Spring', 'Docker', 'AWS', 'Linux']\": 1,\n",
       " \"['C++', 'C#', 'Go', 'SQL', 'Windows']\": 1,\n",
       " \"['C#', 'TypeScript', 'React', 'Angular', 'Git', 'AWS']\": 1,\n",
       " \"['JavaScript', 'Java', 'C#', 'Go', 'SQL', 'HTML', 'CSS', 'ASP.NET']\": 2,\n",
       " \"['C++']\": 3,\n",
       " \"['C++', 'SQL', 'Git']\": 1,\n",
       " \"['SQL', 'Git', 'JIRA']\": 1,\n",
       " \"['Python', 'Java', 'Go', 'Docker', 'Linux']\": 1,\n",
       " \"['Java', 'C#', 'Swift', 'Go', 'TypeScript', 'SQL', 'React', 'Angular', 'Docker', 'AWS', 'Azure', 'MongoDB']\": 1,\n",
       " \"['Python', 'Java']\": 1,\n",
       " \"['Python', 'Java', 'Go', 'Git', 'Linux', 'Windows']\": 1,\n",
       " \"['JavaScript', 'Java', 'C#', 'SQL', 'HTML', 'ASP.NET', 'XML', 'Git']\": 1,\n",
       " \"['Python', 'Java', 'Go', 'SQL', 'React', 'Angular']\": 1,\n",
       " \"['Python', 'Java', 'Go', 'SQL', 'NoSQL', 'Spring', 'Git', 'Jenkins', 'AWS']\": 1,\n",
       " \"['Python', 'Java', 'AWS']\": 1,\n",
       " \"['Python', 'Go', 'React', 'Node.js', 'Spring', 'REST API']\": 1,\n",
       " \"['JavaScript', 'Java', 'TypeScript', 'SQL', 'HTML', 'CSS', 'React', 'Angular', 'Spring', 'OAuth']\": 1,\n",
       " \"['Python', 'Java', 'Go', 'SQL', 'NoSQL', 'AWS', 'Unix']\": 1,\n",
       " \"['Python', 'Go', 'Git', 'AWS']\": 2,\n",
       " \"['Python', 'Go', 'SQL', 'NoSQL', 'Docker', 'AWS', 'Azure', 'Google Cloud']\": 1,\n",
       " \"['Java', 'Go', 'SQL', 'NoSQL', 'Spring', 'Git', 'MySQL']\": 1,\n",
       " \"['C#', 'SQL', 'HTML', 'CSS', 'ASP.NET', 'Git', 'AWS', 'Azure', 'PostgreSQL']\": 1,\n",
       " \"['Python', 'Linux']\": 1,\n",
       " \"['JavaScript', 'Java', 'Go', 'HTML', 'CSS', 'React', 'Angular', 'Git', 'AWS', 'Azure', 'AngularJS']\": 1,\n",
       " \"['JavaScript', 'Java', 'Go', 'SQL', 'Angular', 'Spring', 'REST API', 'Git', 'Jenkins', 'Docker', 'MongoDB']\": 1,\n",
       " \"['JavaScript', 'Java', 'C#', 'TypeScript', 'SQL', 'HTML', 'ASP.NET']\": 1,\n",
       " \"['Java', 'Go', 'Angular', 'Spring', 'Git', 'Jenkins', 'Docker', 'AWS', 'Unix', 'OAuth']\": 1,\n",
       " \"['JavaScript', 'Java', 'C#', 'SQL', 'HTML']\": 1,\n",
       " \"['C#', 'Go', 'Git', 'Jenkins']\": 1,\n",
       " \"['Go', 'SQL', 'JIRA']\": 1,\n",
       " \"['C#', 'Go', 'TypeScript', 'SQL', 'Angular', 'ASP.NET', 'REST API', 'AWS', 'Azure']\": 1,\n",
       " \"['JavaScript', 'Java', 'C#', 'Go', 'SQL', 'HTML', 'CSS', 'Angular', 'ASP.NET', 'Jenkins', 'Windows', 'Bootstrap', 'JIRA', 'Bitbucket']\": 1,\n",
       " \"['Git', 'AWS', 'Azure']\": 1,\n",
       " \"['Python', 'Java', 'Go', 'SQL', 'Spring', 'REST API', 'Jenkins', 'Docker', 'AWS', 'PostgreSQL']\": 1,\n",
       " \"['Python', 'JavaScript', 'Java', 'HTML', 'CSS', 'Next.js']\": 1,\n",
       " \"['Python', 'Docker', 'AWS']\": 1,\n",
       " \"['Go', 'TypeScript', 'SQL', 'React', 'Node.js', 'GraphQL', 'Git', 'AWS', 'PostgreSQL']\": 1,\n",
       " \"['Python', 'Ruby', 'Go', 'Docker', 'AWS', 'Linux']\": 1,\n",
       " \"['Python', 'PHP', 'Ruby', 'SQL', 'HTML', 'CSS', 'AWS', 'Linux', 'MySQL']\": 1,\n",
       " \"['Python', 'SQL', 'REST API', 'Git', 'Azure', 'Linux']\": 1,\n",
       " \"['JavaScript', 'Java', 'C++', 'Ruby', 'Go', 'SQL', 'Windows']\": 2,\n",
       " \"['JavaScript', 'Java', 'TypeScript', 'SQL', 'React', 'Node.js', 'AWS', 'MySQL']\": 1,\n",
       " \"['JavaScript', 'Java', 'Go', 'TypeScript', 'React', 'Node.js', 'REST API', 'Git', 'AWS', 'Azure', 'Google Cloud']\": 1,\n",
       " \"['Python', 'JavaScript', 'Java', 'Go', 'Git', 'Jenkins']\": 1,\n",
       " \"['JavaScript', 'Java', 'TypeScript', 'Node.js', 'Git', 'AWS']\": 2,\n",
       " \"['Go', 'SQL', 'Git', 'JIRA']\": 1,\n",
       " \"['Python', 'Java', 'C++', 'Go', 'Node.js', 'Git', 'Jenkins', 'Docker', 'AWS']\": 1,\n",
       " \"['Jenkins', 'Docker', 'Azure']\": 1,\n",
       " \"['Go', 'Git', 'AWS']\": 1,\n",
       " \"['Python', 'Java', 'Swift', 'Go', 'Git', 'AWS']\": 1,\n",
       " \"['Python', 'Java', 'C++', 'Go', 'Git', 'AWS']\": 1,\n",
       " \"['Python', 'Java', 'Go', 'SQL', 'NoSQL', 'Git', 'Docker', 'AWS', 'Azure', 'JIRA']\": 1,\n",
       " \"['JavaScript', 'Java', 'Go', 'SQL', 'HTML', 'Angular', 'Git', 'Linux', 'Unix']\": 1,\n",
       " \"['Python', 'C++', 'Go', 'Linux']\": 1,\n",
       " \"['JavaScript', 'Java', 'Go', 'React', 'Spring', 'Git', 'Jenkins', 'Docker', 'Webpack']\": 1,\n",
       " \"['C#', 'SQL', 'Angular', 'ASP.NET', 'Git', 'Azure']\": 1,\n",
       " \"['Java', 'Go', 'SQL', 'Angular', 'Node.js', 'JSON', 'Git', 'Docker']\": 1,\n",
       " \"['Python', 'Go', 'SQL', 'Git', 'Google Cloud']\": 1,\n",
       " \"['C#', 'TypeScript', 'Angular', 'ASP.NET', 'Docker', 'Azure', 'AngularJS']\": 1,\n",
       " \"['Java', 'Go', 'Git', 'Docker', 'AWS', 'Google Cloud', 'Linux', 'JIRA']\": 1,\n",
       " \"['Python', 'Go']\": 2,\n",
       " \"['Python', 'Go', 'Jenkins', 'Docker', 'AWS', 'Linux']\": 1,\n",
       " \"['Java', 'Go', 'AWS', 'Linux', 'Unix', 'Foundation']\": 1,\n",
       " \"['JavaScript', 'Java', 'PHP', 'HTML']\": 1,\n",
       " \"['JavaScript', 'Java', 'C#', 'Go']\": 1,\n",
       " \"['C#', 'SQL', 'Git']\": 2,\n",
       " \"['JavaScript', 'Java', 'C#', 'Go', 'SQL', 'React']\": 1,\n",
       " \"['TypeScript', 'React', 'AWS', 'Next.js']\": 1,\n",
       " \"['Python', 'C++', 'C#', 'Go', 'SQL']\": 1,\n",
       " \"['JavaScript', 'Java', 'Swift', 'Go', 'TypeScript', 'HTML', 'CSS', 'Angular', 'Sass']\": 1,\n",
       " \"['Go', 'Git', 'AWS', 'Azure']\": 1,\n",
       " \"['Python', 'C++', 'Go', 'Git', 'Linux', 'Windows']\": 1,\n",
       " \"['JavaScript', 'Java', 'PHP', 'SQL', 'HTML', 'CSS', 'React', 'Node.js', 'AWS', 'MySQL']\": 1,\n",
       " \"['JavaScript', 'Java', 'PHP', 'Go', 'SQL', 'HTML', 'CSS', 'React', 'JSON', 'MySQL']\": 1,\n",
       " \"['C#', 'Windows']\": 1,\n",
       " \"['Python', 'C++', 'Go', 'REST API']\": 1,\n",
       " \"['Python', 'Java', 'C++', 'Git', 'AWS', 'Azure', 'Foundation']\": 1,\n",
       " \"['JavaScript', 'Java', 'C#', 'SQL', 'React', 'Git', 'AWS', 'JIRA']\": 1,\n",
       " \"['Python', 'JavaScript', 'Java', 'Ruby', 'Go', 'TypeScript', 'SQL', 'NoSQL', 'React', 'Angular', 'Node.js', 'Git', 'Docker', 'AWS']\": 1,\n",
       " \"['C#', 'Go', 'SQL']\": 2,\n",
       " \"['Python', 'JavaScript', 'Java', 'Go', 'MongoDB']\": 1,\n",
       " \"['Python', 'Java', 'C++', 'Go', 'SQL', 'Git', 'Docker', 'Linux']\": 1,\n",
       " \"['Python', 'JavaScript', 'Java', 'C++', 'C#', 'PHP', 'Ruby', 'Go', 'SQL', 'React', 'Node.js', 'Ruby on Rails', 'JSON', 'Jenkins', 'AWS', 'Azure', 'Linux', 'Windows', 'MySQL', 'MongoDB']\": 1,\n",
       " \"['Python', 'JavaScript', 'Java', 'CSS', 'Spring', 'JSON', 'Linux']\": 1,\n",
       " \"['JavaScript', 'Java', 'C#', 'SQL', 'HTML', 'CSS', 'ASP.NET']\": 1,\n",
       " \"['JavaScript', 'Java', 'HTML', 'CSS']\": 3,\n",
       " \"['JavaScript', 'Java', 'PHP', 'Go', 'HTML', 'XML', 'Git', 'Foundation']\": 1,\n",
       " \"['C++', 'C#', 'Go', 'SQL', 'Git', 'AWS', 'Windows', 'MySQL']\": 1,\n",
       " \"['JavaScript', 'Java', 'C#', 'SQL', 'HTML', 'CSS', 'Vue.js', 'ASP.NET', 'Azure', 'Windows']\": 1,\n",
       " \"['Java', 'C++', 'Go', 'SQL', 'MySQL']\": 1,\n",
       " \"['JavaScript', 'Java', 'Go', 'HTML', 'CSS']\": 4,\n",
       " \"['JavaScript', 'Java', 'Go']\": 1,\n",
       " \"['JavaScript', 'Java', 'Go', 'SQL', 'Spring']\": 1,\n",
       " \"['JavaScript', 'Java', 'C#', 'SQL', 'HTML', 'CSS', 'ASP.NET', 'XML']\": 2,\n",
       " \"['Java', 'C#', 'SQL', 'HTML']\": 1,\n",
       " \"['C++', 'C#', 'Git']\": 1,\n",
       " \"['JavaScript', 'Java', 'React', 'Angular', 'Node.js']\": 1,\n",
       " \"['JavaScript', 'Java', 'Swift', 'Go', 'TypeScript', 'HTML', 'CSS', 'Angular', 'Spring', 'XML', 'Git']\": 1,\n",
       " \"['JavaScript', 'Java', 'C#', 'Go', 'SQL', 'HTML', 'CSS', 'ASP.NET', 'Bootstrap']\": 1,\n",
       " \"['Ruby', 'Ruby on Rails']\": 1,\n",
       " \"['Python', 'Java', 'C++', 'Go', 'OAuth', 'Foundation']\": 1,\n",
       " \"['JavaScript', 'Java', 'Go', 'TypeScript', 'SQL', 'CSS', 'React', 'GraphQL', 'JSON', 'PostgreSQL', 'Firebase']\": 1,\n",
       " \"['JavaScript', 'Java', 'C#', 'SQL', 'HTML', 'CSS', 'ASP.NET', 'AWS']\": 1,\n",
       " \"['JavaScript', 'Java', 'HTML', 'CSS', 'React', 'Angular', 'Jenkins', 'AWS']\": 1,\n",
       " \"['Python', 'JavaScript', 'Java', 'C#', 'Go', 'SQL', 'HTML', 'CSS', 'React']\": 1,\n",
       " \"['Go', 'Linux', 'Windows']\": 1,\n",
       " \"['Python', 'JavaScript', 'Java', 'Go', 'SQL', 'Django', 'Flask', 'REST API', 'Git', 'Jenkins', 'Docker', 'AWS', 'PostgreSQL', 'Webpack']\": 1,\n",
       " \"['C++', 'Go', 'Linux', 'Windows']\": 1,\n",
       " \"['C++', 'Go', 'Git', 'Linux', 'Unix', 'Windows']\": 1,\n",
       " \"['Python', 'Java', 'Go', 'Docker', 'AWS', 'Linux', 'JIRA', 'Bitbucket']\": 1,\n",
       " \"['JavaScript', 'Java', 'PHP', 'HTML', 'CSS', 'Spring', 'GraphQL', 'Linux', 'Bootstrap']\": 1,\n",
       " \"['JavaScript', 'Java', 'Go', 'HTML', 'CSS', 'Foundation']\": 2,\n",
       " \"['JavaScript', 'Java', 'Go', 'HTML', 'CSS', 'Git']\": 1,\n",
       " \"['JavaScript', 'Java', 'SQL', 'HTML', 'CSS', 'React', 'Angular', 'ASP.NET', 'Windows']\": 1,\n",
       " \"['Python', 'Go', 'SQL', 'NoSQL', 'Angular', 'Node.js', 'REST API', 'Git', 'AWS']\": 1,\n",
       " \"['JavaScript', 'Java', 'C#', 'SQL', 'HTML', 'CSS', 'ASP.NET', 'Git']\": 1,\n",
       " \"['Go', 'SQL', 'NoSQL', 'React', 'Angular', 'Node.js', 'ASP.NET', 'AWS', 'Azure']\": 1,\n",
       " \"['Java', 'Go', 'SQL', 'HTML', 'CSS', 'Git', 'Azure']\": 1,\n",
       " \"['JavaScript', 'Java', 'PHP', 'TypeScript', 'HTML', 'CSS', 'Docker', 'AWS']\": 1,\n",
       " \"['JavaScript', 'Java', 'HTML', 'CSS', 'React', 'Angular', 'Node.js', 'AngularJS']\": 1,\n",
       " \"['Java', 'Go', 'Docker']\": 1,\n",
       " \"['JavaScript', 'Java', 'HTML', 'CSS', 'JSON']\": 1,\n",
       " \"['Go', 'TypeScript', 'React', 'Node.js', 'Docker']\": 1,\n",
       " \"['JavaScript', 'Java', 'Ruby', 'Go', 'Ruby on Rails', 'Foundation', 'JIRA']\": 1,\n",
       " \"['Python', 'JavaScript', 'Java', 'PHP', 'SQL', 'HTML', 'CSS', 'XML']\": 1,\n",
       " \"['Go', 'SQL', 'Linux']\": 1,\n",
       " \"['JavaScript', 'Java', 'SQL', 'Node.js']\": 2,\n",
       " \"['JavaScript', 'Java', 'PHP', 'Go', 'SQL', 'HTML', 'CSS', 'Git', 'MySQL']\": 1,\n",
       " \"['Go', 'SQL', 'React', 'Spring', 'Git', 'Docker', 'AWS', 'Azure', 'Linux', 'Windows', 'Foundation']\": 1,\n",
       " \"['Java', 'Spring', 'Jenkins', 'Docker', 'JIRA']\": 1,\n",
       " \"['Python', 'C++', 'Go', 'Git', 'Docker', 'AWS', 'Azure', 'Linux']\": 1,\n",
       " \"['JavaScript', 'Java', 'Go', 'HTML', 'CSS', 'React', 'GraphQL', 'Git']\": 1,\n",
       " \"['Java', 'Go', 'React', 'Git', 'AWS', 'Azure']\": 1,\n",
       " \"['JavaScript', 'Java', 'Go', 'HTML', 'CSS', 'Angular', 'Spring', 'XML', 'Jenkins', 'AWS', 'Bootstrap']\": 1,\n",
       " \"['Linux', 'Windows']\": 1,\n",
       " \"['JavaScript', 'Java', 'Go', 'SQL', 'NoSQL', 'React', 'Angular', 'Node.js', 'Git', 'Jenkins', 'AWS', 'Linux']\": 1,\n",
       " \"['JavaScript', 'Java', 'C#', 'Go', 'SQL', 'HTML', 'CSS']\": 1,\n",
       " \"['Java', 'C++', 'C#', 'Linux', 'Windows']\": 1,\n",
       " \"['Go', 'Linux', 'Windows', 'Foundation']\": 1,\n",
       " \"['C#', 'Go', 'React', 'Foundation']\": 1,\n",
       " \"['Java', 'Docker', 'AWS', 'Azure']\": 1,\n",
       " \"['Python', 'C#', 'Go', 'SQL']\": 2,\n",
       " \"['Python', 'Java', 'Go', 'SQL', 'Spring', 'MySQL']\": 2,\n",
       " \"['JavaScript', 'Java', 'C#', 'Go', 'SQL', 'HTML', 'CSS', 'ASP.NET', 'XML', 'Bootstrap']\": 1,\n",
       " \"['SQL', 'Linux']\": 2,\n",
       " \"['Go', 'SQL', 'NoSQL', 'Git', 'AWS', 'Azure', 'MySQL', 'PostgreSQL', 'MongoDB']\": 1,\n",
       " \"['JavaScript', 'Java', 'Go', 'React', 'Git', 'Jenkins', 'JIRA']\": 1,\n",
       " \"['Python', 'C++', 'C#', 'Go', 'JSON', 'XML', 'Linux', 'Windows']\": 1,\n",
       " \"['JavaScript', 'Java', 'C#', 'SQL', 'HTML', 'CSS', 'React', 'Angular', 'Vue.js', 'Git', 'AWS', 'Azure']\": 2,\n",
       " \"['JavaScript', 'Java', 'Swift', 'SQL', 'HTML', 'CSS', 'Angular', 'Spring', 'XML', 'AWS', 'Linux', 'AngularJS']\": 1,\n",
       " \"['SQL', 'NoSQL', 'Angular']\": 1,\n",
       " \"['Go', 'SQL', 'Unix']\": 1,\n",
       " \"['Python', 'Go', 'Angular', 'Docker']\": 1,\n",
       " \"['C#', 'ASP.NET', 'AWS']\": 1,\n",
       " \"['C++', 'C#', 'Go', 'AWS']\": 1,\n",
       " \"['Java', 'TypeScript', 'React', 'Git', 'Docker', 'AWS']\": 1,\n",
       " \"['JavaScript', 'Java', 'TypeScript', 'HTML', 'CSS', 'React', 'Angular', 'Vue.js', 'AngularJS']\": 1,\n",
       " \"['JavaScript', 'Java', 'Go', 'HTML', 'CSS', 'React', 'Angular', 'Spring', 'Git', 'AWS', 'Azure', 'AngularJS']\": 1,\n",
       " \"['C#', 'Go', 'SQL', 'XML']\": 1,\n",
       " \"['Python', 'JavaScript', 'Java', 'C#', 'PHP', 'Go', 'TypeScript', 'SQL', 'HTML', 'CSS', 'React', 'Angular', 'Git', 'Jenkins', 'MySQL', 'PostgreSQL', 'MongoDB', 'OAuth', 'Bitbucket']\": 1,\n",
       " \"['Python', 'C#', 'Go']\": 1,\n",
       " \"['C#', 'SQL', 'Azure']\": 1,\n",
       " \"['Python', 'Swift', 'Go', 'Linux']\": 1,\n",
       " \"['Go', 'TypeScript', 'React', 'REST API', 'Git', 'Docker', 'AWS', 'Azure']\": 1,\n",
       " \"['C#', 'Go', 'React', 'REST API', 'Azure']\": 1,\n",
       " \"['JavaScript', 'Java', 'Go', 'TypeScript', 'HTML', 'CSS', 'Angular', 'OAuth', 'Webpack']\": 1,\n",
       " \"['JavaScript', 'Java', 'Go', 'TypeScript', 'HTML', 'CSS', 'React', 'Angular', 'Vue.js', 'Git']\": 1,\n",
       " \"['JavaScript', 'Java', 'Go', 'SQL', 'HTML', 'CSS', 'React', 'Angular', 'Git', 'AWS', 'MySQL', 'PostgreSQL']\": 1,\n",
       " \"['Java', 'Go', 'TypeScript', 'HTML', 'CSS', 'Angular', 'Sass']\": 1,\n",
       " \"['Python', 'Java', 'C++', 'Go', 'Git', 'AWS', 'Azure', 'Linux', 'Unix']\": 1,\n",
       " \"['JavaScript', 'Java', 'React', 'AWS']\": 2,\n",
       " \"['JavaScript', 'Java', 'C#', 'Go', 'SQL', 'HTML', 'CSS', 'ASP.NET', 'Azure']\": 1,\n",
       " \"['JavaScript', 'Java', 'C#', 'SQL', 'HTML', 'CSS', 'Angular', 'ASP.NET', 'Jenkins', 'Windows', 'Bootstrap', 'JIRA', 'Bitbucket']\": 1,\n",
       " \"['Java', 'SQL', 'NoSQL', 'Spring']\": 1,\n",
       " \"['Python', 'JavaScript', 'Java', 'Go', 'SQL', 'NoSQL', 'HTML', 'CSS', 'React', 'Angular', 'Django', 'Git', 'Docker', 'MySQL', 'MongoDB']\": 1,\n",
       " \"['Go', 'SQL', 'NoSQL', 'GraphQL', 'Git', 'AWS']\": 1,\n",
       " \"['JavaScript', 'Java', 'Go', 'React', 'Git', 'Webpack']\": 1,\n",
       " \"['C#', 'Go', 'AWS', 'Windows', 'Sass']\": 1,\n",
       " \"['TypeScript', 'React', 'Git', 'AWS']\": 1,\n",
       " \"['JavaScript', 'Java', 'C#', 'Go', 'HTML', 'CSS', 'React', 'Node.js', 'ASP.NET', 'Git', 'AWS', 'OAuth', 'Sass', 'Foundation', 'JIRA']\": 2,\n",
       " \"['Python', 'JavaScript', 'Java', 'Go', 'Spring', 'JSON', 'Git', 'Docker', 'AWS', 'MongoDB']\": 1,\n",
       " \"['SQL', 'Windows']\": 1,\n",
       " \"['TypeScript', 'HTML', 'CSS', 'React', 'Angular', 'Webpack']\": 1,\n",
       " \"['JavaScript', 'Java', 'C#', 'Go', 'SQL']\": 1,\n",
       " \"['Python', 'Go', 'SQL']\": 1,\n",
       " \"['Python', 'JavaScript', 'Java', 'Go', 'SQL', 'NoSQL', 'Node.js', 'Git', 'AWS', 'MySQL', 'MongoDB']\": 1,\n",
       " \"['Python', 'JavaScript', 'Java', 'Go', 'TypeScript', 'SQL', 'HTML', 'CSS', 'React', 'Node.js']\": 1,\n",
       " \"['JavaScript', 'Java', 'Go', 'HTML', 'CSS', 'Angular']\": 2,\n",
       " \"['JavaScript', 'Java', 'Go', 'SQL', 'HTML', 'CSS', 'React', 'GraphQL', 'Git', 'AWS', 'MySQL', 'Gatsby', 'JIRA']\": 1,\n",
       " \"['Java', 'C++', 'Go']\": 1,\n",
       " \"['JavaScript', 'Java', 'PHP', 'SQL', 'HTML', 'CSS', 'React', 'Spring', 'Git', 'Jenkins', 'AWS', 'Linux', 'MySQL']\": 1,\n",
       " \"['Java', 'Go', 'SQL', 'NoSQL', 'HTML', 'CSS', 'Node.js', 'Spring', 'Docker']\": 1,\n",
       " \"['Java', 'C++', 'SQL', 'React', 'Unix']\": 1,\n",
       " \"['Python', 'Go', 'JSON', 'Git', 'AWS', 'Azure']\": 1,\n",
       " \"['JavaScript', 'Java', 'SQL']\": 1,\n",
       " \"['Java', 'TypeScript', 'React', 'Angular', 'AWS']\": 1,\n",
       " \"['Java', 'Go', 'SQL', 'JIRA']\": 1,\n",
       " \"['C#', 'Go', 'ASP.NET', 'AWS', 'Azure']\": 1,\n",
       " \"['React', 'Next.js']\": 1,\n",
       " \"['JavaScript', 'Java', 'C#', 'SQL', 'HTML', 'CSS', 'React', 'Angular', 'ASP.NET', 'AWS']\": 1,\n",
       " \"['C#', 'SQL', 'Bitbucket']\": 1,\n",
       " \"['Python', 'JavaScript', 'Java', 'C#', 'SQL', 'HTML', 'Git', 'AWS']\": 1,\n",
       " \"['JavaScript', 'Java', 'Go', 'TypeScript', 'SQL', 'HTML', 'CSS', 'REST API', 'Git', 'Docker', 'MySQL', 'Webpack', 'Tailwind CSS']\": 1,\n",
       " \"['Swift']\": 1,\n",
       " \"['JavaScript', 'Java', 'Go', 'TypeScript', 'HTML', 'CSS', 'React', 'Git', 'AWS']\": 1,\n",
       " \"['Java', 'Swift', 'React', 'JSON']\": 1,\n",
       " \"['JavaScript', 'Java', 'TypeScript', 'SQL', 'NoSQL', 'HTML', 'CSS']\": 1,\n",
       " \"['TypeScript', 'CSS', 'Angular', 'Tailwind CSS']\": 1,\n",
       " \"['JavaScript', 'Java', 'C#', 'SQL', 'HTML', 'CSS', 'ASP.NET', 'XML', 'Windows']\": 1,\n",
       " \"['Python', 'JavaScript', 'Java', 'HTML', 'CSS', 'Angular', 'Spring', 'JSON', 'Bootstrap', 'AngularJS']\": 1,\n",
       " \"['C#', 'React', 'Angular', 'Vue.js', 'Git', 'AWS']\": 1,\n",
       " \"['Python', 'C++', 'Go', 'Spring', 'Git', 'Linux', 'Foundation']\": 1,\n",
       " \"['JavaScript', 'Java', 'Swift', 'TypeScript', 'SQL', 'Angular', 'Node.js', 'Spring', 'Docker']\": 1,\n",
       " \"['JavaScript', 'Java', 'Go', 'HTML', 'Git', 'Jenkins', 'Docker', 'AWS']\": 1,\n",
       " \"['JavaScript', 'Java', 'HTML', 'CSS', 'React', 'Node.js', 'Docker', 'AWS']\": 2,\n",
       " \"['Go', 'SQL', 'AWS', 'Linux']\": 1,\n",
       " \"['TypeScript', 'CSS', 'React', 'Angular', 'Webpack', 'Sass']\": 1,\n",
       " \"['C#', 'SQL', 'NoSQL']\": 1,\n",
       " \"['JavaScript', 'Java', 'Go', 'SQL', 'Vue.js', 'Spring', 'Git', 'Jenkins', 'Azure']\": 1,\n",
       " \"['Python', 'JavaScript', 'Java', 'C++', 'C#', 'Go', 'JSON', 'Git', 'AWS']\": 1,\n",
       " \"['C#', 'Go', 'Windows']\": 1,\n",
       " \"['Java', 'C++', 'C#', 'Go', 'SQL']\": 1,\n",
       " \"['Java', 'Go', 'SQL', 'Git', 'Jenkins', 'JIRA']\": 1,\n",
       " \"['JavaScript', 'Java', 'PHP', 'SQL', 'HTML', 'CSS', 'Git', 'AWS', 'Linux', 'MySQL']\": 1,\n",
       " \"['JavaScript', 'Java', 'HTML', 'CSS', 'Angular', 'AngularJS']\": 1,\n",
       " \"['SQL', 'Azure']\": 1,\n",
       " \"['JavaScript', 'Java', 'PHP', 'Ruby', 'HTML', 'CSS', 'Ruby on Rails', 'ASP.NET']\": 3,\n",
       " \"['SQL', 'Unix']\": 1,\n",
       " \"['JavaScript', 'Java', 'Go', 'TypeScript', 'HTML', 'CSS', 'React', 'Angular', 'Spring', 'Sass', 'AngularJS']\": 1,\n",
       " \"['C++', 'Go', 'Git']\": 2,\n",
       " \"['Python', 'C#', 'Go', 'SQL', 'Git', 'JIRA']\": 1,\n",
       " \"['JavaScript', 'Java', 'C#', 'SQL', 'HTML', 'Angular', 'ASP.NET', 'Azure']\": 1,\n",
       " \"['Go', 'Windows', 'Foundation']\": 1,\n",
       " \"['Python', 'JavaScript', 'Java', 'C#', 'Go', 'SQL', 'HTML', 'CSS', 'React', 'Angular', 'Git', 'MySQL']\": 1,\n",
       " \"['JavaScript', 'Java', 'Go', 'SQL', 'Git', 'Azure', 'JIRA']\": 1,\n",
       " \"['Java', 'Swift', 'Go', 'HTML', 'CSS', 'Angular', 'Git', 'OAuth']\": 1,\n",
       " \"['Python', 'REST API']\": 1,\n",
       " \"['Python', 'C++', 'C#', 'Go', 'Git', 'Jenkins', 'Azure', 'Windows', 'JIRA']\": 1,\n",
       " \"['Python', 'Java', 'C++', 'SQL', 'Git', 'Docker', 'Linux', 'JIRA']\": 1,\n",
       " \"['Python', 'JavaScript', 'Java', 'C#', 'Go', 'HTML', 'CSS', 'React', 'Angular', 'REST API', 'Git', 'Docker']\": 1,\n",
       " \"['Python', 'C++']\": 2,\n",
       " \"['JavaScript', 'Java', 'PHP', 'Go', 'HTML', 'CSS', 'Laravel']\": 1,\n",
       " \"['JavaScript', 'Java', 'PHP', 'Go', 'SQL', 'HTML', 'CSS', 'Git', 'Docker', 'Linux', 'CodeIgniter']\": 1,\n",
       " \"['Java', 'PHP', 'HTML', 'CSS']\": 1,\n",
       " \"['Python', 'C++', 'Go', 'Azure']\": 1,\n",
       " \"['Linux']\": 1,\n",
       " \"['Python', 'Go', 'REST API', 'Docker', 'MongoDB']\": 1,\n",
       " \"['JavaScript', 'Java', 'PHP', 'Ruby', 'Go', 'SQL', 'HTML', 'CSS', 'Git', 'MySQL']\": 1,\n",
       " \"['Go', 'React', 'Git']\": 1,\n",
       " \"['JavaScript', 'Java', 'Go', 'HTML', 'CSS', 'Angular', 'Spring', 'JSON', 'Git', 'Jenkins', 'Sass', 'JIRA']\": 1,\n",
       " \"['JavaScript', 'Java', 'PHP', 'Go', 'HTML', 'CSS', 'React']\": 1,\n",
       " \"['React']\": 1,\n",
       " \"['C#', 'Go', 'SQL', 'Git']\": 1,\n",
       " \"['JavaScript', 'Java', 'TypeScript', 'SQL', 'HTML', 'CSS', 'React', 'Git', 'AWS', 'Azure', 'Next.js']\": 1,\n",
       " \"['JavaScript', 'Java', 'PHP', 'Go', 'SQL', 'HTML', 'CSS', 'Git', 'PostgreSQL']\": 1,\n",
       " \"['Java', 'JIRA']\": 1,\n",
       " \"['Java', 'Git', 'Jenkins', 'Docker', 'Azure']\": 1,\n",
       " \"['Java', 'Go', 'Spring', 'Git', 'Jenkins', 'Docker']\": 1,\n",
       " \"['Go', 'Git', 'Foundation']\": 1,\n",
       " \"['Azure']\": 1,\n",
       " \"['JavaScript', 'Java', 'React', 'REST API', 'Jenkins']\": 1,\n",
       " \"['C++', 'Go', 'AWS', 'Windows']\": 1,\n",
       " \"['Python', 'Java', 'C++', 'Go', 'JSON', 'AWS', 'Azure']\": 1,\n",
       " \"['Python', 'JavaScript', 'Java', 'PHP', 'Ruby', 'Go', 'SQL', 'NoSQL', 'HTML', 'CSS', 'Angular', 'Ruby on Rails', 'Spring', 'REST API', 'Git', 'Linux', 'MySQL', 'PostgreSQL', 'Laravel']\": 1,\n",
       " \"['SQL', 'HTML', 'CSS', 'React', 'Git']\": 1,\n",
       " \"['Python', 'JavaScript', 'Java', 'C++', 'C#', 'PHP', 'Ruby', 'Swift', 'Go', 'SQL', 'HTML', 'CSS', 'Git', 'AWS', 'Azure']\": 1,\n",
       " \"['JavaScript', 'Java', 'Go', 'SQL', 'HTML', 'CSS', 'React', 'Node.js', 'Git', 'AWS', 'Azure', 'MongoDB']\": 1,\n",
       " \"['Python', 'JavaScript', 'Java', 'C++', 'SQL', 'HTML', 'CSS', 'XML', 'Git', 'AWS', 'Linux', 'Unix', 'JIRA']\": 1,\n",
       " \"['Java', 'C++', 'C#', 'Go', 'SQL', 'HTML']\": 1,\n",
       " \"['Python', 'JavaScript', 'Java', 'C++', 'C#', 'PHP', 'SQL', 'HTML', 'React', 'Unix', 'Windows', 'Webpack']\": 1,\n",
       " \"['Python', 'JavaScript', 'Java']\": 1,\n",
       " \"['Go', 'SQL', 'REST API']\": 1,\n",
       " \"['C++', 'Go', 'Unix']\": 1,\n",
       " \"['PHP', 'Go', 'SQL', 'AWS', 'Linux', 'MySQL', 'Laravel', 'Symfony', 'CakePHP']\": 1,\n",
       " \"['Git', 'Web Components']\": 1,\n",
       " \"['TypeScript', 'React']\": 1,\n",
       " \"['Python', 'JavaScript', 'Java', 'C++', 'Go', 'HTML', 'CSS', 'React', 'Git', 'Linux', 'JIRA']\": 1,\n",
       " \"['Python', 'JavaScript', 'Java', 'PHP', 'Go', 'SQL', 'HTML', 'CSS', 'Git', 'Docker', 'Linux', 'CodeIgniter']\": 1,\n",
       " \"['JavaScript', 'Java', 'HTML', 'CSS', 'Angular']\": 1,\n",
       " \"['Python', 'JavaScript', 'Java', 'SQL', 'HTML', 'CSS', 'React', 'Flask', 'Git', 'Linux', 'Windows', 'MySQL', 'Bootstrap']\": 1,\n",
       " \"['HTML', 'CSS']\": 2,\n",
       " \"['Docker', 'AWS', 'Linux', 'Foundation']\": 1,\n",
       " \"['JavaScript', 'Java', 'C#', 'Go', 'HTML', 'CSS', 'ASP.NET']\": 2,\n",
       " \"['JavaScript', 'Java', 'Go', 'TypeScript', 'SQL', 'HTML', 'CSS', 'Angular', 'Git', 'Jenkins', 'Foundation']\": 1,\n",
       " \"['JavaScript', 'Java', 'Go', 'SQL', 'HTML', 'CSS', 'React', 'Angular', 'MySQL', 'PostgreSQL', 'MongoDB', 'Webpack', 'Bootstrap', 'Sass', 'AngularJS', 'Semantic UI']\": 1,\n",
       " \"['Go', 'React', 'Node.js', 'AWS', 'JIRA']\": 1,\n",
       " \"['SQL', 'CSS', 'Angular', 'Windows']\": 1,\n",
       " \"['JavaScript', 'Java', 'Node.js', 'ASP.NET', 'Git']\": 1,\n",
       " \"['Ruby', 'Go', 'SQL', 'React', 'AWS', 'Azure', 'Windows', 'Foundation']\": 1,\n",
       " \"['C#', 'SQL', 'ASP.NET', 'JSON', 'XML', 'Azure']\": 1,\n",
       " \"['Java', 'PHP', 'Go', 'SQL', 'HTML', 'CSS', 'Git', 'Linux', 'MySQL', 'Foundation']\": 1,\n",
       " \"['Python', 'TypeScript', 'SQL', 'HTML', 'CSS', 'AWS', 'Linux']\": 1,\n",
       " \"['JavaScript', 'Java', 'Go', 'SQL', 'HTML', 'CSS', 'Angular']\": 1,\n",
       " \"['Python', 'Go', 'HTML', 'JSON']\": 2,\n",
       " \"['JavaScript', 'Java', 'PHP', 'Go', 'SQL', 'HTML', 'CSS', 'XML', 'Git', 'MySQL', 'Sass']\": 1,\n",
       " \"['JavaScript', 'Java', 'PHP', 'Go', 'HTML', 'CSS', 'Git', 'JIRA']\": 1,\n",
       " \"['Python', 'JavaScript', 'Java', 'PHP', 'Go', 'SQL', 'React', 'Git', 'Linux', 'MySQL', 'PostgreSQL', 'MongoDB', 'Symfony', 'JIRA']\": 1,\n",
       " \"['React', 'Angular', 'Git']\": 1,\n",
       " \"['JavaScript', 'Java', 'HTML', 'CSS', 'React', 'Webpack']\": 1,\n",
       " \"['Python', 'JavaScript', 'Java', 'PHP', 'Go', 'TypeScript', 'HTML', 'CSS', 'REST API', 'GraphQL', 'JSON', 'Git', 'Jenkins', 'Docker', 'AWS', 'Linux', 'JIRA']\": 1,\n",
       " \"['Python', 'JavaScript', 'Java', 'C++', 'Go', 'HTML', 'CSS', 'React', 'Spring', 'Git', 'Linux', 'Windows', 'JIRA', 'Bitbucket']\": 1,\n",
       " \"['JavaScript', 'Java', 'HTML', 'CSS', 'Angular', 'Git']\": 1,\n",
       " \"['JavaScript', 'Java', 'PHP', 'SQL', 'HTML', 'CSS', 'Git', 'MySQL']\": 1,\n",
       " \"['Go', 'AWS', 'Google Cloud']\": 1,\n",
       " \"['JavaScript', 'Java', 'C++', 'C#', 'PHP', 'Go', 'SQL', 'HTML', 'CSS', 'React', 'Angular', 'GraphQL', 'Git', 'MySQL', 'PostgreSQL', 'MongoDB', 'Firebase', 'Bootstrap', 'Foundation']\": 1,\n",
       " \"['Go', 'React']\": 1,\n",
       " \"['JavaScript', 'Java', 'PHP', 'HTML', 'CSS', 'React', 'GraphQL', 'Git', 'Webpack', 'Next.js']\": 1,\n",
       " \"['JavaScript', 'Java', 'PHP', 'Go', 'SQL', 'HTML', 'CSS', 'MySQL', 'PostgreSQL']\": 1,\n",
       " \"['Python', 'Go', 'SQL', 'HTML', 'CSS', 'AWS', 'Google Cloud', 'MySQL']\": 1,\n",
       " \"['Python', 'JavaScript', 'Java', 'TypeScript', 'SQL', 'HTML', 'CSS', 'JSON', 'XML', 'AWS']\": 1,\n",
       " \"['Java', 'C#', 'SQL', 'CSS', 'Angular', 'Node.js', 'ASP.NET', 'REST API']\": 1,\n",
       " \"['Java', 'Go', 'JSON', 'XML']\": 1,\n",
       " \"['Python', 'JavaScript', 'Java', 'Go', 'Angular', 'Django', 'AngularJS']\": 1,\n",
       " \"['JavaScript', 'Java', 'C#', 'SQL', 'HTML', 'CSS', 'Azure']\": 1,\n",
       " \"['JavaScript', 'Java', 'PHP', 'Go', 'SQL', 'React', 'MySQL']\": 1,\n",
       " \"['Java', 'React', 'Angular', 'Node.js', 'Spring', 'REST API', 'JSON', 'Git', 'Docker']\": 1,\n",
       " \"['Go', 'React', 'JSON', 'Git', 'AWS', 'Google Cloud', 'JIRA']\": 1,\n",
       " \"['TypeScript', 'React', 'Node.js', 'Next.js']\": 1,\n",
       " \"['JavaScript', 'Java', 'PHP', 'Go', 'SQL', 'HTML', 'CSS', 'React', 'Angular', 'Vue.js', 'Node.js', 'Git', 'Google Cloud', 'Linux', 'Unix', 'MySQL', 'Webpack', 'Bootstrap', 'Sass']\": 1,\n",
       " \"['Go', 'Git', 'JIRA']\": 1,\n",
       " \"['JavaScript', 'Java', 'Go', 'HTML', 'CSS', 'React', 'Angular', 'Spring', 'JSON', 'XML', 'Git', 'AWS', 'MongoDB', 'JIRA']\": 1,\n",
       " \"['JavaScript', 'Java', 'HTML', 'CSS', 'Git']\": 3,\n",
       " \"['JavaScript', 'Java', 'Go', 'HTML', 'CSS', 'Angular', 'Vue.js', 'Node.js', 'JSON', 'Bootstrap']\": 1,\n",
       " \"['Unix', 'Windows']\": 1,\n",
       " \"['C#', 'SQL', 'ASP.NET', 'Windows']\": 1,\n",
       " \"['Python', 'Go', 'HTML', 'CSS', 'JSON']\": 1,\n",
       " \"['JavaScript', 'Java', 'Go', 'TypeScript', 'CSS', 'React', 'Next.js']\": 1,\n",
       " \"['JavaScript', 'Java', 'C#', 'Go', 'SQL', 'Angular', 'ASP.NET', 'Azure', 'Bootstrap']\": 1,\n",
       " \"['JavaScript', 'Java', 'PHP', 'Go', 'HTML', 'Spring', 'Git']\": 1,\n",
       " \"['JavaScript', 'Java', 'PHP', 'Go', 'SQL', 'HTML', 'CSS', 'JSON', 'XML', 'Git', 'Docker', 'MySQL', 'Bootstrap']\": 1,\n",
       " \"['Go', 'HTML', 'CSS']\": 1,\n",
       " \"['JavaScript', 'Java', 'SQL', 'CSS', 'React', 'ASP.NET', 'Spring', 'JSON', 'XML', 'Git', 'MySQL']\": 1,\n",
       " \"['Go', 'TypeScript', 'HTML', 'CSS', 'React', 'GraphQL', 'Git']\": 1,\n",
       " \"['JavaScript', 'Java', 'C#', 'TypeScript', 'SQL', 'Angular', 'Windows']\": 1,\n",
       " \"['Python', 'JavaScript', 'Java', 'Go', 'SQL', 'HTML', 'CSS', 'React', 'Flask']\": 1,\n",
       " \"['JavaScript', 'Java', 'C#', 'Go', 'TypeScript', 'SQL', 'HTML', 'CSS', 'React', 'Angular', 'REST API', 'Git', 'AWS', 'Azure']\": 1,\n",
       " \"['Python', 'JavaScript', 'Java', 'Go', 'HTML', 'CSS', 'React', 'Flask', 'Azure', 'Webpack']\": 1,\n",
       " \"['Go', 'Git', 'Azure', 'Linux', 'Windows']\": 1,\n",
       " \"['Python', 'C#', 'Go', 'SQL', 'Django', 'Flask', 'Git', 'AWS', 'JIRA']\": 1,\n",
       " \"['JavaScript', 'Java', 'HTML', 'CSS', 'React', 'Git', 'Webpack', 'Next.js', 'Foundation']\": 1,\n",
       " \"['JavaScript', 'Java', 'PHP', 'Go', 'SQL', 'HTML', 'CSS', 'Git', 'MySQL', 'Laravel']\": 1,\n",
       " \"['JavaScript', 'Java', 'Go', 'CSS', 'React', 'Angular', 'Vue.js', 'AWS']\": 1,\n",
       " \"['JavaScript', 'Java', 'C#', 'PHP', 'Go', 'SQL', 'HTML', 'CSS', 'ASP.NET', 'JSON', 'XML', 'Git']\": 1,\n",
       " \"['JavaScript', 'Java', 'Go', 'SQL', 'HTML', 'CSS', 'XML', 'Git']\": 1,\n",
       " \"['Java', 'SQL', 'Spring']\": 1,\n",
       " \"['JavaScript', 'Java', 'C#', 'PHP', 'Go', 'SQL', 'HTML', 'CSS', 'Git', 'Windows', 'MySQL', 'Bootstrap']\": 1,\n",
       " \"['JavaScript', 'Java', 'PHP', 'HTML', 'CSS', 'ASP.NET', 'Git', 'Linux', 'Windows']\": 1,\n",
       " \"['Python', 'JavaScript', 'Java', 'C#', 'Go', 'SQL', 'HTML', 'CSS', 'Git', 'AWS']\": 1,\n",
       " \"['JavaScript', 'Java', 'HTML', 'CSS', 'React', 'Angular', 'Git', 'AWS']\": 1,\n",
       " \"['JavaScript', 'Java', 'C#', 'Go', 'TypeScript', 'SQL', 'HTML', 'CSS', 'React', 'Angular', 'ASP.NET']\": 1,\n",
       " \"['JavaScript', 'Java', 'SQL', 'HTML', 'CSS', 'Bootstrap']\": 1,\n",
       " \"['JavaScript', 'Java', 'SQL', 'Angular', 'REST API', 'Webpack']\": 1,\n",
       " \"['JavaScript', 'Java', 'C#', 'Go', 'TypeScript', 'SQL', 'HTML', 'CSS', 'React', 'Angular', 'JSON', 'XML', 'Git', 'AWS', 'Azure', 'Bootstrap', 'Sass']\": 1,\n",
       " \"['JavaScript', 'Java', 'C#', 'Go', 'SQL', 'HTML', 'ASP.NET', 'REST API', 'JSON', 'Git', 'Azure', 'Bootstrap']\": 1,\n",
       " \"['JavaScript', 'Java', 'C#', 'Go', 'SQL', 'HTML', 'CSS', 'React', 'Vue.js', 'Bootstrap']\": 1,\n",
       " \"['Python', 'JavaScript', 'Java', 'Swift', 'Go', 'TypeScript', 'HTML', 'CSS', 'Angular', 'Spring', 'AWS']\": 1,\n",
       " \"['JavaScript', 'Java', 'Go', 'HTML', 'CSS', 'React', 'Angular', 'Git', 'Windows', 'Ember.js', 'Foundation']\": 1,\n",
       " \"['Python', 'JavaScript', 'Java', 'PHP', 'Go', 'SQL', 'HTML', 'CSS', 'React', 'Angular', 'Git', 'MySQL', 'Bootstrap']\": 1,\n",
       " \"['TypeScript', 'HTML', 'CSS', 'React', 'AWS', 'Web Components']\": 1,\n",
       " \"['JavaScript', 'Java', 'PHP', 'SQL', 'HTML', 'CSS', 'Laravel', 'CodeIgniter']\": 1,\n",
       " \"['PHP', 'Spring']\": 1,\n",
       " \"['JavaScript', 'Java', 'C#', 'Go', 'SQL', 'HTML', 'CSS', 'ASP.NET', 'JSON', 'Azure']\": 1,\n",
       " \"['Git', 'Linux', 'Unix']\": 1,\n",
       " \"['JavaScript', 'Java', 'HTML', 'CSS', 'React', 'Angular', 'Vue.js', 'Git']\": 1,\n",
       " \"['Python', 'Java', 'C++', 'SQL', 'Git', 'Jenkins', 'Docker', 'AWS']\": 1,\n",
       " \"['Go', 'TypeScript', 'React', 'Git']\": 1,\n",
       " \"['JavaScript', 'Java', 'Go', 'TypeScript', 'HTML', 'CSS', 'React']\": 1,\n",
       " \"['JavaScript', 'Java', 'Go', 'SQL', 'HTML', 'CSS', 'JSON', 'XML']\": 1,\n",
       " \"['Java', 'C++', 'SQL', 'Linux', 'MySQL']\": 1,\n",
       " \"['JavaScript', 'Java', 'C#', 'Go', 'SQL', 'HTML', 'CSS', 'Vue.js', 'ASP.NET', 'Git', 'AWS', 'Webpack', 'JIRA']\": 1,\n",
       " \"['Java', 'Go', 'React', 'Angular', 'AWS']\": 1,\n",
       " \"['JavaScript', 'Java', 'C#', 'Go', 'TypeScript', 'SQL', 'Angular', 'ASP.NET']\": 1,\n",
       " \"['Python', 'JavaScript', 'Java', 'Go', 'SQL', 'HTML', 'React', 'Angular', 'Django', 'REST API', 'Git', 'Jenkins', 'Docker', 'AWS', 'Linux', 'PostgreSQL']\": 1,\n",
       " \"['Java', 'Go', 'SQL', 'Spring', 'Git', 'AWS', 'Azure', 'PostgreSQL']\": 1,\n",
       " \"['PHP', 'AWS']\": 1,\n",
       " \"['JavaScript', 'Java', 'PHP', 'SQL', 'Git', 'AWS', 'MySQL']\": 1,\n",
       " \"['C#', 'ASP.NET', 'Git', 'Azure', 'Windows']\": 1,\n",
       " \"['C#', 'Go', 'React', 'Angular', 'AngularJS']\": 1,\n",
       " \"['JavaScript', 'Java', 'Go', 'TypeScript', 'React', 'Git']\": 1,\n",
       " \"['SQL', 'NoSQL']\": 1,\n",
       " \"['JavaScript', 'Java', 'PHP', 'Go', 'TypeScript', 'SQL', 'HTML', 'CSS', 'React', 'Angular', 'Vue.js', 'Node.js', 'Git', 'Docker', 'MySQL', 'Webpack', 'Sass', 'Laravel']\": 1,\n",
       " \"['JavaScript', 'Java', 'C#', 'Go', 'SQL', 'React', 'Node.js', 'ASP.NET', 'Git', 'Azure', 'Webpack']\": 1,\n",
       " \"['Java', 'Go', 'TypeScript', 'SQL', 'Angular', 'Spring', 'Git', 'PostgreSQL']\": 1,\n",
       " \"['JavaScript', 'Java', 'C#', 'Go', 'SQL', 'HTML', 'CSS', 'React', 'Angular', 'ASP.NET', 'JSON', 'Git', 'Azure', 'Bootstrap', 'Foundation']\": 1,\n",
       " \"['JavaScript', 'Java', 'C#', 'SQL', 'NoSQL', 'HTML', 'CSS', 'Angular', 'ASP.NET', 'Azure']\": 1,\n",
       " \"['C#', 'Go', 'SQL', 'Azure']\": 1,\n",
       " \"['C#', 'Go', 'TypeScript', 'SQL', 'React', 'Git', 'Azure', 'Google Cloud', 'Firebase', 'JIRA']\": 1,\n",
       " \"['C#', 'SQL', 'HTML', 'CSS', 'React', 'Angular', 'ASP.NET', 'Git']\": 1,\n",
       " \"['JavaScript', 'Java', 'C#', 'SQL', 'HTML', 'CSS']\": 1,\n",
       " \"['Go', 'AWS', 'Azure']\": 1,\n",
       " \"['Java', 'C++', 'PHP', 'Go', 'HTML', 'CSS', 'Spring', 'XML', 'AWS']\": 1,\n",
       " \"['Python', 'Java', 'C#', 'Go', 'SQL', 'HTML', 'ASP.NET', 'XML', 'JIRA']\": 1,\n",
       " \"['JavaScript', 'Java', 'Go', 'TypeScript', 'HTML', 'CSS', 'Angular', 'Git', 'Bootstrap']\": 1,\n",
       " \"['Python', 'JavaScript', 'Java', 'PHP', 'Ruby', 'Go', 'SQL', 'CSS', 'React', 'Angular', 'Git', 'AWS', 'Azure', 'Linux', 'MySQL', 'Bootstrap', 'Laravel', 'Bitbucket']\": 1,\n",
       " \"['JavaScript', 'Java', 'C#', 'SQL', 'HTML', 'CSS', 'Angular', 'ASP.NET', 'Azure', 'OAuth', 'Bootstrap', 'Foundation']\": 1,\n",
       " \"['C#', 'SQL', 'ASP.NET', 'AWS']\": 1,\n",
       " \"['Java', 'REST API', 'Linux', 'Unix']\": 1,\n",
       " \"['ASP.NET', 'Git']\": 1,\n",
       " \"['JavaScript', 'Java', 'Ruby', 'Go', 'HTML', 'CSS', 'React', 'Ruby on Rails', 'Git', 'Jenkins', 'Docker', 'AWS', 'Google Cloud']\": 1,\n",
       " \"['JavaScript', 'Java', 'C#', 'TypeScript', 'HTML', 'CSS', 'Git', 'Azure']\": 1,\n",
       " \"['JavaScript', 'Java', 'TypeScript', 'React']\": 1,\n",
       " \"['PHP', 'Go', 'JSON', 'XML', 'OAuth']\": 1,\n",
       " \"['JavaScript', 'Java', 'Go', 'SQL', 'HTML', 'CSS', 'React', 'Angular', 'Spring', 'Docker', 'AWS', 'MySQL', 'MongoDB', 'AngularJS']\": 1,\n",
       " \"['JavaScript', 'Java', 'Go', 'SQL', 'HTML', 'CSS', 'React', 'REST API', 'Git', 'MySQL', 'PostgreSQL', 'MongoDB']\": 1,\n",
       " \"['Java', 'Go', 'Spring', 'Git']\": 1,\n",
       " \"['JavaScript', 'Java', 'C#', 'Go', 'SQL', 'HTML', 'CSS', 'React', 'Angular', 'ASP.NET', 'Git', 'Azure', 'Sass']\": 1,\n",
       " \"['JavaScript', 'Java', 'Go', 'JSON', 'Git']\": 1,\n",
       " \"['C#', 'Go', 'ASP.NET', 'AWS']\": 1,\n",
       " \"['JavaScript', 'Java', 'Go', 'SQL', 'HTML', 'CSS', 'React', 'Vue.js']\": 1,\n",
       " \"['JavaScript', 'Java', 'PHP', 'Go', 'HTML', 'CSS', 'React', 'Git']\": 1,\n",
       " \"['JavaScript', 'Java', 'C#', 'Go', 'SQL', 'NoSQL', 'HTML', 'CSS', 'ASP.NET', 'Git', 'AWS', 'Azure']\": 1,\n",
       " \"['Java', 'C#', 'ASP.NET', 'Git', 'Azure', 'Windows']\": 1,\n",
       " \"['JavaScript', 'Java', 'PHP', 'SQL', 'HTML', 'AWS', 'MySQL', 'Laravel']\": 1,\n",
       " \"['JavaScript', 'Java', 'Angular', 'ASP.NET', 'Git', 'AWS', 'Bootstrap']\": 1,\n",
       " \"['Python', 'PHP', 'Go', 'SQL', 'HTML', 'CSS', 'Git', 'Google Cloud', 'Laravel']\": 1,\n",
       " \"['JavaScript', 'Java', 'PHP', 'HTML', 'CSS', 'JSON', 'Git', 'Docker', 'Linux', 'Laravel', 'JIRA']\": 1,\n",
       " \"['JavaScript', 'Java', 'Go', 'SQL', 'HTML']\": 1,\n",
       " \"['Python', 'JavaScript', 'Java', 'SQL', 'HTML', 'CSS', 'React', 'Git', 'Jenkins']\": 1,\n",
       " \"['Java', 'Go', 'SQL', 'NoSQL', 'Git', 'Jenkins', 'AWS', 'Azure']\": 1,\n",
       " \"['JavaScript', 'Java', 'C#', 'PHP', 'SQL', 'AWS', 'Linux']\": 1,\n",
       " \"['JavaScript', 'Java', 'HTML', 'CSS', 'React', 'Git', 'Linux', 'Webpack']\": 1,\n",
       " \"['PHP', 'React', 'Node.js']\": 1,\n",
       " \"['JavaScript', 'Java', 'C#', 'HTML', 'CSS', 'Azure']\": 1,\n",
       " \"['JavaScript', 'Java', 'C#', 'SQL', 'ASP.NET', 'Git', 'Jenkins', 'Foundation']\": 1,\n",
       " \"['JavaScript', 'Java', 'SQL', 'React', 'Spring', 'Git', 'Jenkins', 'Bitbucket']\": 1,\n",
       " \"['Python']\": 1,\n",
       " \"['JavaScript', 'Java', 'C#', 'Go', 'SQL', 'CSS', 'ASP.NET', 'XML', 'Git', 'Azure', 'Foundation']\": 1,\n",
       " \"['JavaScript', 'Java', 'C#', 'SQL', 'HTML', 'React', 'Node.js', 'ASP.NET']\": 1,\n",
       " \"['Python', 'Java', 'C++', 'SQL', 'AWS', 'Azure']\": 1,\n",
       " \"['Python', 'C++', 'C#', 'Go', 'Git']\": 1,\n",
       " \"['JavaScript', 'Java', 'Go', 'HTML', 'CSS', 'Angular', 'Spring', 'REST API', 'Git', 'Bootstrap', 'AngularJS']\": 1,\n",
       " \"['JavaScript', 'Java', 'C#', 'Go', 'SQL', 'HTML', 'CSS', 'Angular', 'JSON', 'Git', 'AWS', 'Bootstrap']\": 1,\n",
       " \"['Python', 'JavaScript', 'Java', 'Go', 'SQL', 'Angular', 'AWS', 'MySQL', 'AngularJS']\": 1,\n",
       " \"['Python', 'JavaScript', 'Java', 'PHP', 'SQL', 'HTML', 'Git', 'MySQL']\": 1,\n",
       " \"['JavaScript', 'Java', 'TypeScript', 'React', 'GraphQL', 'Docker']\": 1,\n",
       " \"['Python', 'JavaScript', 'Java', 'SQL', 'React', 'Git', 'AWS']\": 1,\n",
       " \"['Python', 'JavaScript', 'Java', 'Go', 'React', 'GraphQL', 'Google Cloud', 'Foundation']\": 1,\n",
       " \"['Python', 'JavaScript', 'Java', 'Go', 'REST API', 'Git']\": 1,\n",
       " \"['JavaScript', 'Java', 'Go', 'HTML', 'CSS', 'Node.js']\": 1,\n",
       " \"['Java', 'React', 'AWS']\": 1,\n",
       " \"['Python', 'Go', 'JSON', 'Git', 'AWS', 'Linux', 'OAuth']\": 1,\n",
       " \"['C++', 'Go', 'Linux', 'Unix']\": 1,\n",
       " \"['Python', 'Java', 'Linux']\": 1,\n",
       " \"['Go', 'SQL', 'Angular']\": 1,\n",
       " \"['JavaScript', 'Java', 'SQL', 'HTML', 'CSS', 'ASP.NET', 'Docker', 'AWS', 'Azure', 'Foundation']\": 1,\n",
       " \"['Java', 'Spring', 'JSON', 'XML']\": 1,\n",
       " \"['JavaScript', 'Java', 'C++', 'Ruby', 'Go', 'React', 'AWS']\": 1,\n",
       " \"['Go', 'REST API', 'JSON', 'Jenkins', 'Bitbucket']\": 1,\n",
       " \"['Java', 'C#', 'Go']\": 1,\n",
       " \"['Python', 'Java', 'C++', 'C#', 'SQL', 'NoSQL', 'MySQL']\": 1,\n",
       " \"['Python', 'C++', 'Go', 'Docker']\": 1,\n",
       " \"['Go', 'AWS', 'Linux']\": 1,\n",
       " \"['JavaScript', 'Java', 'C++', 'C#', 'Go', 'SQL', 'HTML', 'CSS', 'REST API', 'XML', 'OAuth', 'Bootstrap', 'Foundation']\": 1,\n",
       " \"['Java', 'C++', 'Go', 'SQL', 'Linux', 'Unix', 'Windows']\": 1,\n",
       " \"['Python', 'JavaScript', 'Java', 'Go', 'SQL', 'AWS', 'Linux', 'Unix', 'MySQL', 'PostgreSQL', 'MongoDB']\": 1,\n",
       " \"['JavaScript', 'Java', 'Go', 'TypeScript', 'React', 'Node.js', 'Git', 'Google Cloud']\": 1,\n",
       " \"['Java', 'SQL', 'Git', 'Foundation']\": 1,\n",
       " \"['Java', 'Go', 'SQL', 'HTML', 'XML', 'Git', 'AWS', 'Linux']\": 1,\n",
       " \"['Python', 'Java', 'C++', 'Go', 'Spring', 'Git', 'Linux', 'JIRA']\": 1,\n",
       " \"['C++', 'Go', 'Linux', 'JIRA']\": 1,\n",
       " \"['Java', 'Go', 'REST API', 'JSON', 'Git', 'Foundation']\": 1,\n",
       " \"['C#', 'Go', 'Git']\": 1,\n",
       " \"['JavaScript', 'Java', 'PHP', 'HTML', 'CSS', 'Git']\": 1,\n",
       " \"['C#', 'Azure', 'Linux', 'Windows']\": 1,\n",
       " \"['SQL', 'HTML', 'CSS', 'REST API']\": 1,\n",
       " \"['C#', 'Go', 'TypeScript', 'SQL', 'React', 'Angular', 'ASP.NET', 'Git', 'Azure']\": 1,\n",
       " \"['JavaScript', 'Java', 'C#', 'SQL', 'HTML', 'CSS', 'ASP.NET', 'JSON', 'Git', 'Windows']\": 1,\n",
       " \"['Python', 'C++', 'AWS', 'Linux']\": 1,\n",
       " \"['JavaScript', 'Java', 'Go', 'SQL', 'HTML', 'CSS', 'ASP.NET', 'XML', 'Windows', 'Bootstrap', 'Knockout.js']\": 1,\n",
       " \"['Python', 'C++', 'Git', 'Linux', 'JIRA', 'Bitbucket']\": 1,\n",
       " \"['Python', 'Java', 'C++', 'Go']\": 1,\n",
       " \"['Python', 'Java', 'Go', 'Git', 'Azure', 'Linux', 'Windows', 'Foundation']\": 1,\n",
       " \"['JavaScript', 'Java', 'Go', 'HTML', 'CSS', 'React', 'Angular', 'Vue.js', 'Git', 'AWS']\": 1,\n",
       " \"['JavaScript', 'Java', 'Go', 'TypeScript', 'SQL', 'NoSQL', 'Node.js', 'GraphQL', 'Git']\": 1,\n",
       " \"['JavaScript', 'Java', 'Go', 'SQL', 'HTML', 'CSS', 'React', 'Spring', 'Git', 'JIRA']\": 1,\n",
       " \"['JavaScript', 'Java', 'C#', 'Go', 'SQL', 'ASP.NET']\": 1,\n",
       " \"['JavaScript', 'Java', 'C#', 'PHP', 'Swift', 'Go', 'SQL', 'HTML', 'CSS', 'ASP.NET', 'AWS']\": 1,\n",
       " \"['Python', 'Java', 'PHP', 'Go', 'SQL', 'AWS', 'Azure', 'Google Cloud', 'Linux', 'Unix', 'Windows', 'MySQL', 'Foundation']\": 1,\n",
       " \"['Python', 'Java', 'C++', 'C#', 'Go', 'SQL']\": 1,\n",
       " \"['Python', 'Java', 'SQL', 'Azure']\": 1,\n",
       " \"['JavaScript', 'Java', 'Ruby', 'Go', 'HTML', 'CSS', 'React', 'Ruby on Rails']\": 1,\n",
       " \"['Python', 'Java', 'C++', 'Go', 'Spring', 'JSON', 'XML', 'AWS']\": 1,\n",
       " \"['JavaScript', 'Java', 'PHP', 'SQL', 'HTML', 'CSS', 'React', 'Angular', 'Node.js', 'JSON', 'XML', 'Jenkins', 'AWS', 'Bootstrap', 'AngularJS']\": 1,\n",
       " \"['C#', 'Go', 'Foundation']\": 1,\n",
       " \"['JavaScript', 'Java', 'C#', 'Go', 'TypeScript', 'SQL', 'React', 'Angular', 'Vue.js', 'Node.js', 'ASP.NET', 'AWS', 'Azure', 'MongoDB']\": 1,\n",
       " \"['Python', 'Java', 'SQL', 'Git', 'Linux']\": 1,\n",
       " \"['Go', 'Linux', 'Unix', 'Windows', 'OAuth']\": 1,\n",
       " \"['JavaScript', 'Java', 'Go', 'CSS', 'Git', 'AWS']\": 1,\n",
       " \"['Python', 'JavaScript', 'Java', 'Go', 'SQL', 'React', 'Django', 'Flask', 'REST API', 'AWS', 'MySQL', 'PostgreSQL', 'MongoDB', 'JIRA']\": 1,\n",
       " nan: 1}"
      ]
     },
     "execution_count": 174,
     "metadata": {},
     "output_type": "execute_result"
    }
   ],
   "source": [
    "all_skills = df_data_clean.explode('skills')['skills'].tolist()\n",
    "skill_counts = {}\n",
    "for skill in all_skills:\n",
    "    skill_counts[skill] = skill_counts.get(skill, 0) + 1\n",
    "skill_counts"
   ]
  },
  {
   "cell_type": "code",
   "execution_count": null,
   "id": "0db5786c",
   "metadata": {},
   "outputs": [],
   "source": []
  },
  {
   "cell_type": "code",
   "execution_count": null,
   "id": "df48ba61",
   "metadata": {},
   "outputs": [],
   "source": []
  },
  {
   "cell_type": "code",
   "execution_count": null,
   "id": "3ddd6b6b",
   "metadata": {},
   "outputs": [],
   "source": []
  },
  {
   "cell_type": "code",
   "execution_count": null,
   "id": "60c0ccdb",
   "metadata": {},
   "outputs": [],
   "source": []
  },
  {
   "cell_type": "code",
   "execution_count": 125,
   "id": "e42a8950",
   "metadata": {},
   "outputs": [
    {
     "name": "stdout",
     "output_type": "stream",
     "text": [
      "<class 'pandas.core.frame.DataFrame'>\n",
      "Int64Index: 41 entries, 31 to 3495\n",
      "Data columns (total 8 columns):\n",
      " #   Column            Non-Null Count  Dtype  \n",
      "---  ------            --------------  -----  \n",
      " 0   job_title         41 non-null     object \n",
      " 1   company_name      41 non-null     object \n",
      " 2   company_location  41 non-null     object \n",
      " 3   salary            41 non-null     object \n",
      " 4   skills            41 non-null     object \n",
      " 5   salary_min        41 non-null     float64\n",
      " 6   state             41 non-null     object \n",
      " 7   work_mode         41 non-null     object \n",
      "dtypes: float64(1), object(7)\n",
      "memory usage: 2.9+ KB\n"
     ]
    }
   ],
   "source": [
    "new_york = df_data_clean.query(\"state == 'NY'\")\n",
    "new_york.info()"
   ]
  },
  {
   "cell_type": "markdown",
   "id": "fe6f9b2f",
   "metadata": {},
   "source": []
  },
  {
   "cell_type": "code",
   "execution_count": null,
   "id": "b50a750a",
   "metadata": {},
   "outputs": [],
   "source": []
  },
  {
   "cell_type": "code",
   "execution_count": null,
   "id": "b79cea46",
   "metadata": {},
   "outputs": [],
   "source": []
  },
  {
   "cell_type": "code",
   "execution_count": null,
   "id": "cd25ab12",
   "metadata": {},
   "outputs": [],
   "source": []
  },
  {
   "cell_type": "code",
   "execution_count": null,
   "id": "0846088b",
   "metadata": {},
   "outputs": [],
   "source": []
  },
  {
   "cell_type": "code",
   "execution_count": null,
   "id": "801bd0b8",
   "metadata": {},
   "outputs": [],
   "source": []
  },
  {
   "cell_type": "code",
   "execution_count": null,
   "id": "437d20fa",
   "metadata": {},
   "outputs": [],
   "source": []
  }
 ],
 "metadata": {
  "kernelspec": {
   "display_name": "Python 3 (ipykernel)",
   "language": "python",
   "name": "python3"
  },
  "language_info": {
   "codemirror_mode": {
    "name": "ipython",
    "version": 3
   },
   "file_extension": ".py",
   "mimetype": "text/x-python",
   "name": "python",
   "nbconvert_exporter": "python",
   "pygments_lexer": "ipython3",
   "version": "3.10.9"
  }
 },
 "nbformat": 4,
 "nbformat_minor": 5
}
